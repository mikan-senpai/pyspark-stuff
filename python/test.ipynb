{
 "cells": [
  {
   "cell_type": "markdown",
   "id": "1a2a663a-3da3-46a8-81a3-4007b6ac9990",
   "metadata": {},
   "source": [
    "### string"
   ]
  },
  {
   "cell_type": "code",
   "execution_count": 1,
   "id": "2bb29fcb-0526-4ef9-b1d5-678087e8aded",
   "metadata": {},
   "outputs": [],
   "source": [
    "txt = \"\"\"hello this is mikan/\n",
    "this is mikan/\n",
    "mikan \"\"\"\n",
    "      "
   ]
  },
  {
   "cell_type": "code",
   "execution_count": 2,
   "id": "1f9af875-4592-4ef6-9fb8-d5e0acd1cb1a",
   "metadata": {},
   "outputs": [
    {
     "name": "stdout",
     "output_type": "stream",
     "text": [
      "hello this is mikan/\n",
      "this is mikan/\n",
      "mikan \n"
     ]
    }
   ],
   "source": [
    "print(txt)"
   ]
  },
  {
   "cell_type": "code",
   "execution_count": 3,
   "id": "85416182-06c4-4d1c-9dcb-966e824b583e",
   "metadata": {},
   "outputs": [
    {
     "name": "stdout",
     "output_type": "stream",
     "text": [
      "C:\\desktop\\new.txt\n"
     ]
    }
   ],
   "source": [
    "print(\"C:\\\\desktop\\\\new.txt\")"
   ]
  },
  {
   "cell_type": "markdown",
   "id": "c2f23ad0-4ce3-4296-8f73-535ec6b1c3d0",
   "metadata": {},
   "source": [
    "##### strrings are immutable , iterable sequence of characters. These characters can be letters, numbers, symbols, or whitespace.\n",
    "They are like arrays "
   ]
  },
  {
   "cell_type": "code",
   "execution_count": 4,
   "id": "8f041813-5cde-40c4-a0cb-3fd95e43978e",
   "metadata": {},
   "outputs": [
    {
     "name": "stdout",
     "output_type": "stream",
     "text": [
      "140735743216344\n",
      "2222659160464\n",
      "2222692642816\n"
     ]
    }
   ],
   "source": [
    "a= 10\n",
    "print(id(a))\n",
    "a = \"check if this is that same strring or not\"\n",
    "print(id(a))\n",
    "a= \"mikan\"\n",
    "print(id(a))"
   ]
  },
  {
   "cell_type": "code",
   "execution_count": 5,
   "id": "ea44a475-ab7d-4cc2-95ba-05cdb5a776eb",
   "metadata": {},
   "outputs": [
    {
     "name": "stdout",
     "output_type": "stream",
     "text": [
      "2222692642816\n",
      "2222692642816\n",
      "2222692642816\n"
     ]
    }
   ],
   "source": [
    "a=b=v=\"mikan\"\n",
    "print(id(a))\n",
    "print(id(b))\n",
    "print(id(v))\n",
    "\n"
   ]
  },
  {
   "cell_type": "code",
   "execution_count": 6,
   "id": "d4b7024d-ab9f-482c-a419-94ca1698f65d",
   "metadata": {},
   "outputs": [
    {
     "name": "stdout",
     "output_type": "stream",
     "text": [
      "mikan"
     ]
    }
   ],
   "source": [
    "str = \"mikan\"\n",
    "for i in str:print(i,end='')"
   ]
  },
  {
   "cell_type": "code",
   "execution_count": 7,
   "id": "bb3c5890-b08a-475d-9b63-5c343f16483a",
   "metadata": {},
   "outputs": [
    {
     "data": {
      "text/plain": [
       "'i'"
      ]
     },
     "execution_count": 7,
     "metadata": {},
     "output_type": "execute_result"
    }
   ],
   "source": [
    "str[1]"
   ]
  },
  {
   "cell_type": "markdown",
   "id": "02508eb3-ef62-48af-8ff2-7972186c5777",
   "metadata": {},
   "source": [
    "check in strring"
   ]
  },
  {
   "cell_type": "code",
   "execution_count": 8,
   "id": "0de552ac-eff9-4431-9aa6-2c2148e19e5a",
   "metadata": {},
   "outputs": [
    {
     "name": "stdout",
     "output_type": "stream",
     "text": [
      "False\n"
     ]
    }
   ],
   "source": [
    "print('txt 'in str)"
   ]
  },
  {
   "cell_type": "code",
   "execution_count": 9,
   "id": "3905e0c5-ecca-438a-9a83-fc3e98eb909e",
   "metadata": {},
   "outputs": [],
   "source": [
    "if 'txt' in str :\n",
    "    print(\"present\")"
   ]
  },
  {
   "cell_type": "code",
   "execution_count": 10,
   "id": "e4461d82-aa46-4bea-b121-01c04bb82c86",
   "metadata": {},
   "outputs": [
    {
     "name": "stdout",
     "output_type": "stream",
     "text": [
      "hehe\n"
     ]
    }
   ],
   "source": [
    "txt = \"this is a string\"\n",
    "if txt not in \"mikan\":\n",
    "    print(\"hehe\")\n",
    "else:\n",
    "    print(\"hi\")"
   ]
  },
  {
   "cell_type": "markdown",
   "id": "ba83f611-1583-4f82-9516-38b68ae39ea4",
   "metadata": {},
   "source": [
    "#### Slicing\n",
    " - You can return a range of characters by using the slice syntax.\n",
    " - Specify the start index and the end index, separated by a colon, to return a part of the string."
   ]
  },
  {
   "cell_type": "code",
   "execution_count": 11,
   "id": "dd0d9582-d49d-416a-8124-47f63722b1d4",
   "metadata": {},
   "outputs": [
    {
     "name": "stdout",
     "output_type": "stream",
     "text": [
      "h\n"
     ]
    }
   ],
   "source": [
    "txt  = \"this is mikan  \"\n",
    "print(txt[1:2])"
   ]
  },
  {
   "cell_type": "code",
   "execution_count": 16,
   "id": "e06a2cf5-be18-455e-abe0-d5057e84051f",
   "metadata": {},
   "outputs": [
    {
     "name": "stdout",
     "output_type": "stream",
     "text": [
      "thi\n",
      "s mikan  \n"
     ]
    }
   ],
   "source": [
    "# from start \n",
    "print(txt[:3])\n",
    "# to the end\n",
    "print(txt[6:])"
   ]
  },
  {
   "cell_type": "code",
   "execution_count": 29,
   "id": "f930e603-5f4d-465f-a179-3884347ed547",
   "metadata": {},
   "outputs": [
    {
     "name": "stdout",
     "output_type": "stream",
     "text": [
      "boog\n"
     ]
    }
   ],
   "source": [
    "txt = \"oogabooga\"\n",
    "print(txt[-5:-1])"
   ]
  },
  {
   "cell_type": "code",
   "execution_count": 35,
   "id": "75d88e56-21af-479e-86f0-230538d80997",
   "metadata": {},
   "outputs": [
    {
     "name": "stdout",
     "output_type": "stream",
     "text": [
      "agoobagoo\n"
     ]
    }
   ],
   "source": [
    "#reversing a string with slice\n",
    "print(txt[::-1])"
   ]
  },
  {
   "cell_type": "code",
   "execution_count": 37,
   "id": "28803bd8-6f02-41a5-8621-f988c7c4e1ba",
   "metadata": {},
   "outputs": [
    {
     "name": "stdout",
     "output_type": "stream",
     "text": [
      "oao\n"
     ]
    }
   ],
   "source": [
    "# giving alternate characters of a string \n",
    "print(txt[::3])"
   ]
  },
  {
   "cell_type": "markdown",
   "id": "f247075c-e4e1-4523-bb70-936057f2141c",
   "metadata": {},
   "source": []
  },
  {
   "cell_type": "code",
   "execution_count": null,
   "id": "d3c5e2f9-a930-4ffe-b144-776a2a557825",
   "metadata": {},
   "outputs": [],
   "source": []
  },
  {
   "cell_type": "code",
   "execution_count": 38,
   "id": "ba498dd5-cd05-4020-8dce-61d2908cb1ea",
   "metadata": {},
   "outputs": [],
   "source": [
    "import pandas as pd "
   ]
  },
  {
   "cell_type": "code",
   "execution_count": 39,
   "id": "fbf8dc23-fff0-466a-9d2c-806ce461660b",
   "metadata": {},
   "outputs": [],
   "source": [
    "from numpy.random import  randn"
   ]
  },
  {
   "cell_type": "markdown",
   "id": "8a6d76e3-e789-4b96-9710-8be722471c25",
   "metadata": {},
   "source": [
    "loc->  access you index value \n",
    "iloc - > access via numerical index  "
   ]
  },
  {
   "cell_type": "code",
   "execution_count": null,
   "id": "0ae80718-9a12-42fa-a278-91f186e2aaca",
   "metadata": {},
   "outputs": [],
   "source": []
  },
  {
   "cell_type": "code",
   "execution_count": null,
   "id": "3273fd31-5c8a-4d7b-8250-35d31e8b893f",
   "metadata": {},
   "outputs": [],
   "source": []
  },
  {
   "cell_type": "code",
   "execution_count": null,
   "id": "9841e2e0-e26b-4602-8a64-2c00ddc8d06e",
   "metadata": {},
   "outputs": [],
   "source": []
  },
  {
   "cell_type": "code",
   "execution_count": null,
   "id": "752c1542-d583-43e5-9e3a-96622c8d5da8",
   "metadata": {},
   "outputs": [],
   "source": []
  },
  {
   "cell_type": "code",
   "execution_count": null,
   "id": "ae9e45a1-1028-4118-b629-c858699fe35e",
   "metadata": {},
   "outputs": [],
   "source": []
  },
  {
   "cell_type": "code",
   "execution_count": null,
   "id": "c6b180db-7993-4411-a0c7-d8f966ddb1df",
   "metadata": {},
   "outputs": [],
   "source": []
  }
 ],
 "metadata": {
  "kernelspec": {
   "display_name": "Python 3 (ipykernel)",
   "language": "python",
   "name": "python3"
  },
  "language_info": {
   "codemirror_mode": {
    "name": "ipython",
    "version": 3
   },
   "file_extension": ".py",
   "mimetype": "text/x-python",
   "name": "python",
   "nbconvert_exporter": "python",
   "pygments_lexer": "ipython3",
   "version": "3.12.2"
  }
 },
 "nbformat": 4,
 "nbformat_minor": 5
}
