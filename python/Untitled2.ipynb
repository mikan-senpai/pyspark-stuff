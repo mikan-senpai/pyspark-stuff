{
 "cells": [
  {
   "cell_type": "code",
   "execution_count": 160,
   "id": "df12688d",
   "metadata": {},
   "outputs": [],
   "source": [
    "st='hi how are you'"
   ]
  },
  {
   "cell_type": "code",
   "execution_count": 161,
   "id": "d008199a",
   "metadata": {},
   "outputs": [
    {
     "name": "stdout",
     "output_type": "stream",
     "text": [
      "hi how are you\n"
     ]
    }
   ],
   "source": [
    "print(st)"
   ]
  },
  {
   "cell_type": "code",
   "execution_count": 3,
   "id": "89e3b595",
   "metadata": {},
   "outputs": [],
   "source": [
    "st =\"hi how are you\""
   ]
  },
  {
   "cell_type": "code",
   "execution_count": 4,
   "id": "c98f557d",
   "metadata": {},
   "outputs": [
    {
     "data": {
      "text/plain": [
       "'hi how are you'"
      ]
     },
     "execution_count": 4,
     "metadata": {},
     "output_type": "execute_result"
    }
   ],
   "source": [
    "st"
   ]
  },
  {
   "cell_type": "code",
   "execution_count": 5,
   "id": "1f7accd9",
   "metadata": {},
   "outputs": [],
   "source": [
    "st =\"this is babjee's laptop\""
   ]
  },
  {
   "cell_type": "code",
   "execution_count": 6,
   "id": "78a31020",
   "metadata": {},
   "outputs": [
    {
     "data": {
      "text/plain": [
       "\"this is babjee's laptop\""
      ]
     },
     "execution_count": 6,
     "metadata": {},
     "output_type": "execute_result"
    }
   ],
   "source": [
    "st"
   ]
  },
  {
   "cell_type": "code",
   "execution_count": 7,
   "id": "3a652e8c",
   "metadata": {},
   "outputs": [],
   "source": [
    "st ='''hi how are you\n",
    "how is your day\n",
    "how is your brother'''"
   ]
  },
  {
   "cell_type": "code",
   "execution_count": 8,
   "id": "45d16315",
   "metadata": {},
   "outputs": [
    {
     "data": {
      "text/plain": [
       "'hi how are you\\nhow is your day\\nhow is your brother'"
      ]
     },
     "execution_count": 8,
     "metadata": {},
     "output_type": "execute_result"
    }
   ],
   "source": [
    "st"
   ]
  },
  {
   "cell_type": "code",
   "execution_count": 9,
   "id": "736ab7bf",
   "metadata": {},
   "outputs": [
    {
     "name": "stdout",
     "output_type": "stream",
     "text": [
      "hi how are you\n",
      "how is your day\n",
      "how is your brother\n"
     ]
    }
   ],
   "source": [
    "print(st)"
   ]
  },
  {
   "cell_type": "code",
   "execution_count": 162,
   "id": "4d2ef839",
   "metadata": {},
   "outputs": [],
   "source": [
    "varInt =10"
   ]
  },
  {
   "cell_type": "code",
   "execution_count": 163,
   "id": "0e816224",
   "metadata": {},
   "outputs": [
    {
     "data": {
      "text/plain": [
       "int"
      ]
     },
     "execution_count": 163,
     "metadata": {},
     "output_type": "execute_result"
    }
   ],
   "source": [
    "type(varInt)"
   ]
  },
  {
   "cell_type": "code",
   "execution_count": 164,
   "id": "4e091856",
   "metadata": {},
   "outputs": [],
   "source": [
    "varPi =20.2"
   ]
  },
  {
   "cell_type": "code",
   "execution_count": 167,
   "id": "d443d8de",
   "metadata": {},
   "outputs": [],
   "source": [
    "a = 10 >5"
   ]
  },
  {
   "cell_type": "code",
   "execution_count": 168,
   "id": "d9ed377f",
   "metadata": {},
   "outputs": [
    {
     "data": {
      "text/plain": [
       "bool"
      ]
     },
     "execution_count": 168,
     "metadata": {},
     "output_type": "execute_result"
    }
   ],
   "source": [
    "type(a)"
   ]
  },
  {
   "cell_type": "code",
   "execution_count": 15,
   "id": "a6ebed5d",
   "metadata": {},
   "outputs": [
    {
     "data": {
      "text/plain": [
       "bool"
      ]
     },
     "execution_count": 15,
     "metadata": {},
     "output_type": "execute_result"
    }
   ],
   "source": [
    "type(a)"
   ]
  },
  {
   "cell_type": "code",
   "execution_count": 173,
   "id": "110af731",
   "metadata": {},
   "outputs": [],
   "source": [
    "a=b=c=10"
   ]
  },
  {
   "cell_type": "code",
   "execution_count": 18,
   "id": "72d3574f",
   "metadata": {
    "scrolled": true
   },
   "outputs": [
    {
     "name": "stdout",
     "output_type": "stream",
     "text": [
      "10 10 10\n"
     ]
    }
   ],
   "source": [
    "print(a,b,c)"
   ]
  },
  {
   "cell_type": "code",
   "execution_count": 175,
   "id": "44584ac5",
   "metadata": {},
   "outputs": [],
   "source": [
    "a,b,c =10,20,30"
   ]
  },
  {
   "cell_type": "code",
   "execution_count": 176,
   "id": "4d741e58",
   "metadata": {},
   "outputs": [
    {
     "name": "stdout",
     "output_type": "stream",
     "text": [
      "140708157625416\n",
      "140708157626056\n",
      "140708157626056\n"
     ]
    }
   ],
   "source": [
    "print(id(a))\n",
    "print(id(c))\n",
    "print(id(c))\n"
   ]
  },
  {
   "cell_type": "code",
   "execution_count": 177,
   "id": "c13b7f50",
   "metadata": {},
   "outputs": [],
   "source": [
    "import datetime\n",
    ">>> d = datetime.datetime(2009, 10, 5, 18, 00)"
   ]
  },
  {
   "cell_type": "code",
   "execution_count": 178,
   "id": "5f21eeef",
   "metadata": {},
   "outputs": [
    {
     "data": {
      "text/plain": [
       "datetime.datetime"
      ]
     },
     "execution_count": 178,
     "metadata": {},
     "output_type": "execute_result"
    }
   ],
   "source": [
    "type(d)"
   ]
  },
  {
   "cell_type": "code",
   "execution_count": 179,
   "id": "a029f00e",
   "metadata": {},
   "outputs": [],
   "source": [
    "st='hi how are you'"
   ]
  },
  {
   "cell_type": "code",
   "execution_count": 180,
   "id": "f6272ccd",
   "metadata": {},
   "outputs": [
    {
     "data": {
      "text/plain": [
       "'h'"
      ]
     },
     "execution_count": 180,
     "metadata": {},
     "output_type": "execute_result"
    }
   ],
   "source": [
    "st[0]"
   ]
  },
  {
   "cell_type": "code",
   "execution_count": 181,
   "id": "26e49d83",
   "metadata": {},
   "outputs": [
    {
     "data": {
      "text/plain": [
       "'u'"
      ]
     },
     "execution_count": 181,
     "metadata": {},
     "output_type": "execute_result"
    }
   ],
   "source": [
    "st[-1]"
   ]
  },
  {
   "cell_type": "code",
   "execution_count": 184,
   "id": "57293598",
   "metadata": {},
   "outputs": [
    {
     "data": {
      "text/plain": [
       "'hi '"
      ]
     },
     "execution_count": 184,
     "metadata": {},
     "output_type": "execute_result"
    }
   ],
   "source": [
    "st[:3]"
   ]
  },
  {
   "cell_type": "code",
   "execution_count": 185,
   "id": "53e6f41b",
   "metadata": {},
   "outputs": [
    {
     "data": {
      "text/plain": [
       "'uoy era woh ih'"
      ]
     },
     "execution_count": 185,
     "metadata": {},
     "output_type": "execute_result"
    }
   ],
   "source": [
    "st[::-1]"
   ]
  },
  {
   "cell_type": "code",
   "execution_count": 186,
   "id": "b22f8475",
   "metadata": {},
   "outputs": [
    {
     "data": {
      "text/plain": [
       "'h o r o'"
      ]
     },
     "execution_count": 186,
     "metadata": {},
     "output_type": "execute_result"
    }
   ],
   "source": [
    "st[::2]"
   ]
  },
  {
   "cell_type": "code",
   "execution_count": 39,
   "id": "6aac6d51",
   "metadata": {},
   "outputs": [
    {
     "data": {
      "text/plain": [
       "'e y'"
      ]
     },
     "execution_count": 39,
     "metadata": {},
     "output_type": "execute_result"
    }
   ],
   "source": [
    "st[-5:-2]"
   ]
  },
  {
   "cell_type": "code",
   "execution_count": 187,
   "id": "17bd6265",
   "metadata": {},
   "outputs": [
    {
     "data": {
      "text/plain": [
       "'Hi how are you'"
      ]
     },
     "execution_count": 187,
     "metadata": {},
     "output_type": "execute_result"
    }
   ],
   "source": [
    "st.capitalize()"
   ]
  },
  {
   "cell_type": "code",
   "execution_count": 188,
   "id": "269e363f",
   "metadata": {},
   "outputs": [
    {
     "data": {
      "text/plain": [
       "'        hi how are you        '"
      ]
     },
     "execution_count": 188,
     "metadata": {},
     "output_type": "execute_result"
    }
   ],
   "source": [
    "st.center(30)"
   ]
  },
  {
   "cell_type": "code",
   "execution_count": 190,
   "id": "f22de194",
   "metadata": {},
   "outputs": [
    {
     "data": {
      "text/plain": [
       "1"
      ]
     },
     "execution_count": 190,
     "metadata": {},
     "output_type": "execute_result"
    }
   ],
   "source": [
    "st.count('hi')"
   ]
  },
  {
   "cell_type": "code",
   "execution_count": 191,
   "id": "9e286222",
   "metadata": {},
   "outputs": [
    {
     "data": {
      "text/plain": [
       "7"
      ]
     },
     "execution_count": 191,
     "metadata": {},
     "output_type": "execute_result"
    }
   ],
   "source": [
    "st.find('are')"
   ]
  },
  {
   "cell_type": "code",
   "execution_count": 45,
   "id": "44092545",
   "metadata": {},
   "outputs": [
    {
     "data": {
      "text/plain": [
       "'My name is Ram and I am 22 year old'"
      ]
     },
     "execution_count": 45,
     "metadata": {},
     "output_type": "execute_result"
    }
   ],
   "source": [
    "\n",
    "\n",
    "name = \"Ram\"\n",
    "age = 22\n",
    "message = \"My name is {0} and I am {1} year old\"\n",
    "message.format(name,age)"
   ]
  },
  {
   "cell_type": "code",
   "execution_count": 192,
   "id": "d456c5cd",
   "metadata": {},
   "outputs": [
    {
     "data": {
      "text/plain": [
       "3"
      ]
     },
     "execution_count": 192,
     "metadata": {},
     "output_type": "execute_result"
    }
   ],
   "source": [
    "st.index('how')"
   ]
  },
  {
   "cell_type": "code",
   "execution_count": 194,
   "id": "15021d9c",
   "metadata": {},
   "outputs": [
    {
     "data": {
      "text/plain": [
       "True"
      ]
     },
     "execution_count": 194,
     "metadata": {},
     "output_type": "execute_result"
    }
   ],
   "source": [
    "\"hi123\".isalnum()"
   ]
  },
  {
   "cell_type": "code",
   "execution_count": 196,
   "id": "4daa7b2f",
   "metadata": {},
   "outputs": [
    {
     "data": {
      "text/plain": [
       "True"
      ]
     },
     "execution_count": 196,
     "metadata": {},
     "output_type": "execute_result"
    }
   ],
   "source": [
    "'hi'.isalpha()"
   ]
  },
  {
   "cell_type": "code",
   "execution_count": 49,
   "id": "96ae6d44",
   "metadata": {},
   "outputs": [
    {
     "data": {
      "text/plain": [
       "True"
      ]
     },
     "execution_count": 49,
     "metadata": {},
     "output_type": "execute_result"
    }
   ],
   "source": [
    "st.isascii()"
   ]
  },
  {
   "cell_type": "code",
   "execution_count": 50,
   "id": "09925962",
   "metadata": {},
   "outputs": [
    {
     "data": {
      "text/plain": [
       "False"
      ]
     },
     "execution_count": 50,
     "metadata": {},
     "output_type": "execute_result"
    }
   ],
   "source": [
    "st.isdecimal()"
   ]
  },
  {
   "cell_type": "code",
   "execution_count": 51,
   "id": "e166b528",
   "metadata": {},
   "outputs": [
    {
     "data": {
      "text/plain": [
       "False"
      ]
     },
     "execution_count": 51,
     "metadata": {},
     "output_type": "execute_result"
    }
   ],
   "source": [
    "st.isdigit()"
   ]
  },
  {
   "cell_type": "code",
   "execution_count": 52,
   "id": "7323acdc",
   "metadata": {},
   "outputs": [
    {
     "data": {
      "text/plain": [
       "False"
      ]
     },
     "execution_count": 52,
     "metadata": {},
     "output_type": "execute_result"
    }
   ],
   "source": [
    "st.isidentifier()"
   ]
  },
  {
   "cell_type": "code",
   "execution_count": 197,
   "id": "4bf0cfab",
   "metadata": {},
   "outputs": [
    {
     "data": {
      "text/plain": [
       "True"
      ]
     },
     "execution_count": 197,
     "metadata": {},
     "output_type": "execute_result"
    }
   ],
   "source": [
    "st.islower()"
   ]
  },
  {
   "cell_type": "code",
   "execution_count": 54,
   "id": "7cf906a6",
   "metadata": {},
   "outputs": [
    {
     "data": {
      "text/plain": [
       "False"
      ]
     },
     "execution_count": 54,
     "metadata": {},
     "output_type": "execute_result"
    }
   ],
   "source": [
    "st.isnumeric()"
   ]
  },
  {
   "cell_type": "code",
   "execution_count": 199,
   "id": "8058a990",
   "metadata": {},
   "outputs": [
    {
     "data": {
      "text/plain": [
       "False"
      ]
     },
     "execution_count": 199,
     "metadata": {},
     "output_type": "execute_result"
    }
   ],
   "source": [
    "\"\\n\".isprintable()"
   ]
  },
  {
   "cell_type": "code",
   "execution_count": 201,
   "id": "dcbe7645",
   "metadata": {},
   "outputs": [
    {
     "data": {
      "text/plain": [
       "False"
      ]
     },
     "execution_count": 201,
     "metadata": {},
     "output_type": "execute_result"
    }
   ],
   "source": [
    "st.isspace()"
   ]
  },
  {
   "cell_type": "code",
   "execution_count": 206,
   "id": "d2849ff8",
   "metadata": {},
   "outputs": [
    {
     "data": {
      "text/plain": [
       "14"
      ]
     },
     "execution_count": 206,
     "metadata": {},
     "output_type": "execute_result"
    }
   ],
   "source": [
    "len(st.upper())"
   ]
  },
  {
   "cell_type": "code",
   "execution_count": 59,
   "id": "f52a9d3f",
   "metadata": {},
   "outputs": [
    {
     "name": "stdout",
     "output_type": "stream",
     "text": [
      "h-e-l-l-o\n"
     ]
    }
   ],
   "source": [
    "str = '-'.join('hello')\n",
    "print(str)"
   ]
  },
  {
   "cell_type": "code",
   "execution_count": 208,
   "id": "71d09de6",
   "metadata": {},
   "outputs": [
    {
     "data": {
      "text/plain": [
       "40"
      ]
     },
     "execution_count": 208,
     "metadata": {},
     "output_type": "execute_result"
    }
   ],
   "source": [
    "len(st.ljust(40,'*'))\n"
   ]
  },
  {
   "cell_type": "code",
   "execution_count": 63,
   "id": "ba9f19bd",
   "metadata": {},
   "outputs": [
    {
     "data": {
      "text/plain": [
       "'hi how are you'"
      ]
     },
     "execution_count": 63,
     "metadata": {},
     "output_type": "execute_result"
    }
   ],
   "source": [
    "st.lower()"
   ]
  },
  {
   "cell_type": "code",
   "execution_count": 65,
   "id": "fee4a549",
   "metadata": {},
   "outputs": [
    {
     "data": {
      "text/plain": [
       "'hello'"
      ]
     },
     "execution_count": 65,
     "metadata": {},
     "output_type": "execute_result"
    }
   ],
   "source": [
    "'    hello'.lstrip()"
   ]
  },
  {
   "cell_type": "code",
   "execution_count": 209,
   "id": "04cc0953",
   "metadata": {},
   "outputs": [
    {
     "data": {
      "text/plain": [
       "'hellow how are you'"
      ]
     },
     "execution_count": 209,
     "metadata": {},
     "output_type": "execute_result"
    }
   ],
   "source": [
    "st.replace('hi','hellow')"
   ]
  },
  {
   "cell_type": "code",
   "execution_count": 67,
   "id": "424956a8",
   "metadata": {},
   "outputs": [
    {
     "data": {
      "text/plain": [
       "12"
      ]
     },
     "execution_count": 67,
     "metadata": {},
     "output_type": "execute_result"
    }
   ],
   "source": [
    "st.rfind('o')"
   ]
  },
  {
   "cell_type": "code",
   "execution_count": 68,
   "id": "e26b7500",
   "metadata": {},
   "outputs": [
    {
     "data": {
      "text/plain": [
       "'hi how are you'"
      ]
     },
     "execution_count": 68,
     "metadata": {},
     "output_type": "execute_result"
    }
   ],
   "source": [
    "st"
   ]
  },
  {
   "cell_type": "code",
   "execution_count": 210,
   "id": "b784266e",
   "metadata": {},
   "outputs": [
    {
     "data": {
      "text/plain": [
       "'**************************hi how are you'"
      ]
     },
     "execution_count": 210,
     "metadata": {},
     "output_type": "execute_result"
    }
   ],
   "source": [
    "st.rjust(40,'*')"
   ]
  },
  {
   "cell_type": "code",
   "execution_count": 211,
   "id": "a4e63954",
   "metadata": {},
   "outputs": [
    {
     "data": {
      "text/plain": [
       "'hi how are you'"
      ]
     },
     "execution_count": 211,
     "metadata": {},
     "output_type": "execute_result"
    }
   ],
   "source": [
    "'hi how are you        '.rstrip()"
   ]
  },
  {
   "cell_type": "code",
   "execution_count": 212,
   "id": "2214df26",
   "metadata": {},
   "outputs": [
    {
     "data": {
      "text/plain": [
       "['hi', 'how', 'are', 'you']"
      ]
     },
     "execution_count": 212,
     "metadata": {},
     "output_type": "execute_result"
    }
   ],
   "source": [
    "st.split()"
   ]
  },
  {
   "cell_type": "code",
   "execution_count": 72,
   "id": "231a7881",
   "metadata": {},
   "outputs": [
    {
     "data": {
      "text/plain": [
       "['hi how', 'are', 'you']"
      ]
     },
     "execution_count": 72,
     "metadata": {},
     "output_type": "execute_result"
    }
   ],
   "source": [
    "st.rsplit(' ' ,2)"
   ]
  },
  {
   "cell_type": "code",
   "execution_count": 218,
   "id": "2fd4b67f",
   "metadata": {},
   "outputs": [
    {
     "data": {
      "text/plain": [
       "['hi how are', 'you']"
      ]
     },
     "execution_count": 218,
     "metadata": {},
     "output_type": "execute_result"
    }
   ],
   "source": [
    "st.rsplit(' ',1 )"
   ]
  },
  {
   "cell_type": "code",
   "execution_count": 219,
   "id": "88f64dc2",
   "metadata": {},
   "outputs": [],
   "source": [
    "line='''hi how are you\n",
    "how is your day\n",
    "how is your friend'''"
   ]
  },
  {
   "cell_type": "code",
   "execution_count": 220,
   "id": "ed6473a2",
   "metadata": {},
   "outputs": [
    {
     "data": {
      "text/plain": [
       "['hi how are you', 'how is your day', 'how is your friend']"
      ]
     },
     "execution_count": 220,
     "metadata": {},
     "output_type": "execute_result"
    }
   ],
   "source": [
    "line.splitlines()"
   ]
  },
  {
   "cell_type": "code",
   "execution_count": 221,
   "id": "6c6fda0d",
   "metadata": {},
   "outputs": [
    {
     "data": {
      "text/plain": [
       "True"
      ]
     },
     "execution_count": 221,
     "metadata": {},
     "output_type": "execute_result"
    }
   ],
   "source": [
    "st.startswith('hi')"
   ]
  },
  {
   "cell_type": "code",
   "execution_count": 222,
   "id": "c8d09845",
   "metadata": {},
   "outputs": [
    {
     "data": {
      "text/plain": [
       "False"
      ]
     },
     "execution_count": 222,
     "metadata": {},
     "output_type": "execute_result"
    }
   ],
   "source": [
    "st.startswith('hello')"
   ]
  },
  {
   "cell_type": "code",
   "execution_count": 223,
   "id": "2570d32c",
   "metadata": {},
   "outputs": [
    {
     "data": {
      "text/plain": [
       "'hI hOW ARE yOU'"
      ]
     },
     "execution_count": 223,
     "metadata": {},
     "output_type": "execute_result"
    }
   ],
   "source": [
    "'Hi How are You'.swapcase()"
   ]
  },
  {
   "cell_type": "code",
   "execution_count": 81,
   "id": "99d9d141",
   "metadata": {},
   "outputs": [
    {
     "data": {
      "text/plain": [
       "'Hi How Are You'"
      ]
     },
     "execution_count": 81,
     "metadata": {},
     "output_type": "execute_result"
    }
   ],
   "source": [
    "st.title()"
   ]
  },
  {
   "cell_type": "code",
   "execution_count": 82,
   "id": "df8746f7",
   "metadata": {},
   "outputs": [
    {
     "data": {
      "text/plain": [
       "'HI HOW ARE YOU'"
      ]
     },
     "execution_count": 82,
     "metadata": {},
     "output_type": "execute_result"
    }
   ],
   "source": [
    "st.upper()"
   ]
  },
  {
   "cell_type": "code",
   "execution_count": 224,
   "id": "5d28183b",
   "metadata": {},
   "outputs": [],
   "source": [
    "st='222222'"
   ]
  },
  {
   "cell_type": "code",
   "execution_count": 225,
   "id": "161f6768",
   "metadata": {},
   "outputs": [
    {
     "data": {
      "text/plain": [
       "'00000000000000222222'"
      ]
     },
     "execution_count": 225,
     "metadata": {},
     "output_type": "execute_result"
    }
   ],
   "source": [
    "st.zfill(20)"
   ]
  },
  {
   "cell_type": "code",
   "execution_count": 85,
   "id": "2fef77d2",
   "metadata": {},
   "outputs": [],
   "source": [
    "#list In Python, a list is a sequence data type. It is an ordered collection of items\n",
    "#Python lists may have objects of different data types.\n",
    "#A Python list is mutable. Any item from the list can be accessed using its index, and can be modified. \n"
   ]
  },
  {
   "cell_type": "code",
   "execution_count": 226,
   "id": "1eaa2279",
   "metadata": {},
   "outputs": [],
   "source": [
    "lst =['apple','orange','mango','pinaple','apple']"
   ]
  },
  {
   "cell_type": "code",
   "execution_count": 230,
   "id": "12896472",
   "metadata": {},
   "outputs": [
    {
     "name": "stdout",
     "output_type": "stream",
     "text": [
      "['fig', 'orange', 'mango', 'pinaple', 'apple']\n"
     ]
    }
   ],
   "source": [
    "lst[0]='fig'\n",
    "print(lst)"
   ]
  },
  {
   "cell_type": "code",
   "execution_count": 231,
   "id": "94a30434",
   "metadata": {},
   "outputs": [
    {
     "name": "stdout",
     "output_type": "stream",
     "text": [
      "fig\n",
      "orange\n",
      "mango\n",
      "pinaple\n",
      "apple\n"
     ]
    }
   ],
   "source": [
    "for i in lst:print(i)"
   ]
  },
  {
   "cell_type": "code",
   "execution_count": 232,
   "id": "af0e03ff",
   "metadata": {},
   "outputs": [],
   "source": [
    "lst =list(('apple','orange','mango','pinaple'))\n"
   ]
  },
  {
   "cell_type": "code",
   "execution_count": 233,
   "id": "518754c9",
   "metadata": {},
   "outputs": [
    {
     "data": {
      "text/plain": [
       "list"
      ]
     },
     "execution_count": 233,
     "metadata": {},
     "output_type": "execute_result"
    }
   ],
   "source": [
    "type(lst)"
   ]
  },
  {
   "cell_type": "code",
   "execution_count": 236,
   "id": "df918b7e",
   "metadata": {},
   "outputs": [],
   "source": [
    "lst =[*range(0,11,2)]"
   ]
  },
  {
   "cell_type": "code",
   "execution_count": 237,
   "id": "061f4e54",
   "metadata": {},
   "outputs": [
    {
     "data": {
      "text/plain": [
       "[0, 2, 4, 6, 8, 10]"
      ]
     },
     "execution_count": 237,
     "metadata": {},
     "output_type": "execute_result"
    }
   ],
   "source": [
    "lst"
   ]
  },
  {
   "cell_type": "code",
   "execution_count": 98,
   "id": "cfbd3cd2",
   "metadata": {},
   "outputs": [],
   "source": [
    "lst =[*range(0,11,2)]"
   ]
  },
  {
   "cell_type": "code",
   "execution_count": 99,
   "id": "f4fb5b81",
   "metadata": {},
   "outputs": [
    {
     "data": {
      "text/plain": [
       "[0, 2, 4, 6, 8, 10]"
      ]
     },
     "execution_count": 99,
     "metadata": {},
     "output_type": "execute_result"
    }
   ],
   "source": [
    "lst"
   ]
  },
  {
   "cell_type": "code",
   "execution_count": 240,
   "id": "4f3ca6ac",
   "metadata": {},
   "outputs": [],
   "source": [
    "lst =[x*2 for x in range(1,10)]"
   ]
  },
  {
   "cell_type": "code",
   "execution_count": 241,
   "id": "772aafdc",
   "metadata": {},
   "outputs": [
    {
     "data": {
      "text/plain": [
       "[2, 4, 6, 8, 10, 12, 14, 16, 18]"
      ]
     },
     "execution_count": 241,
     "metadata": {},
     "output_type": "execute_result"
    }
   ],
   "source": [
    "lst"
   ]
  },
  {
   "cell_type": "code",
   "execution_count": 102,
   "id": "73ba3293",
   "metadata": {},
   "outputs": [
    {
     "data": {
      "text/plain": [
       "1"
      ]
     },
     "execution_count": 102,
     "metadata": {},
     "output_type": "execute_result"
    }
   ],
   "source": [
    "lst[0]"
   ]
  },
  {
   "cell_type": "code",
   "execution_count": 103,
   "id": "027deaa8",
   "metadata": {},
   "outputs": [
    {
     "data": {
      "text/plain": [
       "9"
      ]
     },
     "execution_count": 103,
     "metadata": {},
     "output_type": "execute_result"
    }
   ],
   "source": [
    "lst[-1]"
   ]
  },
  {
   "cell_type": "code",
   "execution_count": 104,
   "id": "b0433017",
   "metadata": {},
   "outputs": [
    {
     "data": {
      "text/plain": [
       "[1, 2, 3, 4]"
      ]
     },
     "execution_count": 104,
     "metadata": {},
     "output_type": "execute_result"
    }
   ],
   "source": [
    "lst[0:4]"
   ]
  },
  {
   "cell_type": "code",
   "execution_count": 105,
   "id": "426b1778",
   "metadata": {},
   "outputs": [
    {
     "data": {
      "text/plain": [
       "[1, 2, 3]"
      ]
     },
     "execution_count": 105,
     "metadata": {},
     "output_type": "execute_result"
    }
   ],
   "source": [
    "lst[3:]"
   ]
  },
  {
   "cell_type": "code",
   "execution_count": 106,
   "id": "4d19280b",
   "metadata": {},
   "outputs": [
    {
     "data": {
      "text/plain": [
       "[1, 2, 3, 4, 5, 6, 7, 8, 9]"
      ]
     },
     "execution_count": 106,
     "metadata": {},
     "output_type": "execute_result"
    }
   ],
   "source": [
    "lst"
   ]
  },
  {
   "cell_type": "code",
   "execution_count": 247,
   "id": "0f9cb70d",
   "metadata": {},
   "outputs": [
    {
     "name": "stdout",
     "output_type": "stream",
     "text": [
      "[10, 12, 14, 16, 18]\n"
     ]
    }
   ],
   "source": [
    "lst1 =lst[4:]\n",
    "print(lst1)"
   ]
  },
  {
   "cell_type": "code",
   "execution_count": 108,
   "id": "00452fa4",
   "metadata": {},
   "outputs": [
    {
     "data": {
      "text/plain": [
       "[1, 3, 5, 7, 9]"
      ]
     },
     "execution_count": 108,
     "metadata": {},
     "output_type": "execute_result"
    }
   ],
   "source": [
    "lst[::2]"
   ]
  },
  {
   "cell_type": "code",
   "execution_count": 109,
   "id": "548adabc",
   "metadata": {},
   "outputs": [
    {
     "data": {
      "text/plain": [
       "[9, 8, 7, 6, 5, 4, 3, 2, 1]"
      ]
     },
     "execution_count": 109,
     "metadata": {},
     "output_type": "execute_result"
    }
   ],
   "source": [
    "lst[::-1]"
   ]
  },
  {
   "cell_type": "code",
   "execution_count": 110,
   "id": "eca70f7a",
   "metadata": {},
   "outputs": [
    {
     "data": {
      "text/plain": [
       "[7, 8, 9]"
      ]
     },
     "execution_count": 110,
     "metadata": {},
     "output_type": "execute_result"
    }
   ],
   "source": [
    "lst[-3:]"
   ]
  },
  {
   "cell_type": "code",
   "execution_count": 111,
   "id": "9b76b413",
   "metadata": {},
   "outputs": [
    {
     "data": {
      "text/plain": [
       "[1, 2, 3, 4, 5, 6]"
      ]
     },
     "execution_count": 111,
     "metadata": {},
     "output_type": "execute_result"
    }
   ],
   "source": [
    "lst[:-3]"
   ]
  },
  {
   "cell_type": "code",
   "execution_count": 113,
   "id": "9f549b5c",
   "metadata": {},
   "outputs": [
    {
     "data": {
      "text/plain": [
       "[5, 6, 7]"
      ]
     },
     "execution_count": 113,
     "metadata": {},
     "output_type": "execute_result"
    }
   ],
   "source": [
    "lst[-5:-2]"
   ]
  },
  {
   "cell_type": "code",
   "execution_count": 243,
   "id": "2a742b2c",
   "metadata": {},
   "outputs": [],
   "source": [
    "my_list = [[1, 2, 3], [4, 5, 6], [7, 8, 9]]"
   ]
  },
  {
   "cell_type": "code",
   "execution_count": 123,
   "id": "4182efa1",
   "metadata": {},
   "outputs": [
    {
     "name": "stdout",
     "output_type": "stream",
     "text": [
      "[[1, 2, 3], [4, 5, 6], [7, 8, 0]]\n"
     ]
    }
   ],
   "source": [
    "print(lst)"
   ]
  },
  {
   "cell_type": "code",
   "execution_count": 244,
   "id": "a042b247",
   "metadata": {},
   "outputs": [
    {
     "data": {
      "text/plain": [
       "1"
      ]
     },
     "execution_count": 244,
     "metadata": {},
     "output_type": "execute_result"
    }
   ],
   "source": [
    "my_list[0][0]"
   ]
  },
  {
   "cell_type": "code",
   "execution_count": 245,
   "id": "a7dbe39a",
   "metadata": {},
   "outputs": [
    {
     "data": {
      "text/plain": [
       "2"
      ]
     },
     "execution_count": 245,
     "metadata": {},
     "output_type": "execute_result"
    }
   ],
   "source": [
    "my_list[0][1]"
   ]
  },
  {
   "cell_type": "code",
   "execution_count": 130,
   "id": "fb98195c",
   "metadata": {},
   "outputs": [
    {
     "data": {
      "text/plain": [
       "[1, 2]"
      ]
     },
     "execution_count": 130,
     "metadata": {},
     "output_type": "execute_result"
    }
   ],
   "source": [
    "#o extract the first two elements of the first inner lis\n",
    "my_list[0][:2]"
   ]
  },
  {
   "cell_type": "code",
   "execution_count": 250,
   "id": "b4ff8131",
   "metadata": {},
   "outputs": [
    {
     "name": "stdout",
     "output_type": "stream",
     "text": [
      "123456789"
     ]
    }
   ],
   "source": [
    "for i in my_list:\n",
    "    for j in i:\n",
    "        print(j,end='')"
   ]
  },
  {
   "cell_type": "code",
   "execution_count": 257,
   "id": "699d8bc3",
   "metadata": {},
   "outputs": [],
   "source": [
    "lst =['apple','mango','orange']"
   ]
  },
  {
   "cell_type": "code",
   "execution_count": 252,
   "id": "17e6820d",
   "metadata": {},
   "outputs": [],
   "source": [
    "lst.append('sapota')"
   ]
  },
  {
   "cell_type": "code",
   "execution_count": 253,
   "id": "70379b7f",
   "metadata": {},
   "outputs": [
    {
     "data": {
      "text/plain": [
       "['apple', 'mango', 'orange', 'sapota']"
      ]
     },
     "execution_count": 253,
     "metadata": {},
     "output_type": "execute_result"
    }
   ],
   "source": [
    "lst"
   ]
  },
  {
   "cell_type": "code",
   "execution_count": 149,
   "id": "03335d11",
   "metadata": {},
   "outputs": [],
   "source": [
    "lst.append('apple')"
   ]
  },
  {
   "cell_type": "code",
   "execution_count": 150,
   "id": "163cf009",
   "metadata": {},
   "outputs": [
    {
     "data": {
      "text/plain": [
       "['apple', 'mango', 'orange', 'sapota', 'apple']"
      ]
     },
     "execution_count": 150,
     "metadata": {},
     "output_type": "execute_result"
    }
   ],
   "source": [
    "lst"
   ]
  },
  {
   "cell_type": "code",
   "execution_count": 254,
   "id": "a8d6aa56",
   "metadata": {},
   "outputs": [],
   "source": [
    "lst =[]\n",
    "for i in range(10):\n",
    "    lst.append(i)\n",
    "    "
   ]
  },
  {
   "cell_type": "code",
   "execution_count": 256,
   "id": "29f9b6fe",
   "metadata": {},
   "outputs": [
    {
     "name": "stdout",
     "output_type": "stream",
     "text": [
      "[0, 1, 2, 3, 4, 5, 6, 7, 8, 9]\n"
     ]
    }
   ],
   "source": [
    "print(lst)"
   ]
  },
  {
   "cell_type": "code",
   "execution_count": 259,
   "id": "9bcd5b97",
   "metadata": {},
   "outputs": [],
   "source": [
    "lst.extend(('fig','kiwi','banana'))"
   ]
  },
  {
   "cell_type": "code",
   "execution_count": 260,
   "id": "9160b0c4",
   "metadata": {},
   "outputs": [
    {
     "data": {
      "text/plain": [
       "['apple', 'mango', 'orange', 'fig', 'kiwi', 'banana', 'fig', 'kiwi', 'banana']"
      ]
     },
     "execution_count": 260,
     "metadata": {},
     "output_type": "execute_result"
    }
   ],
   "source": [
    "lst"
   ]
  },
  {
   "cell_type": "code",
   "execution_count": 261,
   "id": "15534336",
   "metadata": {},
   "outputs": [],
   "source": [
    "lst.extend(lst)"
   ]
  },
  {
   "cell_type": "code",
   "execution_count": 262,
   "id": "be3f22d4",
   "metadata": {},
   "outputs": [
    {
     "data": {
      "text/plain": [
       "['apple',\n",
       " 'mango',\n",
       " 'orange',\n",
       " 'fig',\n",
       " 'kiwi',\n",
       " 'banana',\n",
       " 'fig',\n",
       " 'kiwi',\n",
       " 'banana',\n",
       " 'apple',\n",
       " 'mango',\n",
       " 'orange',\n",
       " 'fig',\n",
       " 'kiwi',\n",
       " 'banana',\n",
       " 'fig',\n",
       " 'kiwi',\n",
       " 'banana']"
      ]
     },
     "execution_count": 262,
     "metadata": {},
     "output_type": "execute_result"
    }
   ],
   "source": [
    "lst"
   ]
  },
  {
   "cell_type": "code",
   "execution_count": 158,
   "id": "a0568f16",
   "metadata": {},
   "outputs": [],
   "source": [
    "lst =[]\n",
    "for i in range(0,10):\n",
    "    lst.append(i)"
   ]
  },
  {
   "cell_type": "code",
   "execution_count": 159,
   "id": "98c1cce9",
   "metadata": {},
   "outputs": [
    {
     "data": {
      "text/plain": [
       "[0, 1, 2, 3, 4, 5, 6, 7, 8, 9]"
      ]
     },
     "execution_count": 159,
     "metadata": {},
     "output_type": "execute_result"
    }
   ],
   "source": [
    "lst"
   ]
  },
  {
   "cell_type": "code",
   "execution_count": 264,
   "id": "e8ccfdbb",
   "metadata": {},
   "outputs": [
    {
     "data": {
      "text/plain": [
       "1"
      ]
     },
     "execution_count": 264,
     "metadata": {},
     "output_type": "execute_result"
    }
   ],
   "source": [
    "lst.index('mango')"
   ]
  },
  {
   "cell_type": "code",
   "execution_count": 163,
   "id": "7dac8489",
   "metadata": {},
   "outputs": [],
   "source": [
    "lst =['apple','mango','orange']"
   ]
  },
  {
   "cell_type": "code",
   "execution_count": 266,
   "id": "fb016925",
   "metadata": {},
   "outputs": [
    {
     "data": {
      "text/plain": [
       "'mango'"
      ]
     },
     "execution_count": 266,
     "metadata": {},
     "output_type": "execute_result"
    }
   ],
   "source": [
    "lst.pop(1)\n"
   ]
  },
  {
   "cell_type": "code",
   "execution_count": 165,
   "id": "fe912196",
   "metadata": {},
   "outputs": [],
   "source": [
    "lst =['apple','mango','orange']\n"
   ]
  },
  {
   "cell_type": "code",
   "execution_count": 168,
   "id": "4658cb68",
   "metadata": {},
   "outputs": [
    {
     "data": {
      "text/plain": [
       "'apple'"
      ]
     },
     "execution_count": 168,
     "metadata": {},
     "output_type": "execute_result"
    }
   ],
   "source": [
    "lst.pop(0)"
   ]
  },
  {
   "cell_type": "code",
   "execution_count": 267,
   "id": "651fa063",
   "metadata": {},
   "outputs": [],
   "source": [
    "lst.remove('mango')"
   ]
  },
  {
   "cell_type": "code",
   "execution_count": 268,
   "id": "a80d2d76",
   "metadata": {},
   "outputs": [],
   "source": [
    "lst.insert(3,'ram')"
   ]
  },
  {
   "cell_type": "code",
   "execution_count": 269,
   "id": "28f5d533",
   "metadata": {},
   "outputs": [
    {
     "data": {
      "text/plain": [
       "['apple',\n",
       " 'orange',\n",
       " 'fig',\n",
       " 'ram',\n",
       " 'kiwi',\n",
       " 'banana',\n",
       " 'fig',\n",
       " 'kiwi',\n",
       " 'banana',\n",
       " 'apple',\n",
       " 'orange',\n",
       " 'fig',\n",
       " 'kiwi',\n",
       " 'banana',\n",
       " 'fig',\n",
       " 'kiwi']"
      ]
     },
     "execution_count": 269,
     "metadata": {},
     "output_type": "execute_result"
    }
   ],
   "source": [
    "lst"
   ]
  },
  {
   "cell_type": "code",
   "execution_count": 171,
   "id": "e712ef19",
   "metadata": {},
   "outputs": [],
   "source": [
    "lst=[*range(10)]"
   ]
  },
  {
   "cell_type": "code",
   "execution_count": 270,
   "id": "059d91f0",
   "metadata": {},
   "outputs": [],
   "source": [
    "lst.remove('apple')"
   ]
  },
  {
   "cell_type": "code",
   "execution_count": 173,
   "id": "f7cffd70",
   "metadata": {},
   "outputs": [
    {
     "data": {
      "text/plain": [
       "[0, 1, 2, 3, 4, 5, 6, 7, 8]"
      ]
     },
     "execution_count": 173,
     "metadata": {},
     "output_type": "execute_result"
    }
   ],
   "source": [
    "lst"
   ]
  },
  {
   "cell_type": "code",
   "execution_count": 271,
   "id": "ab732b3e",
   "metadata": {},
   "outputs": [],
   "source": [
    "lst.reverse()\n"
   ]
  },
  {
   "cell_type": "code",
   "execution_count": 275,
   "id": "e2ba0db1",
   "metadata": {},
   "outputs": [],
   "source": [
    "lst.sort()"
   ]
  },
  {
   "cell_type": "code",
   "execution_count": 276,
   "id": "7a6eae42",
   "metadata": {},
   "outputs": [
    {
     "data": {
      "text/plain": [
       "['apple',\n",
       " 'banana',\n",
       " 'banana',\n",
       " 'banana',\n",
       " 'fig',\n",
       " 'fig',\n",
       " 'fig',\n",
       " 'fig',\n",
       " 'kiwi',\n",
       " 'kiwi',\n",
       " 'kiwi',\n",
       " 'kiwi',\n",
       " 'orange',\n",
       " 'orange',\n",
       " 'ram']"
      ]
     },
     "execution_count": 276,
     "metadata": {},
     "output_type": "execute_result"
    }
   ],
   "source": [
    "lst"
   ]
  },
  {
   "cell_type": "code",
   "execution_count": 280,
   "id": "4891b062",
   "metadata": {},
   "outputs": [
    {
     "data": {
      "text/plain": [
       "['ram',\n",
       " 'orange',\n",
       " 'orange',\n",
       " 'kiwi',\n",
       " 'kiwi',\n",
       " 'kiwi',\n",
       " 'kiwi',\n",
       " 'fig',\n",
       " 'fig',\n",
       " 'fig',\n",
       " 'fig',\n",
       " 'banana',\n",
       " 'banana',\n",
       " 'banana',\n",
       " 'apple']"
      ]
     },
     "execution_count": 280,
     "metadata": {},
     "output_type": "execute_result"
    }
   ],
   "source": [
    "lst"
   ]
  },
  {
   "cell_type": "code",
   "execution_count": 278,
   "id": "c398c6c6",
   "metadata": {},
   "outputs": [
    {
     "data": {
      "text/plain": [
       "['ram',\n",
       " 'orange',\n",
       " 'orange',\n",
       " 'kiwi',\n",
       " 'kiwi',\n",
       " 'kiwi',\n",
       " 'kiwi',\n",
       " 'fig',\n",
       " 'fig',\n",
       " 'fig',\n",
       " 'fig',\n",
       " 'banana',\n",
       " 'banana',\n",
       " 'banana',\n",
       " 'apple']"
      ]
     },
     "execution_count": 278,
     "metadata": {},
     "output_type": "execute_result"
    }
   ],
   "source": [
    "lst"
   ]
  },
  {
   "cell_type": "code",
   "execution_count": 185,
   "id": "9b823144",
   "metadata": {},
   "outputs": [],
   "source": [
    "lst =[]"
   ]
  },
  {
   "cell_type": "code",
   "execution_count": 281,
   "id": "cfae9848",
   "metadata": {},
   "outputs": [],
   "source": [
    "matrix = []\n",
    "for i in range(5):\n",
    "# Append an empty sublist inside the list\n",
    "    matrix.append([])\n",
    "    for j in range(5):\n",
    "        matrix[i].append(j)\n"
   ]
  },
  {
   "cell_type": "code",
   "execution_count": 282,
   "id": "238c7bc1",
   "metadata": {},
   "outputs": [
    {
     "data": {
      "text/plain": [
       "[[0, 1, 2, 3, 4],\n",
       " [0, 1, 2, 3, 4],\n",
       " [0, 1, 2, 3, 4],\n",
       " [0, 1, 2, 3, 4],\n",
       " [0, 1, 2, 3, 4]]"
      ]
     },
     "execution_count": 282,
     "metadata": {},
     "output_type": "execute_result"
    }
   ],
   "source": [
    "matrix"
   ]
  },
  {
   "cell_type": "code",
   "execution_count": 208,
   "id": "cc2c476b",
   "metadata": {},
   "outputs": [],
   "source": [
    "matrix = [[j for j in range(5)] for i in range(5)] "
   ]
  },
  {
   "cell_type": "code",
   "execution_count": 209,
   "id": "55810e51",
   "metadata": {},
   "outputs": [
    {
     "data": {
      "text/plain": [
       "[[0, 1, 2, 3, 4],\n",
       " [0, 1, 2, 3, 4],\n",
       " [0, 1, 2, 3, 4],\n",
       " [0, 1, 2, 3, 4],\n",
       " [0, 1, 2, 3, 4]]"
      ]
     },
     "execution_count": 209,
     "metadata": {},
     "output_type": "execute_result"
    }
   ],
   "source": [
    "matrix"
   ]
  },
  {
   "cell_type": "code",
   "execution_count": 210,
   "id": "68070a94",
   "metadata": {},
   "outputs": [],
   "source": [
    "#Python Tuple is a collection of objects separated by commas. In some ways, a tuple \n",
    "# is similar to a Python list in terms of indexing, the main difference between both is Python tuple is immutable, \n",
    "# tuple allow duplicate"
   ]
  },
  {
   "cell_type": "code",
   "execution_count": 289,
   "id": "df5d81cb",
   "metadata": {},
   "outputs": [],
   "source": [
    "tpl =('apple','orange','mango','orange','apple')"
   ]
  },
  {
   "cell_type": "code",
   "execution_count": 290,
   "id": "4760c92d",
   "metadata": {},
   "outputs": [
    {
     "data": {
      "text/plain": [
       "('apple', 'orange', 'mango', 'orange', 'apple')"
      ]
     },
     "execution_count": 290,
     "metadata": {},
     "output_type": "execute_result"
    }
   ],
   "source": [
    "tpl"
   ]
  },
  {
   "cell_type": "code",
   "execution_count": 285,
   "id": "fe80b299",
   "metadata": {},
   "outputs": [
    {
     "data": {
      "text/plain": [
       "'apple'"
      ]
     },
     "execution_count": 285,
     "metadata": {},
     "output_type": "execute_result"
    }
   ],
   "source": [
    "tpl[0]"
   ]
  },
  {
   "cell_type": "code",
   "execution_count": 286,
   "id": "cd2d84ef",
   "metadata": {},
   "outputs": [
    {
     "ename": "TypeError",
     "evalue": "'tuple' object does not support item assignment",
     "output_type": "error",
     "traceback": [
      "\u001b[1;31m---------------------------------------------------------------------------\u001b[0m",
      "\u001b[1;31mTypeError\u001b[0m                                 Traceback (most recent call last)",
      "Cell \u001b[1;32mIn[286], line 1\u001b[0m\n\u001b[1;32m----> 1\u001b[0m tpl[\u001b[38;5;241m0\u001b[39m]\u001b[38;5;241m=\u001b[39m\u001b[38;5;124m'\u001b[39m\u001b[38;5;124mtest\u001b[39m\u001b[38;5;124m'\u001b[39m\n",
      "\u001b[1;31mTypeError\u001b[0m: 'tuple' object does not support item assignment"
     ]
    }
   ],
   "source": [
    "tpl[0]='test'"
   ]
  },
  {
   "cell_type": "code",
   "execution_count": 217,
   "id": "ba762034",
   "metadata": {},
   "outputs": [
    {
     "name": "stdout",
     "output_type": "stream",
     "text": [
      "apple\n",
      "orange\n",
      "mango\n",
      "orange\n"
     ]
    }
   ],
   "source": [
    "for i in  tpl: print(i)"
   ]
  },
  {
   "cell_type": "code",
   "execution_count": 291,
   "id": "1af3c6a3",
   "metadata": {},
   "outputs": [
    {
     "data": {
      "text/plain": [
       "2"
      ]
     },
     "execution_count": 291,
     "metadata": {},
     "output_type": "execute_result"
    }
   ],
   "source": [
    "tpl.count('apple')"
   ]
  },
  {
   "cell_type": "code",
   "execution_count": 292,
   "id": "47da3576",
   "metadata": {},
   "outputs": [
    {
     "data": {
      "text/plain": [
       "0"
      ]
     },
     "execution_count": 292,
     "metadata": {},
     "output_type": "execute_result"
    }
   ],
   "source": [
    "tpl.index('apple')"
   ]
  },
  {
   "cell_type": "code",
   "execution_count": 220,
   "id": "eba25c30",
   "metadata": {},
   "outputs": [],
   "source": [
    "#A Set in Python programming is an unordered collection data type that is iterable, mutable and has no duplicate elements."
   ]
  },
  {
   "cell_type": "code",
   "execution_count": 294,
   "id": "72179f8a",
   "metadata": {},
   "outputs": [],
   "source": [
    "set ={'apple','mango','orange','fig','apple'}"
   ]
  },
  {
   "cell_type": "code",
   "execution_count": 295,
   "id": "8bca5f4b",
   "metadata": {},
   "outputs": [
    {
     "data": {
      "text/plain": [
       "{'apple', 'fig', 'mango', 'orange'}"
      ]
     },
     "execution_count": 295,
     "metadata": {},
     "output_type": "execute_result"
    }
   ],
   "source": [
    "set"
   ]
  },
  {
   "cell_type": "code",
   "execution_count": 297,
   "id": "f259878c",
   "metadata": {},
   "outputs": [
    {
     "ename": "TypeError",
     "evalue": "'set' object is not subscriptable",
     "output_type": "error",
     "traceback": [
      "\u001b[1;31m---------------------------------------------------------------------------\u001b[0m",
      "\u001b[1;31mTypeError\u001b[0m                                 Traceback (most recent call last)",
      "Cell \u001b[1;32mIn[297], line 1\u001b[0m\n\u001b[1;32m----> 1\u001b[0m \u001b[38;5;28mset\u001b[39m[\u001b[38;5;241m0\u001b[39m]\n",
      "\u001b[1;31mTypeError\u001b[0m: 'set' object is not subscriptable"
     ]
    }
   ],
   "source": [
    "set[0]"
   ]
  },
  {
   "cell_type": "code",
   "execution_count": 224,
   "id": "6e11e7a7",
   "metadata": {},
   "outputs": [
    {
     "ename": "TypeError",
     "evalue": "'set' object is not subscriptable",
     "output_type": "error",
     "traceback": [
      "\u001b[1;31m---------------------------------------------------------------------------\u001b[0m",
      "\u001b[1;31mTypeError\u001b[0m                                 Traceback (most recent call last)",
      "Cell \u001b[1;32mIn[224], line 1\u001b[0m\n\u001b[1;32m----> 1\u001b[0m \u001b[38;5;28mset\u001b[39m[\u001b[38;5;241m0\u001b[39m]\n",
      "\u001b[1;31mTypeError\u001b[0m: 'set' object is not subscriptable"
     ]
    }
   ],
   "source": [
    "set[0]"
   ]
  },
  {
   "cell_type": "code",
   "execution_count": 300,
   "id": "25f2a8a0",
   "metadata": {},
   "outputs": [],
   "source": [
    "set.add('pinaple')"
   ]
  },
  {
   "cell_type": "code",
   "execution_count": 301,
   "id": "c495d442",
   "metadata": {},
   "outputs": [
    {
     "data": {
      "text/plain": [
       "{'apple', 'fig', 'mango', 'orange', 'pinaple'}"
      ]
     },
     "execution_count": 301,
     "metadata": {},
     "output_type": "execute_result"
    }
   ],
   "source": [
    "set"
   ]
  },
  {
   "cell_type": "code",
   "execution_count": 306,
   "id": "197d2747",
   "metadata": {},
   "outputs": [
    {
     "ename": "TypeError",
     "evalue": "set.remove() takes exactly one argument (0 given)",
     "output_type": "error",
     "traceback": [
      "\u001b[1;31m---------------------------------------------------------------------------\u001b[0m",
      "\u001b[1;31mTypeError\u001b[0m                                 Traceback (most recent call last)",
      "Cell \u001b[1;32mIn[306], line 1\u001b[0m\n\u001b[1;32m----> 1\u001b[0m \u001b[38;5;28mset\u001b[39m\u001b[38;5;241m.\u001b[39mremove()\n",
      "\u001b[1;31mTypeError\u001b[0m: set.remove() takes exactly one argument (0 given)"
     ]
    }
   ],
   "source": [
    "set.remove()"
   ]
  },
  {
   "cell_type": "code",
   "execution_count": 228,
   "id": "c91ddcba",
   "metadata": {},
   "outputs": [
    {
     "data": {
      "text/plain": [
       "{'apple', 'fig', 'mango', 'orange'}"
      ]
     },
     "execution_count": 228,
     "metadata": {},
     "output_type": "execute_result"
    }
   ],
   "source": [
    "set"
   ]
  },
  {
   "cell_type": "code",
   "execution_count": 303,
   "id": "0e8c710d",
   "metadata": {},
   "outputs": [
    {
     "data": {
      "text/plain": [
       "'fig'"
      ]
     },
     "execution_count": 303,
     "metadata": {},
     "output_type": "execute_result"
    }
   ],
   "source": [
    "set.pop()"
   ]
  },
  {
   "cell_type": "code",
   "execution_count": 304,
   "id": "4afcca1e",
   "metadata": {},
   "outputs": [
    {
     "data": {
      "text/plain": [
       "'mango'"
      ]
     },
     "execution_count": 304,
     "metadata": {},
     "output_type": "execute_result"
    }
   ],
   "source": [
    "set.pop()"
   ]
  },
  {
   "cell_type": "code",
   "execution_count": 319,
   "id": "e1a446ea",
   "metadata": {},
   "outputs": [],
   "source": [
    "set1 ={'apple','mango','pinaple'}\n",
    "set2={'apple','fig','sapota','orange'}"
   ]
  },
  {
   "cell_type": "code",
   "execution_count": 309,
   "id": "cf87f7b6",
   "metadata": {},
   "outputs": [
    {
     "data": {
      "text/plain": [
       "{'apple', 'fig', 'mango', 'orange', 'pinaple', 'sapota'}"
      ]
     },
     "execution_count": 309,
     "metadata": {},
     "output_type": "execute_result"
    }
   ],
   "source": [
    "set1.union(set2)"
   ]
  },
  {
   "cell_type": "code",
   "execution_count": 310,
   "id": "8b48c738",
   "metadata": {},
   "outputs": [
    {
     "data": {
      "text/plain": [
       "{'apple', 'fig', 'mango', 'orange', 'pinaple', 'sapota'}"
      ]
     },
     "execution_count": 310,
     "metadata": {},
     "output_type": "execute_result"
    }
   ],
   "source": [
    "set1|set2"
   ]
  },
  {
   "cell_type": "code",
   "execution_count": 311,
   "id": "7c6e50d2",
   "metadata": {},
   "outputs": [
    {
     "data": {
      "text/plain": [
       "{'apple'}"
      ]
     },
     "execution_count": 311,
     "metadata": {},
     "output_type": "execute_result"
    }
   ],
   "source": [
    "set1.intersection(set2)"
   ]
  },
  {
   "cell_type": "code",
   "execution_count": 312,
   "id": "63fcf135",
   "metadata": {},
   "outputs": [
    {
     "data": {
      "text/plain": [
       "{'apple'}"
      ]
     },
     "execution_count": 312,
     "metadata": {},
     "output_type": "execute_result"
    }
   ],
   "source": [
    "set1&set2"
   ]
  },
  {
   "cell_type": "code",
   "execution_count": 313,
   "id": "e8088d07",
   "metadata": {},
   "outputs": [
    {
     "data": {
      "text/plain": [
       "{'mango', 'pinaple'}"
      ]
     },
     "execution_count": 313,
     "metadata": {},
     "output_type": "execute_result"
    }
   ],
   "source": [
    "set1.difference(set2)"
   ]
  },
  {
   "cell_type": "code",
   "execution_count": 238,
   "id": "6e27dd82",
   "metadata": {},
   "outputs": [
    {
     "data": {
      "text/plain": [
       "{'mango', 'pinaple'}"
      ]
     },
     "execution_count": 238,
     "metadata": {},
     "output_type": "execute_result"
    }
   ],
   "source": [
    "set1 -set2"
   ]
  },
  {
   "cell_type": "code",
   "execution_count": 314,
   "id": "333b258c",
   "metadata": {},
   "outputs": [],
   "source": [
    "set1.update(set2)"
   ]
  },
  {
   "cell_type": "code",
   "execution_count": 315,
   "id": "b8152f9e",
   "metadata": {},
   "outputs": [
    {
     "data": {
      "text/plain": [
       "{'apple', 'fig', 'mango', 'orange', 'pinaple', 'sapota'}"
      ]
     },
     "execution_count": 315,
     "metadata": {},
     "output_type": "execute_result"
    }
   ],
   "source": [
    "set1"
   ]
  },
  {
   "cell_type": "code",
   "execution_count": 317,
   "id": "d4ff3904",
   "metadata": {},
   "outputs": [],
   "source": [
    "set1.intersection_update(set2)"
   ]
  },
  {
   "cell_type": "code",
   "execution_count": 318,
   "id": "2cabd5db",
   "metadata": {},
   "outputs": [
    {
     "data": {
      "text/plain": [
       "{'apple'}"
      ]
     },
     "execution_count": 318,
     "metadata": {},
     "output_type": "execute_result"
    }
   ],
   "source": [
    "set1"
   ]
  },
  {
   "cell_type": "code",
   "execution_count": 245,
   "id": "4e947dd1",
   "metadata": {},
   "outputs": [],
   "source": [
    "set1 ={'apple','mango','pinaple'}\n",
    "set2={'apple','fig','sapota','orange'}"
   ]
  },
  {
   "cell_type": "code",
   "execution_count": 320,
   "id": "5cebf8a4",
   "metadata": {},
   "outputs": [],
   "source": [
    "set1.difference_update(set2)"
   ]
  },
  {
   "cell_type": "code",
   "execution_count": 321,
   "id": "4e0a0e99",
   "metadata": {},
   "outputs": [
    {
     "data": {
      "text/plain": [
       "{'mango', 'pinaple'}"
      ]
     },
     "execution_count": 321,
     "metadata": {},
     "output_type": "execute_result"
    }
   ],
   "source": [
    "set1"
   ]
  },
  {
   "cell_type": "code",
   "execution_count": 322,
   "id": "145244ce",
   "metadata": {},
   "outputs": [],
   "source": [
    "set1 ={1,2,3,4,5,6}\n",
    "set2={1,2,3}"
   ]
  },
  {
   "cell_type": "code",
   "execution_count": 325,
   "id": "bec4531d",
   "metadata": {},
   "outputs": [
    {
     "data": {
      "text/plain": [
       "False"
      ]
     },
     "execution_count": 325,
     "metadata": {},
     "output_type": "execute_result"
    }
   ],
   "source": [
    "set2.issuperset(set1)"
   ]
  },
  {
   "cell_type": "code",
   "execution_count": 326,
   "id": "f808fce9",
   "metadata": {},
   "outputs": [
    {
     "data": {
      "text/plain": [
       "True"
      ]
     },
     "execution_count": 326,
     "metadata": {},
     "output_type": "execute_result"
    }
   ],
   "source": [
    "set2.issubset(set1)"
   ]
  },
  {
   "cell_type": "code",
   "execution_count": null,
   "id": "19498b5b",
   "metadata": {},
   "outputs": [],
   "source": [
    "Dictionaries are used to store data values in key:value pairs. A dictionary is a collection which is ordered*,\n",
    "changeable and do not allow duplicates. "
   ]
  },
  {
   "cell_type": "code",
   "execution_count": 327,
   "id": "0cbbf004",
   "metadata": {},
   "outputs": [],
   "source": [
    "dic ={'name':'babjee','age':40,'city':'chennai'}"
   ]
  },
  {
   "cell_type": "code",
   "execution_count": 328,
   "id": "267df8a1",
   "metadata": {},
   "outputs": [
    {
     "data": {
      "text/plain": [
       "{'name': 'babjee', 'age': 40, 'city': 'chennai'}"
      ]
     },
     "execution_count": 328,
     "metadata": {},
     "output_type": "execute_result"
    }
   ],
   "source": [
    "dic"
   ]
  },
  {
   "cell_type": "code",
   "execution_count": 329,
   "id": "bd3e4856",
   "metadata": {},
   "outputs": [
    {
     "data": {
      "text/plain": [
       "'babjee'"
      ]
     },
     "execution_count": 329,
     "metadata": {},
     "output_type": "execute_result"
    }
   ],
   "source": [
    "dic['name']"
   ]
  },
  {
   "cell_type": "code",
   "execution_count": 330,
   "id": "35e0e877",
   "metadata": {},
   "outputs": [],
   "source": [
    "dic['name']='ram'"
   ]
  },
  {
   "cell_type": "code",
   "execution_count": 331,
   "id": "a0f3adfb",
   "metadata": {},
   "outputs": [
    {
     "data": {
      "text/plain": [
       "{'name': 'ram', 'age': 40, 'city': 'chennai'}"
      ]
     },
     "execution_count": 331,
     "metadata": {},
     "output_type": "execute_result"
    }
   ],
   "source": [
    "dic"
   ]
  },
  {
   "cell_type": "code",
   "execution_count": 337,
   "id": "b50f929c",
   "metadata": {},
   "outputs": [],
   "source": [
    "dic['email']='bajee@gmail.com'"
   ]
  },
  {
   "cell_type": "code",
   "execution_count": 338,
   "id": "2d484c9e",
   "metadata": {},
   "outputs": [
    {
     "data": {
      "text/plain": [
       "{'name': 'ram', 'age': 40, 'city': 'chennai', 'email': 'bajee@gmail.com'}"
      ]
     },
     "execution_count": 338,
     "metadata": {},
     "output_type": "execute_result"
    }
   ],
   "source": [
    "dic"
   ]
  },
  {
   "cell_type": "code",
   "execution_count": 333,
   "id": "9d56727b",
   "metadata": {},
   "outputs": [],
   "source": [
    "dic.get('email')"
   ]
  },
  {
   "cell_type": "code",
   "execution_count": 339,
   "id": "c1c43f74",
   "metadata": {},
   "outputs": [
    {
     "data": {
      "text/plain": [
       "dict_keys(['name', 'age', 'city', 'email'])"
      ]
     },
     "execution_count": 339,
     "metadata": {},
     "output_type": "execute_result"
    }
   ],
   "source": [
    "dic.keys()"
   ]
  },
  {
   "cell_type": "code",
   "execution_count": 343,
   "id": "865a7ae6",
   "metadata": {},
   "outputs": [
    {
     "name": "stdout",
     "output_type": "stream",
     "text": [
      "name : ram\n",
      "age : 40\n",
      "city : chennai\n",
      "email : bajee@gmail.com\n"
     ]
    }
   ],
   "source": [
    "for i in dic.keys():\n",
    "    print(i, ':',dic.get(i))"
   ]
  },
  {
   "cell_type": "code",
   "execution_count": 344,
   "id": "9cb6b6f1",
   "metadata": {},
   "outputs": [
    {
     "data": {
      "text/plain": [
       "dict_values(['ram', 40, 'chennai', 'bajee@gmail.com'])"
      ]
     },
     "execution_count": 344,
     "metadata": {},
     "output_type": "execute_result"
    }
   ],
   "source": [
    "dic.values()"
   ]
  },
  {
   "cell_type": "code",
   "execution_count": 345,
   "id": "89b21baa",
   "metadata": {},
   "outputs": [
    {
     "data": {
      "text/plain": [
       "dict_items([('name', 'ram'), ('age', 40), ('city', 'chennai'), ('email', 'bajee@gmail.com')])"
      ]
     },
     "execution_count": 345,
     "metadata": {},
     "output_type": "execute_result"
    }
   ],
   "source": [
    "dic.items()"
   ]
  },
  {
   "cell_type": "code",
   "execution_count": 346,
   "id": "60b407bb",
   "metadata": {},
   "outputs": [
    {
     "name": "stdout",
     "output_type": "stream",
     "text": [
      "name : ram\n",
      "age : 40\n",
      "city : chennai\n",
      "email : bajee@gmail.com\n"
     ]
    }
   ],
   "source": [
    "for k,v in dic.items():\n",
    "    print(k,':',v)"
   ]
  },
  {
   "cell_type": "code",
   "execution_count": 265,
   "id": "b45daf1b",
   "metadata": {},
   "outputs": [
    {
     "name": "stdout",
     "output_type": "stream",
     "text": [
      "name ram\n",
      "age 40\n",
      "city chennai\n",
      "email ram@gmail.com\n"
     ]
    }
   ],
   "source": [
    "for k,v in dic.items():\n",
    "    print(k,v)"
   ]
  },
  {
   "cell_type": "code",
   "execution_count": 347,
   "id": "812cdd64",
   "metadata": {},
   "outputs": [
    {
     "data": {
      "text/plain": [
       "'bajee@gmail.com'"
      ]
     },
     "execution_count": 347,
     "metadata": {},
     "output_type": "execute_result"
    }
   ],
   "source": [
    "dic.pop('email')"
   ]
  },
  {
   "cell_type": "code",
   "execution_count": 348,
   "id": "93e1cd2a",
   "metadata": {},
   "outputs": [
    {
     "data": {
      "text/plain": [
       "('city', 'chennai')"
      ]
     },
     "execution_count": 348,
     "metadata": {},
     "output_type": "execute_result"
    }
   ],
   "source": [
    "dic.popitem()"
   ]
  },
  {
   "cell_type": "code",
   "execution_count": 268,
   "id": "4822a552",
   "metadata": {},
   "outputs": [
    {
     "data": {
      "text/plain": [
       "{'name': 'ram', 'age': 40}"
      ]
     },
     "execution_count": 268,
     "metadata": {},
     "output_type": "execute_result"
    }
   ],
   "source": [
    "dic"
   ]
  },
  {
   "cell_type": "code",
   "execution_count": 270,
   "id": "8bf37546",
   "metadata": {},
   "outputs": [],
   "source": [
    "dic.update({'city':'chennai'})"
   ]
  },
  {
   "cell_type": "code",
   "execution_count": 271,
   "id": "18754284",
   "metadata": {},
   "outputs": [],
   "source": [
    "dic.update({'email':'babjee@gmail.com','phone':9841699104})"
   ]
  },
  {
   "cell_type": "code",
   "execution_count": 272,
   "id": "26715f53",
   "metadata": {},
   "outputs": [
    {
     "data": {
      "text/plain": [
       "{'name': 'ram',\n",
       " 'age': 40,\n",
       " 'city': 'chennai',\n",
       " 'email': 'babjee@gmail.com',\n",
       " 'phone': 9841699104}"
      ]
     },
     "execution_count": 272,
     "metadata": {},
     "output_type": "execute_result"
    }
   ],
   "source": [
    "dic"
   ]
  },
  {
   "cell_type": "code",
   "execution_count": 273,
   "id": "993dc584",
   "metadata": {},
   "outputs": [],
   "source": [
    "dic.update({'email':'ram@gmail.com','phone':841699104})"
   ]
  },
  {
   "cell_type": "code",
   "execution_count": 274,
   "id": "e637dd3f",
   "metadata": {},
   "outputs": [
    {
     "data": {
      "text/plain": [
       "{'name': 'ram',\n",
       " 'age': 40,\n",
       " 'city': 'chennai',\n",
       " 'email': 'ram@gmail.com',\n",
       " 'phone': 841699104}"
      ]
     },
     "execution_count": 274,
     "metadata": {},
     "output_type": "execute_result"
    }
   ],
   "source": [
    "dic"
   ]
  },
  {
   "cell_type": "code",
   "execution_count": 275,
   "id": "62999073",
   "metadata": {},
   "outputs": [],
   "source": [
    "dic={}"
   ]
  },
  {
   "cell_type": "code",
   "execution_count": 349,
   "id": "361666fc",
   "metadata": {},
   "outputs": [
    {
     "name": "stdout",
     "output_type": "stream",
     "text": [
      "{'key1': 0, 'key2': 0, 'key3': 0}\n"
     ]
    }
   ],
   "source": [
    "x = ('key1', 'key2', 'key3')\n",
    "y = 0\n",
    "\n",
    "thisdict = dict.fromkeys(x, y)\n",
    "\n",
    "print(thisdict)"
   ]
  },
  {
   "cell_type": "code",
   "execution_count": 285,
   "id": "2899b2c8",
   "metadata": {},
   "outputs": [
    {
     "data": {
      "text/plain": [
       "{}"
      ]
     },
     "execution_count": 285,
     "metadata": {},
     "output_type": "execute_result"
    }
   ],
   "source": [
    "dic"
   ]
  },
  {
   "cell_type": "code",
   "execution_count": 351,
   "id": "3a1fcb18",
   "metadata": {},
   "outputs": [],
   "source": [
    "people = {1: {'name': 'John', 'age': '27', 'sex': 'Male'},\n",
    "          2: {'name': 'Marie', 'age': '22', 'sex': 'Female'}}"
   ]
  },
  {
   "cell_type": "code",
   "execution_count": 352,
   "id": "909a2a0a",
   "metadata": {},
   "outputs": [
    {
     "data": {
      "text/plain": [
       "{1: {'name': 'John', 'age': '27', 'sex': 'Male'},\n",
       " 2: {'name': 'Marie', 'age': '22', 'sex': 'Female'}}"
      ]
     },
     "execution_count": 352,
     "metadata": {},
     "output_type": "execute_result"
    }
   ],
   "source": [
    "people"
   ]
  },
  {
   "cell_type": "code",
   "execution_count": 353,
   "id": "b5d61770",
   "metadata": {},
   "outputs": [
    {
     "data": {
      "text/plain": [
       "{'name': 'John', 'age': '27', 'sex': 'Male'}"
      ]
     },
     "execution_count": 353,
     "metadata": {},
     "output_type": "execute_result"
    }
   ],
   "source": [
    "people[1]"
   ]
  },
  {
   "cell_type": "code",
   "execution_count": 354,
   "id": "2fe1ea73",
   "metadata": {},
   "outputs": [
    {
     "name": "stdout",
     "output_type": "stream",
     "text": [
      "John\n",
      "27\n",
      "Male\n"
     ]
    }
   ],
   "source": [
    "print(people[1]['name'])\n",
    "print(people[1]['age'])\n",
    "print(people[1]['sex'])\n"
   ]
  },
  {
   "cell_type": "code",
   "execution_count": 293,
   "id": "9124c9c3",
   "metadata": {},
   "outputs": [],
   "source": [
    "people[1]['name']='sham'"
   ]
  },
  {
   "cell_type": "code",
   "execution_count": 362,
   "id": "c897f651",
   "metadata": {},
   "outputs": [
    {
     "data": {
      "text/plain": [
       "{1: {'name': 'John', 'age': '27', 'sex': 'Male'},\n",
       " 2: {'name': 'Marie', 'age': '22', 'sex': 'Female'},\n",
       " 3: {'name': 'Luna', 'age': '24', 'sex': 'Female', 'married': 'No'}}"
      ]
     },
     "execution_count": 362,
     "metadata": {},
     "output_type": "execute_result"
    }
   ],
   "source": [
    "people"
   ]
  },
  {
   "cell_type": "code",
   "execution_count": 361,
   "id": "9512cf15",
   "metadata": {},
   "outputs": [],
   "source": [
    "\n",
    "\n",
    "people[3]['name'] = 'Luna'\n",
    "people[3]['age'] = '24'\n",
    "people[3]['sex'] = 'Female'\n",
    "people[3]['married'] = 'No'"
   ]
  },
  {
   "cell_type": "code",
   "execution_count": 298,
   "id": "19b9d142",
   "metadata": {},
   "outputs": [
    {
     "data": {
      "text/plain": [
       "{'name': 'Luna', 'age': '24', 'sex': 'Female', 'married': 'No'}"
      ]
     },
     "execution_count": 298,
     "metadata": {},
     "output_type": "execute_result"
    }
   ],
   "source": [
    "people[3]"
   ]
  },
  {
   "cell_type": "code",
   "execution_count": 300,
   "id": "fe3e34eb",
   "metadata": {},
   "outputs": [],
   "source": [
    "del people[3]['married']"
   ]
  },
  {
   "cell_type": "code",
   "execution_count": 364,
   "id": "84d8b030",
   "metadata": {},
   "outputs": [
    {
     "data": {
      "text/plain": [
       "{1: {'name': 'John', 'age': '27', 'sex': 'Male'},\n",
       " 2: {'name': 'Marie', 'age': '22', 'sex': 'Female'},\n",
       " 3: {'name': 'Luna', 'age': '24', 'sex': 'Female', 'married': 'No'},\n",
       " 4: {'name': 'Peter', 'age': '29', 'sex': 'Male', 'married': 'Yes'}}"
      ]
     },
     "execution_count": 364,
     "metadata": {},
     "output_type": "execute_result"
    }
   ],
   "source": [
    "people"
   ]
  },
  {
   "cell_type": "code",
   "execution_count": 301,
   "id": "a7796f80",
   "metadata": {},
   "outputs": [
    {
     "data": {
      "text/plain": [
       "{'name': 'Luna', 'age': '24', 'sex': 'Female'}"
      ]
     },
     "execution_count": 301,
     "metadata": {},
     "output_type": "execute_result"
    }
   ],
   "source": [
    "people[3]"
   ]
  },
  {
   "cell_type": "code",
   "execution_count": 302,
   "id": "e015814e",
   "metadata": {},
   "outputs": [],
   "source": [
    "del people[3]"
   ]
  },
  {
   "cell_type": "code",
   "execution_count": 303,
   "id": "4208c51c",
   "metadata": {},
   "outputs": [
    {
     "data": {
      "text/plain": [
       "{1: {'name': 'sham', 'age': '27', 'sex': 'Male'},\n",
       " 2: {'name': 'Marie', 'age': '22', 'sex': 'Female'},\n",
       " 4: {'name': 'Peter', 'age': '29', 'sex': 'Male', 'married': 'Yes'}}"
      ]
     },
     "execution_count": 303,
     "metadata": {},
     "output_type": "execute_result"
    }
   ],
   "source": [
    "people"
   ]
  },
  {
   "cell_type": "code",
   "execution_count": 365,
   "id": "dcc270e0",
   "metadata": {},
   "outputs": [
    {
     "name": "stdout",
     "output_type": "stream",
     "text": [
      "\n",
      "Person ID: 1\n",
      "name: John\n",
      "age: 27\n",
      "sex: Male\n",
      "\n",
      "Person ID: 2\n",
      "name: Marie\n",
      "age: 22\n",
      "sex: Female\n",
      "\n",
      "Person ID: 3\n",
      "name: Luna\n",
      "age: 24\n",
      "sex: Female\n",
      "married: No\n",
      "\n",
      "Person ID: 4\n",
      "name: Peter\n",
      "age: 29\n",
      "sex: Male\n",
      "married: Yes\n"
     ]
    }
   ],
   "source": [
    "for p_id, p_info in people.items():\n",
    "    print(\"\\nPerson ID:\", p_id)\n",
    "    \n",
    "    for key in p_info:\n",
    "        print(key + ':', p_info[key])"
   ]
  },
  {
   "cell_type": "code",
   "execution_count": null,
   "id": "f087afa6",
   "metadata": {},
   "outputs": [],
   "source": [
    "# arithmetic operators in Python\n",
    "Addition (+)\n",
    "Subtraction (-)\n",
    "Multiplication (*)\n",
    "Division (/)\n",
    "Modulus (%)\n",
    "Exponentiation (**)\n",
    "Floor Division (//)"
   ]
  },
  {
   "cell_type": "code",
   "execution_count": 309,
   "id": "6624a157",
   "metadata": {},
   "outputs": [
    {
     "data": {
      "text/plain": [
       "30"
      ]
     },
     "execution_count": 309,
     "metadata": {},
     "output_type": "execute_result"
    }
   ],
   "source": [
    "10+20"
   ]
  },
  {
   "cell_type": "code",
   "execution_count": 310,
   "id": "81a73a50",
   "metadata": {},
   "outputs": [
    {
     "data": {
      "text/plain": [
       "10"
      ]
     },
     "execution_count": 310,
     "metadata": {},
     "output_type": "execute_result"
    }
   ],
   "source": [
    "20-10"
   ]
  },
  {
   "cell_type": "code",
   "execution_count": 311,
   "id": "6509594b",
   "metadata": {},
   "outputs": [
    {
     "data": {
      "text/plain": [
       "200"
      ]
     },
     "execution_count": 311,
     "metadata": {},
     "output_type": "execute_result"
    }
   ],
   "source": [
    "10 *20"
   ]
  },
  {
   "cell_type": "code",
   "execution_count": 1,
   "id": "d797e098",
   "metadata": {},
   "outputs": [
    {
     "data": {
      "text/plain": [
       "3.3333333333333335"
      ]
     },
     "execution_count": 1,
     "metadata": {},
     "output_type": "execute_result"
    }
   ],
   "source": [
    "10/3"
   ]
  },
  {
   "cell_type": "code",
   "execution_count": 2,
   "id": "9cb9710d",
   "metadata": {},
   "outputs": [
    {
     "data": {
      "text/plain": [
       "3"
      ]
     },
     "execution_count": 2,
     "metadata": {},
     "output_type": "execute_result"
    }
   ],
   "source": [
    "10//3\n"
   ]
  },
  {
   "cell_type": "code",
   "execution_count": 315,
   "id": "f730dcda",
   "metadata": {},
   "outputs": [
    {
     "data": {
      "text/plain": [
       "0"
      ]
     },
     "execution_count": 315,
     "metadata": {},
     "output_type": "execute_result"
    }
   ],
   "source": [
    "10%2"
   ]
  },
  {
   "cell_type": "code",
   "execution_count": 316,
   "id": "70bd0de9",
   "metadata": {},
   "outputs": [
    {
     "data": {
      "text/plain": [
       "100"
      ]
     },
     "execution_count": 316,
     "metadata": {},
     "output_type": "execute_result"
    }
   ],
   "source": [
    "10**2"
   ]
  },
  {
   "cell_type": "code",
   "execution_count": null,
   "id": "541a68c7",
   "metadata": {},
   "outputs": [],
   "source": [
    "Equal to ==\n",
    "Not equal to !=\n",
    "Greater than >\n",
    "Less than <\n",
    "Greater than or equal to >=\n",
    "Less than or equal to <="
   ]
  },
  {
   "cell_type": "code",
   "execution_count": 317,
   "id": "d239846f",
   "metadata": {},
   "outputs": [
    {
     "data": {
      "text/plain": [
       "True"
      ]
     },
     "execution_count": 317,
     "metadata": {},
     "output_type": "execute_result"
    }
   ],
   "source": [
    "10==10"
   ]
  },
  {
   "cell_type": "code",
   "execution_count": 318,
   "id": "6b99051b",
   "metadata": {},
   "outputs": [
    {
     "data": {
      "text/plain": [
       "True"
      ]
     },
     "execution_count": 318,
     "metadata": {},
     "output_type": "execute_result"
    }
   ],
   "source": [
    "10 !=20"
   ]
  },
  {
   "cell_type": "code",
   "execution_count": 319,
   "id": "65e87ada",
   "metadata": {},
   "outputs": [
    {
     "data": {
      "text/plain": [
       "True"
      ]
     },
     "execution_count": 319,
     "metadata": {},
     "output_type": "execute_result"
    }
   ],
   "source": [
    "10 >5"
   ]
  },
  {
   "cell_type": "code",
   "execution_count": 320,
   "id": "ac5a82de",
   "metadata": {},
   "outputs": [
    {
     "data": {
      "text/plain": [
       "True"
      ]
     },
     "execution_count": 320,
     "metadata": {},
     "output_type": "execute_result"
    }
   ],
   "source": [
    "10 >=10"
   ]
  },
  {
   "cell_type": "code",
   "execution_count": 322,
   "id": "0da3cb23",
   "metadata": {},
   "outputs": [
    {
     "data": {
      "text/plain": [
       "True"
      ]
     },
     "execution_count": 322,
     "metadata": {},
     "output_type": "execute_result"
    }
   ],
   "source": [
    "10 <20"
   ]
  },
  {
   "cell_type": "code",
   "execution_count": 323,
   "id": "1a39c7d6",
   "metadata": {},
   "outputs": [
    {
     "data": {
      "text/plain": [
       "True"
      ]
     },
     "execution_count": 323,
     "metadata": {},
     "output_type": "execute_result"
    }
   ],
   "source": [
    "10 <=10"
   ]
  },
  {
   "cell_type": "code",
   "execution_count": null,
   "id": "52b04f49",
   "metadata": {},
   "outputs": [],
   "source": [
    "= equals\n",
    "+= adition equals\n",
    "-= subtraction equals\n",
    "*= multiplay equal\n",
    "/= division equlas\n",
    "//= floor division equals\n",
    "**/ exponet equal\n",
    "%/= modules equals"
   ]
  },
  {
   "cell_type": "code",
   "execution_count": 3,
   "id": "dfb3d6c9",
   "metadata": {},
   "outputs": [],
   "source": [
    "a=10"
   ]
  },
  {
   "cell_type": "code",
   "execution_count": 4,
   "id": "4334e302",
   "metadata": {},
   "outputs": [
    {
     "name": "stdout",
     "output_type": "stream",
     "text": [
      "20\n"
     ]
    }
   ],
   "source": [
    "a+=10\n",
    "print(a)"
   ]
  },
  {
   "cell_type": "code",
   "execution_count": 5,
   "id": "d606ef38",
   "metadata": {},
   "outputs": [
    {
     "name": "stdout",
     "output_type": "stream",
     "text": [
      "10\n"
     ]
    }
   ],
   "source": [
    "a-=10\n",
    "print(a)"
   ]
  },
  {
   "cell_type": "code",
   "execution_count": 6,
   "id": "6cf9776c",
   "metadata": {},
   "outputs": [
    {
     "name": "stdout",
     "output_type": "stream",
     "text": [
      "100\n"
     ]
    }
   ],
   "source": [
    "a*=10\n",
    "print(a)"
   ]
  },
  {
   "cell_type": "code",
   "execution_count": 7,
   "id": "fbf93c8a",
   "metadata": {},
   "outputs": [
    {
     "name": "stdout",
     "output_type": "stream",
     "text": [
      "3.3333333333333335\n"
     ]
    }
   ],
   "source": [
    "a=10\n",
    "a /=3\n",
    "print(a)"
   ]
  },
  {
   "cell_type": "code",
   "execution_count": 8,
   "id": "b50f314a",
   "metadata": {},
   "outputs": [
    {
     "name": "stdout",
     "output_type": "stream",
     "text": [
      "3\n"
     ]
    }
   ],
   "source": [
    "a=10\n",
    "a//=3\n",
    "print(a)"
   ]
  },
  {
   "cell_type": "code",
   "execution_count": 9,
   "id": "9f8d90c2",
   "metadata": {},
   "outputs": [
    {
     "name": "stdout",
     "output_type": "stream",
     "text": [
      "1\n"
     ]
    }
   ],
   "source": [
    "a%=2\n",
    "print(a)"
   ]
  },
  {
   "cell_type": "code",
   "execution_count": null,
   "id": "e80b4f3e",
   "metadata": {},
   "outputs": [],
   "source": [
    "#logical operatos\n",
    "and\n",
    "or\n",
    "not"
   ]
  },
  {
   "cell_type": "code",
   "execution_count": 337,
   "id": "f592d550",
   "metadata": {},
   "outputs": [
    {
     "name": "stdout",
     "output_type": "stream",
     "text": [
      "True\n"
     ]
    }
   ],
   "source": [
    "x = 5\n",
    "\n",
    "print(x > 3 and x < 10)\n"
   ]
  },
  {
   "cell_type": "code",
   "execution_count": 338,
   "id": "3f15cdd9",
   "metadata": {},
   "outputs": [
    {
     "name": "stdout",
     "output_type": "stream",
     "text": [
      "True\n"
     ]
    }
   ],
   "source": [
    "x = 5\n",
    "\n",
    "print(x > 3 or x < 4)\n"
   ]
  },
  {
   "cell_type": "code",
   "execution_count": 10,
   "id": "0e79c2e0",
   "metadata": {},
   "outputs": [
    {
     "name": "stdout",
     "output_type": "stream",
     "text": [
      "False\n"
     ]
    }
   ],
   "source": [
    "x = 5\n",
    "\n",
    "print(not(x > 3 and x < 10))\n"
   ]
  },
  {
   "cell_type": "code",
   "execution_count": null,
   "id": "00db1c51",
   "metadata": {},
   "outputs": [],
   "source": [
    "#identity operatos\n",
    "is Returns true if both variables are the same object\n",
    "is not Returns true if both variables are not the same object"
   ]
  },
  {
   "cell_type": "code",
   "execution_count": 12,
   "id": "ecf3e5c7",
   "metadata": {},
   "outputs": [
    {
     "name": "stdout",
     "output_type": "stream",
     "text": [
      "False\n"
     ]
    }
   ],
   "source": [
    "x = [\"apple\", \"banana\"]\n",
    "y = [\"apple\", \"banana\"]\n",
    "z = x\n",
    "\n",
    "print(x is y)"
   ]
  },
  {
   "cell_type": "code",
   "execution_count": 18,
   "id": "69b21b79",
   "metadata": {},
   "outputs": [
    {
     "name": "stdout",
     "output_type": "stream",
     "text": [
      "False\n"
     ]
    }
   ],
   "source": [
    "print(x is not x)"
   ]
  },
  {
   "cell_type": "code",
   "execution_count": 341,
   "id": "e066ab7a",
   "metadata": {},
   "outputs": [
    {
     "name": "stdout",
     "output_type": "stream",
     "text": [
      "False\n"
     ]
    }
   ],
   "source": [
    "print(x is y #returns False because x is not the same object as y, even if they have the same content\n"
   ]
  },
  {
   "cell_type": "code",
   "execution_count": 342,
   "id": "4cb03c2a",
   "metadata": {},
   "outputs": [
    {
     "name": "stdout",
     "output_type": "stream",
     "text": [
      "True\n"
     ]
    }
   ],
   "source": [
    "print(x == y)"
   ]
  },
  {
   "cell_type": "code",
   "execution_count": 343,
   "id": "93da0280",
   "metadata": {},
   "outputs": [
    {
     "data": {
      "text/plain": [
       "2618093969792"
      ]
     },
     "execution_count": 343,
     "metadata": {},
     "output_type": "execute_result"
    }
   ],
   "source": [
    "id(x)"
   ]
  },
  {
   "cell_type": "code",
   "execution_count": 344,
   "id": "bfe9fb69",
   "metadata": {},
   "outputs": [
    {
     "data": {
      "text/plain": [
       "2618093969792"
      ]
     },
     "execution_count": 344,
     "metadata": {},
     "output_type": "execute_result"
    }
   ],
   "source": [
    "id(z)"
   ]
  },
  {
   "cell_type": "code",
   "execution_count": 345,
   "id": "7cecb3b6",
   "metadata": {},
   "outputs": [
    {
     "data": {
      "text/plain": [
       "2618082990208"
      ]
     },
     "execution_count": 345,
     "metadata": {},
     "output_type": "execute_result"
    }
   ],
   "source": [
    "id(y)"
   ]
  },
  {
   "cell_type": "code",
   "execution_count": null,
   "id": "133b5e6e",
   "metadata": {},
   "outputs": [],
   "source": [
    "#membership operators\n",
    "in \tReturns True if a sequence with the specified value is present in the object\n",
    "not in\tReturns True if a sequence with the specified value is not present in the object"
   ]
  },
  {
   "cell_type": "code",
   "execution_count": 346,
   "id": "ec9e76be",
   "metadata": {},
   "outputs": [
    {
     "name": "stdout",
     "output_type": "stream",
     "text": [
      "True\n"
     ]
    }
   ],
   "source": [
    "x = [\"apple\", \"banana\"]\n",
    "\n",
    "print(\"banana\" in x)"
   ]
  },
  {
   "cell_type": "code",
   "execution_count": 347,
   "id": "91dff844",
   "metadata": {},
   "outputs": [
    {
     "name": "stdout",
     "output_type": "stream",
     "text": [
      "False\n"
     ]
    }
   ],
   "source": [
    "x = [\"apple\", \"banana\"]\n",
    "\n",
    "print(\"banana\" not in x)"
   ]
  },
  {
   "cell_type": "code",
   "execution_count": null,
   "id": "27971d5c",
   "metadata": {},
   "outputs": [],
   "source": [
    "Bit wise operatos\n",
    "& \tAND\tSe+ts each bit to 1 if both bits are 1\n",
    "|\tOR\tSets each bit to 1 if one of two bits is 1\n",
    " ^\tXOR\tSets each bit to 1 if only one of two bits is 1\n",
    "~ \tNOT\tInverts all the bits\n",
    "<<\tZero fill left shift\tShift left by pushing zeros in from the right and let the leftmost bits fall off\n",
    ">>\tSigned right shift\tShift right by pushing copies of the leftmost bit in from the left, and let the rightmost bits fall off"
   ]
  },
  {
   "cell_type": "code",
   "execution_count": 348,
   "id": "ce3e51ba",
   "metadata": {},
   "outputs": [
    {
     "data": {
      "text/plain": [
       "0"
      ]
     },
     "execution_count": 348,
     "metadata": {},
     "output_type": "execute_result"
    }
   ],
   "source": [
    "10 & 4   1010\n",
    "         0101\n",
    "         0000"
   ]
  },
  {
   "cell_type": "code",
   "execution_count": 349,
   "id": "38c65ede",
   "metadata": {},
   "outputs": [
    {
     "data": {
      "text/plain": [
       "14"
      ]
     },
     "execution_count": 349,
     "metadata": {},
     "output_type": "execute_result"
    }
   ],
   "source": [
    "10 |4   1010\n",
    "        0100\n",
    "        1110    8+4+2+0  "
   ]
  },
  {
   "cell_type": "code",
   "execution_count": 352,
   "id": "295e7d5f",
   "metadata": {},
   "outputs": [
    {
     "data": {
      "text/plain": [
       "2"
      ]
     },
     "execution_count": 352,
     "metadata": {},
     "output_type": "execute_result"
    }
   ],
   "source": [
    "10 ^ 8    1010\n",
    "          1000\n",
    "          0010   0+0+2+0 =2"
   ]
  },
  {
   "cell_type": "code",
   "execution_count": 359,
   "id": "860d4e64",
   "metadata": {},
   "outputs": [
    {
     "data": {
      "text/plain": [
       "-11"
      ]
     },
     "execution_count": 359,
     "metadata": {},
     "output_type": "execute_result"
    }
   ],
   "source": [
    "a=10    1010\n",
    "~a       01001"
   ]
  },
  {
   "cell_type": "code",
   "execution_count": 360,
   "id": "03cd80b7",
   "metadata": {},
   "outputs": [
    {
     "data": {
      "text/plain": [
       "40"
      ]
     },
     "execution_count": 360,
     "metadata": {},
     "output_type": "execute_result"
    }
   ],
   "source": [
    "10 <<2   # 001010  --- 101000"
   ]
  },
  {
   "cell_type": "code",
   "execution_count": 21,
   "id": "a883f16d",
   "metadata": {},
   "outputs": [
    {
     "data": {
      "text/plain": [
       "40"
      ]
     },
     "execution_count": 21,
     "metadata": {},
     "output_type": "execute_result"
    }
   ],
   "source": [
    "10 <<2   101000 \n"
   ]
  },
  {
   "cell_type": "code",
   "execution_count": 23,
   "id": "9915b971",
   "metadata": {},
   "outputs": [
    {
     "name": "stdout",
     "output_type": "stream",
     "text": [
      "Enter your age10\n",
      "Good Bye\n"
     ]
    }
   ],
   "source": [
    "age =int(input('Enter your age'))\n",
    "if age>=18:\n",
    "    print('You are Eligible for vote')\n",
    "print('Good Bye')"
   ]
  },
  {
   "cell_type": "code",
   "execution_count": 25,
   "id": "505e6034",
   "metadata": {},
   "outputs": [
    {
     "name": "stdout",
     "output_type": "stream",
     "text": [
      "Enter your age20\n",
      "You are Eligible for vote\n",
      "Good Bye\n"
     ]
    }
   ],
   "source": [
    "age =int(input('Enter your age'))\n",
    "if age>=18:\n",
    "    print('You are Eligible for vote')\n",
    "else:\n",
    "    print('You are not Eligible for vote')\n",
    "print('Good Bye')"
   ]
  },
  {
   "cell_type": "code",
   "execution_count": 367,
   "id": "01c3f2c9",
   "metadata": {},
   "outputs": [
    {
     "name": "stdout",
     "output_type": "stream",
     "text": [
      "Enter the Amount11000\n",
      "Total Amount 11000\n",
      "Discount     2750.0\n",
      "Net Amount   8250.0\n"
     ]
    }
   ],
   "source": [
    "amt =int(input('Enter the Amount'))\n",
    "if amt >10000:\n",
    "    discount = amt*.25\n",
    "elif amt >5000:\n",
    "    discount =amt *.15\n",
    "elif amt >3000:\n",
    "    discount =amt *.1\n",
    "else:\n",
    "    discount =amt * 0.05\n",
    "netamt=amt-discount\n",
    "print('Total Amount',amt)\n",
    "print('Discount    ',discount)\n",
    "print('Net Amount  ', netamt)\n"
   ]
  },
  {
   "cell_type": "code",
   "execution_count": 370,
   "id": "67dec83d",
   "metadata": {},
   "outputs": [
    {
     "name": "stdout",
     "output_type": "stream",
     "text": [
      "Enter the Amount40\n",
      "below 50\n"
     ]
    }
   ],
   "source": [
    "amt =int(input('Enter the Amount'))\n",
    "if amt >= 50:\n",
    "    print('above 50')\n",
    "    if amt >100:\n",
    "        print('and also above 100')\n",
    "    else:\n",
    "        print('But not above 100')\n",
    "else:\n",
    "    print('below 50')"
   ]
  },
  {
   "cell_type": "markdown",
   "id": "003d513d",
   "metadata": {},
   "source": [
    "# for i in :\n",
    "    print(i)"
   ]
  },
  {
   "cell_type": "code",
   "execution_count": 33,
   "id": "43cce2a6",
   "metadata": {},
   "outputs": [
    {
     "name": "stdout",
     "output_type": "stream",
     "text": [
      "NAME RAM\n",
      "AGE 40\n",
      "CITY CHENNAI\n"
     ]
    }
   ],
   "source": [
    "dic ={'NAME':'RAM','AGE':40,'CITY':'CHENNAI'}\n",
    "for k,v in dic.items():\n",
    "    print(k,v)"
   ]
  },
  {
   "cell_type": "code",
   "execution_count": 34,
   "id": "3d00774a",
   "metadata": {},
   "outputs": [
    {
     "name": "stdout",
     "output_type": "stream",
     "text": [
      "0\n",
      "1\n",
      "2\n",
      "3\n",
      "4\n"
     ]
    }
   ],
   "source": [
    "for i in range(10):\n",
    "    if i==5:\n",
    "      break\n",
    "    print(i)\n",
    "    "
   ]
  },
  {
   "cell_type": "code",
   "execution_count": 35,
   "id": "36857171",
   "metadata": {},
   "outputs": [
    {
     "name": "stdout",
     "output_type": "stream",
     "text": [
      "0\n",
      "1\n",
      "2\n",
      "3\n",
      "4\n",
      "6\n",
      "7\n",
      "8\n",
      "9\n"
     ]
    }
   ],
   "source": [
    "for i in range(10):\n",
    "    if i==5:\n",
    "      continue\n",
    "    print(i)"
   ]
  },
  {
   "cell_type": "code",
   "execution_count": 378,
   "id": "ab6aa8fd",
   "metadata": {},
   "outputs": [
    {
     "name": "stdout",
     "output_type": "stream",
     "text": [
      "0\n",
      "2\n",
      "4\n",
      "6\n",
      "8\n"
     ]
    }
   ],
   "source": [
    "for i in range(10):\n",
    "    if i%2==1:\n",
    "      continue\n",
    "    print(i)"
   ]
  },
  {
   "cell_type": "code",
   "execution_count": 36,
   "id": "ea902380",
   "metadata": {},
   "outputs": [
    {
     "name": "stdout",
     "output_type": "stream",
     "text": [
      "babjeereddy"
     ]
    }
   ],
   "source": [
    "for i in 'babjee reddy':\n",
    "    if i==' ':\n",
    "        continue\n",
    "    print(i,end='')"
   ]
  },
  {
   "cell_type": "code",
   "execution_count": 383,
   "id": "92873964",
   "metadata": {},
   "outputs": [
    {
     "name": "stdout",
     "output_type": "stream",
     "text": [
      "Outer Loop 0\n",
      "      Inner Loop 0\n",
      "      Inner Loop 1\n",
      "      Inner Loop 2\n",
      "      Inner Loop 3\n",
      "      Inner Loop 4\n",
      "Outer Loop 1\n",
      "      Inner Loop 0\n",
      "      Inner Loop 1\n",
      "      Inner Loop 2\n",
      "      Inner Loop 3\n",
      "      Inner Loop 4\n",
      "Outer Loop 2\n",
      "      Inner Loop 0\n",
      "      Inner Loop 1\n",
      "      Inner Loop 2\n",
      "      Inner Loop 3\n",
      "      Inner Loop 4\n",
      "Outer Loop 3\n",
      "      Inner Loop 0\n",
      "      Inner Loop 1\n",
      "      Inner Loop 2\n",
      "      Inner Loop 3\n",
      "      Inner Loop 4\n",
      "Outer Loop 4\n",
      "      Inner Loop 0\n",
      "      Inner Loop 1\n",
      "      Inner Loop 2\n",
      "      Inner Loop 3\n",
      "      Inner Loop 4\n"
     ]
    }
   ],
   "source": [
    "for i in range(5):\n",
    "    print('Outer Loop',i)\n",
    "    for j in range(5):\n",
    "        print('      Inner Loop',j)"
   ]
  },
  {
   "cell_type": "code",
   "execution_count": 388,
   "id": "1fe5714a",
   "metadata": {},
   "outputs": [
    {
     "name": "stdout",
     "output_type": "stream",
     "text": [
      "10\n",
      "9\n",
      "8\n",
      "7\n",
      "6\n",
      "5\n",
      "4\n",
      "3\n",
      "2\n",
      "1\n",
      "0\n"
     ]
    }
   ],
   "source": [
    "for i in range(10,-1,-1):\n",
    "    print(i)"
   ]
  },
  {
   "cell_type": "code",
   "execution_count": 391,
   "id": "0843fb9c",
   "metadata": {},
   "outputs": [
    {
     "name": "stdout",
     "output_type": "stream",
     "text": [
      "10\n",
      "9\n",
      "8\n",
      "7\n",
      "6\n",
      "5\n",
      "4\n",
      "3\n",
      "2\n",
      "1\n",
      "0\n"
     ]
    }
   ],
   "source": [
    "for i in reversed(range(11)):print(i)"
   ]
  },
  {
   "cell_type": "code",
   "execution_count": 392,
   "id": "69bb9ecd",
   "metadata": {},
   "outputs": [
    {
     "name": "stdout",
     "output_type": "stream",
     "text": [
      "\n",
      "* \n",
      "* * \n",
      "* * * \n",
      "* * * * \n",
      "* * * * * \n",
      "* * * * * * \n",
      "* * * * * * * \n",
      "* * * * * * * * \n",
      "* * * * * * * * * \n"
     ]
    }
   ],
   "source": [
    "for i in range(10):\n",
    "    for j in range(i):\n",
    "        print('*', end=' ')\n",
    "    print()"
   ]
  },
  {
   "cell_type": "code",
   "execution_count": 393,
   "id": "775c2ef1",
   "metadata": {},
   "outputs": [
    {
     "name": "stdout",
     "output_type": "stream",
     "text": [
      "* * * * * * * * * * \n",
      "* * * * * * * * * \n",
      "* * * * * * * * \n",
      "* * * * * * * \n",
      "* * * * * * \n",
      "* * * * * \n",
      "* * * * \n",
      "* * * \n",
      "* * \n",
      "* \n",
      "\n"
     ]
    }
   ],
   "source": [
    "for i in range(10,-1,-1):\n",
    "    for j in range(i):\n",
    "        print('*', end=' ')\n",
    "    print()"
   ]
  },
  {
   "cell_type": "code",
   "execution_count": 394,
   "id": "e547d05b",
   "metadata": {},
   "outputs": [
    {
     "name": "stdout",
     "output_type": "stream",
     "text": [
      "0\n",
      "1\n",
      "2\n",
      "3\n",
      "4\n"
     ]
    }
   ],
   "source": [
    "i = 0\n",
    "while i < 5:\n",
    "    print(i)\n",
    "    i += 1"
   ]
  },
  {
   "cell_type": "code",
   "execution_count": 396,
   "id": "804ff990",
   "metadata": {},
   "outputs": [
    {
     "name": "stdout",
     "output_type": "stream",
     "text": [
      "1 * 1 = 1\n",
      "1 * 2 = 2\n",
      "1 * 3 = 3\n",
      "1 * 4 = 4\n",
      "1 * 5 = 5\n",
      "1 * 6 = 6\n",
      "1 * 7 = 7\n",
      "1 * 8 = 8\n",
      "1 * 9 = 9\n",
      "1 * 10 = 10\n",
      "\n",
      "2 * 1 = 2\n",
      "2 * 2 = 4\n",
      "2 * 3 = 6\n",
      "2 * 4 = 8\n",
      "2 * 5 = 10\n",
      "2 * 6 = 12\n",
      "2 * 7 = 14\n",
      "2 * 8 = 16\n",
      "2 * 9 = 18\n",
      "2 * 10 = 20\n",
      "\n",
      "3 * 1 = 3\n",
      "3 * 2 = 6\n",
      "3 * 3 = 9\n",
      "3 * 4 = 12\n",
      "3 * 5 = 15\n",
      "3 * 6 = 18\n",
      "3 * 7 = 21\n",
      "3 * 8 = 24\n",
      "3 * 9 = 27\n",
      "3 * 10 = 30\n",
      "\n",
      "4 * 1 = 4\n",
      "4 * 2 = 8\n",
      "4 * 3 = 12\n",
      "4 * 4 = 16\n",
      "4 * 5 = 20\n",
      "4 * 6 = 24\n",
      "4 * 7 = 28\n",
      "4 * 8 = 32\n",
      "4 * 9 = 36\n",
      "4 * 10 = 40\n",
      "\n",
      "5 * 1 = 5\n",
      "5 * 2 = 10\n",
      "5 * 3 = 15\n",
      "5 * 4 = 20\n",
      "5 * 5 = 25\n",
      "5 * 6 = 30\n",
      "5 * 7 = 35\n",
      "5 * 8 = 40\n",
      "5 * 9 = 45\n",
      "5 * 10 = 50\n",
      "\n",
      "6 * 1 = 6\n",
      "6 * 2 = 12\n",
      "6 * 3 = 18\n",
      "6 * 4 = 24\n",
      "6 * 5 = 30\n",
      "6 * 6 = 36\n",
      "6 * 7 = 42\n",
      "6 * 8 = 48\n",
      "6 * 9 = 54\n",
      "6 * 10 = 60\n",
      "\n",
      "7 * 1 = 7\n",
      "7 * 2 = 14\n",
      "7 * 3 = 21\n",
      "7 * 4 = 28\n",
      "7 * 5 = 35\n",
      "7 * 6 = 42\n",
      "7 * 7 = 49\n",
      "7 * 8 = 56\n",
      "7 * 9 = 63\n",
      "7 * 10 = 70\n",
      "\n",
      "8 * 1 = 8\n",
      "8 * 2 = 16\n",
      "8 * 3 = 24\n",
      "8 * 4 = 32\n",
      "8 * 5 = 40\n",
      "8 * 6 = 48\n",
      "8 * 7 = 56\n",
      "8 * 8 = 64\n",
      "8 * 9 = 72\n",
      "8 * 10 = 80\n",
      "\n",
      "9 * 1 = 9\n",
      "9 * 2 = 18\n",
      "9 * 3 = 27\n",
      "9 * 4 = 36\n",
      "9 * 5 = 45\n",
      "9 * 6 = 54\n",
      "9 * 7 = 63\n",
      "9 * 8 = 72\n",
      "9 * 9 = 81\n",
      "9 * 10 = 90\n",
      "\n",
      "10 * 1 = 10\n",
      "10 * 2 = 20\n",
      "10 * 3 = 30\n",
      "10 * 4 = 40\n",
      "10 * 5 = 50\n",
      "10 * 6 = 60\n",
      "10 * 7 = 70\n",
      "10 * 8 = 80\n",
      "10 * 9 = 90\n",
      "10 * 10 = 100\n",
      "\n"
     ]
    }
   ],
   "source": [
    "for i in range(1, 11):  # Outer loop for rows\n",
    "    for j in range(1, 11):  # Inner loop for columns\n",
    "        product = i * j\n",
    "        print(f\"{i} * {j} = {product}\")  # Print with a tab separator\n",
    "    print()  # Move to the next row\n"
   ]
  },
  {
   "cell_type": "code",
   "execution_count": 397,
   "id": "58fbddc2",
   "metadata": {},
   "outputs": [],
   "source": [
    "#python builtin functions"
   ]
  },
  {
   "cell_type": "code",
   "execution_count": 398,
   "id": "3f5efdff",
   "metadata": {},
   "outputs": [
    {
     "data": {
      "text/plain": [
       "1"
      ]
     },
     "execution_count": 398,
     "metadata": {},
     "output_type": "execute_result"
    }
   ],
   "source": [
    "abs(-1)"
   ]
  },
  {
   "cell_type": "code",
   "execution_count": 37,
   "id": "7a384c62",
   "metadata": {},
   "outputs": [
    {
     "data": {
      "text/plain": [
       "False"
      ]
     },
     "execution_count": 37,
     "metadata": {},
     "output_type": "execute_result"
    }
   ],
   "source": [
    "all([10>5,5<10,10==11])"
   ]
  },
  {
   "cell_type": "code",
   "execution_count": 401,
   "id": "3a433ace",
   "metadata": {},
   "outputs": [
    {
     "data": {
      "text/plain": [
       "False"
      ]
     },
     "execution_count": 401,
     "metadata": {},
     "output_type": "execute_result"
    }
   ],
   "source": [
    "all([10>5,5<10,10==11])"
   ]
  },
  {
   "cell_type": "code",
   "execution_count": 402,
   "id": "265023de",
   "metadata": {},
   "outputs": [
    {
     "data": {
      "text/plain": [
       "True"
      ]
     },
     "execution_count": 402,
     "metadata": {},
     "output_type": "execute_result"
    }
   ],
   "source": [
    "any([10>5,5<10,10==11])"
   ]
  },
  {
   "cell_type": "code",
   "execution_count": 405,
   "id": "5d777754",
   "metadata": {},
   "outputs": [
    {
     "name": "stdout",
     "output_type": "stream",
     "text": [
      "'a'\n"
     ]
    }
   ],
   "source": [
    "print(ascii(\"a\"))"
   ]
  },
  {
   "cell_type": "code",
   "execution_count": 406,
   "id": "2faeef92",
   "metadata": {},
   "outputs": [
    {
     "data": {
      "text/plain": [
       "'0b1010'"
      ]
     },
     "execution_count": 406,
     "metadata": {},
     "output_type": "execute_result"
    }
   ],
   "source": [
    "bin(10)"
   ]
  },
  {
   "cell_type": "code",
   "execution_count": 407,
   "id": "eff796a9",
   "metadata": {},
   "outputs": [
    {
     "data": {
      "text/plain": [
       "True"
      ]
     },
     "execution_count": 407,
     "metadata": {},
     "output_type": "execute_result"
    }
   ],
   "source": [
    "callable(print)"
   ]
  },
  {
   "cell_type": "code",
   "execution_count": 408,
   "id": "996c8dd7",
   "metadata": {},
   "outputs": [
    {
     "data": {
      "text/plain": [
       "False"
      ]
     },
     "execution_count": 408,
     "metadata": {},
     "output_type": "execute_result"
    }
   ],
   "source": [
    "a=10\n",
    "callable(a)"
   ]
  },
  {
   "cell_type": "code",
   "execution_count": 409,
   "id": "ef92a1bc",
   "metadata": {},
   "outputs": [
    {
     "data": {
      "text/plain": [
       "'A'"
      ]
     },
     "execution_count": 409,
     "metadata": {},
     "output_type": "execute_result"
    }
   ],
   "source": [
    "chr(65)"
   ]
  },
  {
   "cell_type": "code",
   "execution_count": 410,
   "id": "8db6aac6",
   "metadata": {},
   "outputs": [
    {
     "data": {
      "text/plain": [
       "{'One': '1', 'Two': '2'}"
      ]
     },
     "execution_count": 410,
     "metadata": {},
     "output_type": "execute_result"
    }
   ],
   "source": [
    "dict(One = \"1\", Two = \"2\")"
   ]
  },
  {
   "cell_type": "code",
   "execution_count": 38,
   "id": "7669cfa1",
   "metadata": {},
   "outputs": [
    {
     "data": {
      "text/plain": [
       "['__add__',\n",
       " '__class__',\n",
       " '__class_getitem__',\n",
       " '__contains__',\n",
       " '__delattr__',\n",
       " '__dir__',\n",
       " '__doc__',\n",
       " '__eq__',\n",
       " '__format__',\n",
       " '__ge__',\n",
       " '__getattribute__',\n",
       " '__getitem__',\n",
       " '__getnewargs__',\n",
       " '__getstate__',\n",
       " '__gt__',\n",
       " '__hash__',\n",
       " '__init__',\n",
       " '__init_subclass__',\n",
       " '__iter__',\n",
       " '__le__',\n",
       " '__len__',\n",
       " '__lt__',\n",
       " '__mul__',\n",
       " '__ne__',\n",
       " '__new__',\n",
       " '__reduce__',\n",
       " '__reduce_ex__',\n",
       " '__repr__',\n",
       " '__rmul__',\n",
       " '__setattr__',\n",
       " '__sizeof__',\n",
       " '__str__',\n",
       " '__subclasshook__',\n",
       " 'count',\n",
       " 'index']"
      ]
     },
     "execution_count": 38,
     "metadata": {},
     "output_type": "execute_result"
    }
   ],
   "source": [
    "lst =(10,20,30)\n",
    "dir(lst)"
   ]
  },
  {
   "cell_type": "code",
   "execution_count": 415,
   "id": "ccef9a2f",
   "metadata": {},
   "outputs": [
    {
     "data": {
      "text/plain": [
       "(3, 1)"
      ]
     },
     "execution_count": 415,
     "metadata": {},
     "output_type": "execute_result"
    }
   ],
   "source": [
    "divmod(10,3) #Takes two numbers and returns a pair of numbers consisting of their quotient and remainder"
   ]
  },
  {
   "cell_type": "code",
   "execution_count": 416,
   "id": "9ece76c2",
   "metadata": {},
   "outputs": [
    {
     "data": {
      "text/plain": [
       "10.0"
      ]
     },
     "execution_count": 416,
     "metadata": {},
     "output_type": "execute_result"
    }
   ],
   "source": [
    "float(10)"
   ]
  },
  {
   "cell_type": "code",
   "execution_count": 418,
   "id": "f727ce30",
   "metadata": {},
   "outputs": [
    {
     "data": {
      "text/plain": [
       "-3646195214425577490"
      ]
     },
     "execution_count": 418,
     "metadata": {},
     "output_type": "execute_result"
    }
   ],
   "source": [
    "hash('babjee')"
   ]
  },
  {
   "cell_type": "code",
   "execution_count": 420,
   "id": "9ec8ee16",
   "metadata": {},
   "outputs": [
    {
     "data": {
      "text/plain": [
       "'0x64'"
      ]
     },
     "execution_count": 420,
     "metadata": {},
     "output_type": "execute_result"
    }
   ],
   "source": [
    "hex(100)"
   ]
  },
  {
   "cell_type": "code",
   "execution_count": 421,
   "id": "8f1cac2e",
   "metadata": {},
   "outputs": [
    {
     "data": {
      "text/plain": [
       "10"
      ]
     },
     "execution_count": 421,
     "metadata": {},
     "output_type": "execute_result"
    }
   ],
   "source": [
    "int(10.2)"
   ]
  },
  {
   "cell_type": "code",
   "execution_count": 422,
   "id": "909c9d1b",
   "metadata": {},
   "outputs": [
    {
     "data": {
      "text/plain": [
       "3"
      ]
     },
     "execution_count": 422,
     "metadata": {},
     "output_type": "execute_result"
    }
   ],
   "source": [
    "len([10,20,30])"
   ]
  },
  {
   "cell_type": "code",
   "execution_count": 423,
   "id": "d850143e",
   "metadata": {},
   "outputs": [
    {
     "data": {
      "text/plain": [
       "6"
      ]
     },
     "execution_count": 423,
     "metadata": {},
     "output_type": "execute_result"
    }
   ],
   "source": [
    "len('babjee')"
   ]
  },
  {
   "cell_type": "code",
   "execution_count": 39,
   "id": "0cc1ab26",
   "metadata": {},
   "outputs": [
    {
     "data": {
      "text/plain": [
       "30"
      ]
     },
     "execution_count": 39,
     "metadata": {},
     "output_type": "execute_result"
    }
   ],
   "source": [
    "max(10,20,30)"
   ]
  },
  {
   "cell_type": "code",
   "execution_count": 425,
   "id": "53bc8e82",
   "metadata": {},
   "outputs": [
    {
     "data": {
      "text/plain": [
       "20"
      ]
     },
     "execution_count": 425,
     "metadata": {},
     "output_type": "execute_result"
    }
   ],
   "source": [
    "max([10,20,5])"
   ]
  },
  {
   "cell_type": "code",
   "execution_count": 426,
   "id": "b0420d2d",
   "metadata": {},
   "outputs": [
    {
     "data": {
      "text/plain": [
       "20"
      ]
     },
     "execution_count": 426,
     "metadata": {},
     "output_type": "execute_result"
    }
   ],
   "source": [
    "max([10,20,5])"
   ]
  },
  {
   "cell_type": "code",
   "execution_count": 432,
   "id": "18e81468",
   "metadata": {},
   "outputs": [
    {
     "data": {
      "text/plain": [
       "100"
      ]
     },
     "execution_count": 432,
     "metadata": {},
     "output_type": "execute_result"
    }
   ],
   "source": [
    "pow(10,2)"
   ]
  },
  {
   "cell_type": "code",
   "execution_count": 41,
   "id": "a90ff03f",
   "metadata": {},
   "outputs": [
    {
     "name": "stdout",
     "output_type": "stream",
     "text": [
      "['BMW', 'bolero', 'swift', 'nano']\n"
     ]
    }
   ],
   "source": [
    "cars = [\"nano\", \"swift\", \"bolero\", \"BMW\"] \n",
    "\n",
    "reversed_cars = list(reversed(cars)) \n",
    "print(reversed_cars)"
   ]
  },
  {
   "cell_type": "code",
   "execution_count": 437,
   "id": "c0e1a8d3",
   "metadata": {},
   "outputs": [
    {
     "name": "stdout",
     "output_type": "stream",
     "text": [
      "25\n"
     ]
    }
   ],
   "source": [
    "\n",
    "\n",
    "numbers = [1,2,3,4,5,1,4,5]\n",
    " \n",
    "Sum = sum(numbers)\n",
    "print(Sum)"
   ]
  },
  {
   "cell_type": "code",
   "execution_count": 439,
   "id": "c50ba38e",
   "metadata": {},
   "outputs": [],
   "source": [
    "name = [ \"Manjeet\", \"Nikhil\", \"Shambhavi\", \"Astha\" ]\n",
    "roll_no = [ 4, 1, 3, 2 ]\n",
    " \n",
    "# using zip() to map values\n",
    "mapped = zip(name, roll_no)"
   ]
  },
  {
   "cell_type": "code",
   "execution_count": 444,
   "id": "f02fe13f",
   "metadata": {},
   "outputs": [
    {
     "name": "stdout",
     "output_type": "stream",
     "text": [
      "[('Manjeet', 4), ('Nikhil', 1), ('Shambhavi', 3), ('Astha', 2)]\n"
     ]
    }
   ],
   "source": [
    "print(list(mapped))"
   ]
  },
  {
   "cell_type": "code",
   "execution_count": 44,
   "id": "dd395d51",
   "metadata": {},
   "outputs": [],
   "source": [
    "import math"
   ]
  },
  {
   "cell_type": "code",
   "execution_count": 2,
   "id": "d84088a6",
   "metadata": {},
   "outputs": [
    {
     "data": {
      "text/plain": [
       "17"
      ]
     },
     "execution_count": 2,
     "metadata": {},
     "output_type": "execute_result"
    }
   ],
   "source": [
    "math.ceil(16.5) #It returns the smallest integer that is greater than or equal to the given value."
   ]
  },
  {
   "cell_type": "code",
   "execution_count": 3,
   "id": "7c784140",
   "metadata": {},
   "outputs": [
    {
     "data": {
      "text/plain": [
       "16"
      ]
     },
     "execution_count": 3,
     "metadata": {},
     "output_type": "execute_result"
    }
   ],
   "source": [
    "math.floor(16.6) #It returns the largest integer that is less than or equal to the given value."
   ]
  },
  {
   "cell_type": "code",
   "execution_count": 4,
   "id": "7d126351",
   "metadata": {},
   "outputs": [
    {
     "data": {
      "text/plain": [
       "22026.465794806718"
      ]
     },
     "execution_count": 4,
     "metadata": {},
     "output_type": "execute_result"
    }
   ],
   "source": [
    "math.exp(10)"
   ]
  },
  {
   "cell_type": "code",
   "execution_count": 45,
   "id": "7851816a",
   "metadata": {},
   "outputs": [
    {
     "data": {
      "text/plain": [
       "float"
      ]
     },
     "execution_count": 45,
     "metadata": {},
     "output_type": "execute_result"
    }
   ],
   "source": [
    "type(math.fabs(-11)) #Return the absolute value of the float x"
   ]
  },
  {
   "cell_type": "code",
   "execution_count": 6,
   "id": "93351896",
   "metadata": {},
   "outputs": [
    {
     "data": {
      "text/plain": [
       "3628800"
      ]
     },
     "execution_count": 6,
     "metadata": {},
     "output_type": "execute_result"
    }
   ],
   "source": [
    "math.factorial(10)"
   ]
  },
  {
   "cell_type": "code",
   "execution_count": 7,
   "id": "d57d9813",
   "metadata": {},
   "outputs": [
    {
     "data": {
      "text/plain": [
       "0.0"
      ]
     },
     "execution_count": 7,
     "metadata": {},
     "output_type": "execute_result"
    }
   ],
   "source": [
    "math.fmod(10,2) #Return the modules value of the float x"
   ]
  },
  {
   "cell_type": "code",
   "execution_count": 8,
   "id": "43ebfbce",
   "metadata": {},
   "outputs": [
    {
     "data": {
      "text/plain": [
       "100.0"
      ]
     },
     "execution_count": 8,
     "metadata": {},
     "output_type": "execute_result"
    }
   ],
   "source": [
    "math.fsum([10,20,30,40])"
   ]
  },
  {
   "cell_type": "code",
   "execution_count": 11,
   "id": "78eefe16",
   "metadata": {},
   "outputs": [
    {
     "data": {
      "text/plain": [
       "3.0"
      ]
     },
     "execution_count": 11,
     "metadata": {},
     "output_type": "execute_result"
    }
   ],
   "source": [
    "math.sqrt(9)"
   ]
  },
  {
   "cell_type": "code",
   "execution_count": 12,
   "id": "4fc5c94f",
   "metadata": {},
   "outputs": [
    {
     "data": {
      "text/plain": [
       "2.302585092994046"
      ]
     },
     "execution_count": 12,
     "metadata": {},
     "output_type": "execute_result"
    }
   ],
   "source": [
    "math.log(10)"
   ]
  },
  {
   "cell_type": "code",
   "execution_count": 13,
   "id": "3714571e",
   "metadata": {},
   "outputs": [
    {
     "data": {
      "text/plain": [
       "3.321928094887362"
      ]
     },
     "execution_count": 13,
     "metadata": {},
     "output_type": "execute_result"
    }
   ],
   "source": [
    "math.log2(10)"
   ]
  },
  {
   "cell_type": "code",
   "execution_count": 14,
   "id": "c76ec42d",
   "metadata": {},
   "outputs": [
    {
     "data": {
      "text/plain": [
       "2.0"
      ]
     },
     "execution_count": 14,
     "metadata": {},
     "output_type": "execute_result"
    }
   ],
   "source": [
    "math.log10(100)"
   ]
  },
  {
   "cell_type": "code",
   "execution_count": 15,
   "id": "5cef46f4",
   "metadata": {},
   "outputs": [
    {
     "data": {
      "text/plain": [
       "3.141592653589793"
      ]
     },
     "execution_count": 15,
     "metadata": {},
     "output_type": "execute_result"
    }
   ],
   "source": [
    "math.pi"
   ]
  },
  {
   "cell_type": "code",
   "execution_count": 16,
   "id": "c17ba93d",
   "metadata": {},
   "outputs": [
    {
     "data": {
      "text/plain": [
       "100.0"
      ]
     },
     "execution_count": 16,
     "metadata": {},
     "output_type": "execute_result"
    }
   ],
   "source": [
    "math.pow(10,2)"
   ]
  },
  {
   "cell_type": "code",
   "execution_count": 17,
   "id": "fbf1b590",
   "metadata": {},
   "outputs": [
    {
     "data": {
      "text/plain": [
       "0.8414709848078965"
      ]
     },
     "execution_count": 17,
     "metadata": {},
     "output_type": "execute_result"
    }
   ],
   "source": [
    "math.sin(1) #Return the sine of x (measured in radians)."
   ]
  },
  {
   "cell_type": "code",
   "execution_count": 18,
   "id": "72eb0999",
   "metadata": {},
   "outputs": [
    {
     "data": {
      "text/plain": [
       "0.5403023058681398"
      ]
     },
     "execution_count": 18,
     "metadata": {},
     "output_type": "execute_result"
    }
   ],
   "source": [
    "math.cos(1) #Return the cosine of x (measured in radians)."
   ]
  },
  {
   "cell_type": "code",
   "execution_count": 19,
   "id": "990dae3c",
   "metadata": {},
   "outputs": [
    {
     "data": {
      "text/plain": [
       "1.5574077246549023"
      ]
     },
     "execution_count": 19,
     "metadata": {},
     "output_type": "execute_result"
    }
   ],
   "source": [
    "math.tan(1) #Return the tangent of x (measured in radians)."
   ]
  },
  {
   "cell_type": "code",
   "execution_count": 46,
   "id": "d8226b96",
   "metadata": {},
   "outputs": [
    {
     "data": {
      "text/plain": [
       "10"
      ]
     },
     "execution_count": 46,
     "metadata": {},
     "output_type": "execute_result"
    }
   ],
   "source": [
    "math.trunc(10.999999999)"
   ]
  },
  {
   "cell_type": "code",
   "execution_count": 21,
   "id": "1be6e49e",
   "metadata": {},
   "outputs": [
    {
     "data": {
      "text/plain": [
       "19"
      ]
     },
     "execution_count": 21,
     "metadata": {},
     "output_type": "execute_result"
    }
   ],
   "source": [
    "math.trunc(19.6)"
   ]
  },
  {
   "cell_type": "code",
   "execution_count": 47,
   "id": "2ea7d5cf",
   "metadata": {},
   "outputs": [],
   "source": [
    "import datetime"
   ]
  },
  {
   "cell_type": "code",
   "execution_count": 48,
   "id": "f20a8f62",
   "metadata": {},
   "outputs": [
    {
     "name": "stdout",
     "output_type": "stream",
     "text": [
      "2024-04-03 11:56:56.966366\n"
     ]
    }
   ],
   "source": [
    "x = datetime.datetime.now()\n",
    "print(x)"
   ]
  },
  {
   "cell_type": "code",
   "execution_count": 29,
   "id": "04044c2d",
   "metadata": {},
   "outputs": [],
   "source": [
    "x = datetime.datetime(2020, 5, 17)"
   ]
  },
  {
   "cell_type": "code",
   "execution_count": 30,
   "id": "ac7a30e2",
   "metadata": {},
   "outputs": [
    {
     "name": "stdout",
     "output_type": "stream",
     "text": [
      "2020-05-17 00:00:00\n"
     ]
    }
   ],
   "source": [
    "print(x)"
   ]
  },
  {
   "cell_type": "code",
   "execution_count": 31,
   "id": "1eae63b5",
   "metadata": {},
   "outputs": [],
   "source": [
    "x = datetime.datetime.now()"
   ]
  },
  {
   "cell_type": "code",
   "execution_count": 32,
   "id": "45788d1a",
   "metadata": {},
   "outputs": [
    {
     "data": {
      "text/plain": [
       "2024"
      ]
     },
     "execution_count": 32,
     "metadata": {},
     "output_type": "execute_result"
    }
   ],
   "source": [
    "x.year"
   ]
  },
  {
   "cell_type": "code",
   "execution_count": 33,
   "id": "8f04eadc",
   "metadata": {},
   "outputs": [
    {
     "data": {
      "text/plain": [
       "4"
      ]
     },
     "execution_count": 33,
     "metadata": {},
     "output_type": "execute_result"
    }
   ],
   "source": [
    "x.month"
   ]
  },
  {
   "cell_type": "code",
   "execution_count": 34,
   "id": "da9e4224",
   "metadata": {},
   "outputs": [
    {
     "data": {
      "text/plain": [
       "2"
      ]
     },
     "execution_count": 34,
     "metadata": {},
     "output_type": "execute_result"
    }
   ],
   "source": [
    "x.day"
   ]
  },
  {
   "cell_type": "code",
   "execution_count": 35,
   "id": "cae5dd93",
   "metadata": {},
   "outputs": [
    {
     "data": {
      "text/plain": [
       "11"
      ]
     },
     "execution_count": 35,
     "metadata": {},
     "output_type": "execute_result"
    }
   ],
   "source": [
    "x.hour"
   ]
  },
  {
   "cell_type": "code",
   "execution_count": 36,
   "id": "609751f3",
   "metadata": {},
   "outputs": [
    {
     "data": {
      "text/plain": [
       "45"
      ]
     },
     "execution_count": 36,
     "metadata": {},
     "output_type": "execute_result"
    }
   ],
   "source": [
    "x.minute"
   ]
  },
  {
   "cell_type": "code",
   "execution_count": 37,
   "id": "4ccb982c",
   "metadata": {},
   "outputs": [
    {
     "data": {
      "text/plain": [
       "11"
      ]
     },
     "execution_count": 37,
     "metadata": {},
     "output_type": "execute_result"
    }
   ],
   "source": [
    "x.hour"
   ]
  },
  {
   "cell_type": "code",
   "execution_count": 38,
   "id": "e5a5c2b0",
   "metadata": {},
   "outputs": [
    {
     "data": {
      "text/plain": [
       "22"
      ]
     },
     "execution_count": 38,
     "metadata": {},
     "output_type": "execute_result"
    }
   ],
   "source": [
    "x.second"
   ]
  },
  {
   "cell_type": "code",
   "execution_count": 39,
   "id": "6bdc0a05",
   "metadata": {},
   "outputs": [
    {
     "data": {
      "text/plain": [
       "'Tue'"
      ]
     },
     "execution_count": 39,
     "metadata": {},
     "output_type": "execute_result"
    }
   ],
   "source": [
    "x.strftime('%a')"
   ]
  },
  {
   "cell_type": "code",
   "execution_count": 40,
   "id": "b840969c",
   "metadata": {},
   "outputs": [
    {
     "data": {
      "text/plain": [
       "'Tuesday'"
      ]
     },
     "execution_count": 40,
     "metadata": {},
     "output_type": "execute_result"
    }
   ],
   "source": [
    "x.strftime('%A')"
   ]
  },
  {
   "cell_type": "code",
   "execution_count": 42,
   "id": "c0441a6b",
   "metadata": {},
   "outputs": [
    {
     "data": {
      "text/plain": [
       "'Tue Apr  2 11:45:22 2024'"
      ]
     },
     "execution_count": 42,
     "metadata": {},
     "output_type": "execute_result"
    }
   ],
   "source": [
    "x.strftime('%c')"
   ]
  },
  {
   "cell_type": "code",
   "execution_count": 43,
   "id": "95ed55f4",
   "metadata": {},
   "outputs": [
    {
     "data": {
      "text/plain": [
       "'20'"
      ]
     },
     "execution_count": 43,
     "metadata": {},
     "output_type": "execute_result"
    }
   ],
   "source": [
    "x.strftime('%C')"
   ]
  },
  {
   "cell_type": "code",
   "execution_count": 44,
   "id": "1b6e3305",
   "metadata": {},
   "outputs": [
    {
     "data": {
      "text/plain": [
       "'02'"
      ]
     },
     "execution_count": 44,
     "metadata": {},
     "output_type": "execute_result"
    }
   ],
   "source": [
    "x.strftime('%d')"
   ]
  },
  {
   "cell_type": "code",
   "execution_count": 45,
   "id": "2b8cccdb",
   "metadata": {},
   "outputs": [
    {
     "data": {
      "text/plain": [
       "'04/02/24'"
      ]
     },
     "execution_count": 45,
     "metadata": {},
     "output_type": "execute_result"
    }
   ],
   "source": [
    "x.strftime('%D')"
   ]
  },
  {
   "cell_type": "code",
   "execution_count": 49,
   "id": "d2e270e2",
   "metadata": {},
   "outputs": [
    {
     "data": {
      "text/plain": [
       "'04'"
      ]
     },
     "execution_count": 49,
     "metadata": {},
     "output_type": "execute_result"
    }
   ],
   "source": [
    "x.strftime('%m')"
   ]
  },
  {
   "cell_type": "code",
   "execution_count": 51,
   "id": "6776dcf3",
   "metadata": {},
   "outputs": [
    {
     "data": {
      "text/plain": [
       "'24'"
      ]
     },
     "execution_count": 51,
     "metadata": {},
     "output_type": "execute_result"
    }
   ],
   "source": [
    "x.strftime('%y')"
   ]
  },
  {
   "cell_type": "code",
   "execution_count": 52,
   "id": "316ef78c",
   "metadata": {},
   "outputs": [
    {
     "data": {
      "text/plain": [
       "'2024'"
      ]
     },
     "execution_count": 52,
     "metadata": {},
     "output_type": "execute_result"
    }
   ],
   "source": [
    "x.strftime('%Y')"
   ]
  },
  {
   "cell_type": "code",
   "execution_count": 53,
   "id": "4cdc10d4",
   "metadata": {},
   "outputs": [
    {
     "data": {
      "text/plain": [
       "'11'"
      ]
     },
     "execution_count": 53,
     "metadata": {},
     "output_type": "execute_result"
    }
   ],
   "source": [
    "x.strftime('%H') #Hour 00-23"
   ]
  },
  {
   "cell_type": "code",
   "execution_count": 56,
   "id": "e4ea8cad",
   "metadata": {},
   "outputs": [
    {
     "data": {
      "text/plain": [
       "'11'"
      ]
     },
     "execution_count": 56,
     "metadata": {},
     "output_type": "execute_result"
    }
   ],
   "source": [
    "x.strftime('%I') #Hour 00-12"
   ]
  },
  {
   "cell_type": "code",
   "execution_count": 57,
   "id": "c1239a11",
   "metadata": {},
   "outputs": [
    {
     "data": {
      "text/plain": [
       "'45'"
      ]
     },
     "execution_count": 57,
     "metadata": {},
     "output_type": "execute_result"
    }
   ],
   "source": [
    "x.strftime('%M') #minute"
   ]
  },
  {
   "cell_type": "code",
   "execution_count": 58,
   "id": "8c91828d",
   "metadata": {},
   "outputs": [
    {
     "data": {
      "text/plain": [
       "'22'"
      ]
     },
     "execution_count": 58,
     "metadata": {},
     "output_type": "execute_result"
    }
   ],
   "source": [
    "x.strftime('%S') #second"
   ]
  },
  {
   "cell_type": "code",
   "execution_count": 59,
   "id": "a4b78eac",
   "metadata": {},
   "outputs": [
    {
     "data": {
      "text/plain": [
       "'093'"
      ]
     },
     "execution_count": 59,
     "metadata": {},
     "output_type": "execute_result"
    }
   ],
   "source": [
    "x.strftime('%j') #Day number of year 001-366"
   ]
  },
  {
   "cell_type": "code",
   "execution_count": 61,
   "id": "6f7ec6cf",
   "metadata": {},
   "outputs": [
    {
     "data": {
      "text/plain": [
       "'14'"
      ]
     },
     "execution_count": 61,
     "metadata": {},
     "output_type": "execute_result"
    }
   ],
   "source": [
    "x.strftime('%W') #Week number of year,"
   ]
  },
  {
   "cell_type": "code",
   "execution_count": 62,
   "id": "bb6b3999",
   "metadata": {},
   "outputs": [
    {
     "data": {
      "text/plain": [
       "'AM'"
      ]
     },
     "execution_count": 62,
     "metadata": {},
     "output_type": "execute_result"
    }
   ],
   "source": [
    "x.strftime('%p')"
   ]
  },
  {
   "cell_type": "code",
   "execution_count": 51,
   "id": "06baf30a",
   "metadata": {},
   "outputs": [
    {
     "data": {
      "text/plain": [
       "'03/04/2024 115656 AM'"
      ]
     },
     "execution_count": 51,
     "metadata": {},
     "output_type": "execute_result"
    }
   ],
   "source": [
    "x.strftime('%d/%m/%Y %H%M%S %p')"
   ]
  },
  {
   "cell_type": "code",
   "execution_count": 65,
   "id": "b77170eb",
   "metadata": {},
   "outputs": [],
   "source": [
    "#An iterator is an object that can be iterated upon, meaning that you can traverse through all the values."
   ]
  },
  {
   "cell_type": "code",
   "execution_count": 52,
   "id": "4bd4ed93",
   "metadata": {},
   "outputs": [
    {
     "name": "stdout",
     "output_type": "stream",
     "text": [
      "b\n",
      "a\n",
      "n\n",
      "a\n",
      "n\n",
      "a\n"
     ]
    }
   ],
   "source": [
    "mystr = \"banana\"\n",
    "myit = iter(mystr)\n",
    "\n",
    "print(next(myit))\n",
    "print(next(myit))\n",
    "print(next(myit))\n",
    "print(next(myit))\n",
    "print(next(myit))\n",
    "print(next(myit))"
   ]
  },
  {
   "cell_type": "code",
   "execution_count": 57,
   "id": "00188e65",
   "metadata": {},
   "outputs": [],
   "source": [
    "def myfun():\n",
    "    print('Hi Babjee')"
   ]
  },
  {
   "cell_type": "code",
   "execution_count": 55,
   "id": "65676dac",
   "metadata": {},
   "outputs": [
    {
     "name": "stdout",
     "output_type": "stream",
     "text": [
      "Hi Babjee\n"
     ]
    }
   ],
   "source": [
    "myfun()"
   ]
  },
  {
   "cell_type": "code",
   "execution_count": 59,
   "id": "82689b50",
   "metadata": {},
   "outputs": [],
   "source": [
    "def myfun(greet,name):\n",
    "    print(greet,name)"
   ]
  },
  {
   "cell_type": "code",
   "execution_count": 60,
   "id": "5a09d9aa",
   "metadata": {},
   "outputs": [
    {
     "name": "stdout",
     "output_type": "stream",
     "text": [
      "Hi Babjee\n"
     ]
    }
   ],
   "source": [
    "myfun('Hi','Babjee')"
   ]
  },
  {
   "cell_type": "code",
   "execution_count": 61,
   "id": "8cfa2243",
   "metadata": {},
   "outputs": [],
   "source": [
    "def add(num1, num2):\n",
    "    return num1+num2"
   ]
  },
  {
   "cell_type": "code",
   "execution_count": 66,
   "id": "f628e21b",
   "metadata": {},
   "outputs": [
    {
     "ename": "TypeError",
     "evalue": "add() takes 2 positional arguments but 3 were given",
     "output_type": "error",
     "traceback": [
      "\u001b[1;31m---------------------------------------------------------------------------\u001b[0m",
      "\u001b[1;31mTypeError\u001b[0m                                 Traceback (most recent call last)",
      "Cell \u001b[1;32mIn[66], line 1\u001b[0m\n\u001b[1;32m----> 1\u001b[0m add(\u001b[38;5;241m10\u001b[39m,\u001b[38;5;241m20\u001b[39m,\u001b[38;5;241m20\u001b[39m)\n",
      "\u001b[1;31mTypeError\u001b[0m: add() takes 2 positional arguments but 3 were given"
     ]
    }
   ],
   "source": [
    "add(10,20,20)"
   ]
  },
  {
   "cell_type": "code",
   "execution_count": 63,
   "id": "cb6177b6",
   "metadata": {},
   "outputs": [
    {
     "data": {
      "text/plain": [
       "10.0"
      ]
     },
     "execution_count": 63,
     "metadata": {},
     "output_type": "execute_result"
    }
   ],
   "source": [
    "100/add(8,2)"
   ]
  },
  {
   "cell_type": "code",
   "execution_count": 67,
   "id": "e5222ff6",
   "metadata": {},
   "outputs": [],
   "source": [
    "def myfun(name,age):\n",
    "    print('Name is ',name)\n",
    "    print('Age is ',age)"
   ]
  },
  {
   "cell_type": "code",
   "execution_count": 70,
   "id": "4603521f",
   "metadata": {},
   "outputs": [
    {
     "name": "stdout",
     "output_type": "stream",
     "text": [
      "Name is  babjee\n",
      "Age is  49\n"
     ]
    }
   ],
   "source": [
    "myfun(age=49,name='babjee')"
   ]
  },
  {
   "cell_type": "code",
   "execution_count": 76,
   "id": "b9527603",
   "metadata": {},
   "outputs": [
    {
     "name": "stdout",
     "output_type": "stream",
     "text": [
      "Name is  babjee\n",
      "Age is  40\n"
     ]
    }
   ],
   "source": [
    "myfun(age=40,name='babjee')"
   ]
  },
  {
   "cell_type": "code",
   "execution_count": 71,
   "id": "86b443de",
   "metadata": {},
   "outputs": [],
   "source": [
    "def myfun(greet='Hi',name='ram'):\n",
    "    print(greet,name)"
   ]
  },
  {
   "cell_type": "code",
   "execution_count": 72,
   "id": "90643c4f",
   "metadata": {},
   "outputs": [
    {
     "name": "stdout",
     "output_type": "stream",
     "text": [
      "Hi ram\n"
     ]
    }
   ],
   "source": [
    "myfun()"
   ]
  },
  {
   "cell_type": "code",
   "execution_count": 73,
   "id": "2b71e772",
   "metadata": {},
   "outputs": [
    {
     "name": "stdout",
     "output_type": "stream",
     "text": [
      "Hello Sham\n"
     ]
    }
   ],
   "source": [
    "myfun('Hello','Sham')"
   ]
  },
  {
   "cell_type": "code",
   "execution_count": 87,
   "id": "fd2dc6e1",
   "metadata": {},
   "outputs": [
    {
     "name": "stdout",
     "output_type": "stream",
     "text": [
      "Hi sunil\n"
     ]
    }
   ],
   "source": [
    "myfun(name='sunil')"
   ]
  },
  {
   "cell_type": "code",
   "execution_count": 74,
   "id": "661b78ef",
   "metadata": {},
   "outputs": [
    {
     "name": "stdout",
     "output_type": "stream",
     "text": [
      "Hello ram\n"
     ]
    }
   ],
   "source": [
    "myfun(greet='Hello')"
   ]
  },
  {
   "cell_type": "code",
   "execution_count": 75,
   "id": "98b572dc",
   "metadata": {},
   "outputs": [
    {
     "name": "stdout",
     "output_type": "stream",
     "text": [
      "Python is awesome\n"
     ]
    }
   ],
   "source": [
    "x = \"awesome\"\n",
    "def myfunc():\n",
    "  print(\"Python is \" + x)\n",
    "myfunc()"
   ]
  },
  {
   "cell_type": "code",
   "execution_count": 76,
   "id": "d4aeddce",
   "metadata": {},
   "outputs": [],
   "source": [
    "x='Excellent'\n",
    "def myfunc():\n",
    "  global x\n",
    "  x = \"fantastic\""
   ]
  },
  {
   "cell_type": "code",
   "execution_count": 77,
   "id": "b20119c0",
   "metadata": {},
   "outputs": [
    {
     "name": "stdout",
     "output_type": "stream",
     "text": [
      "Python is fantastic\n"
     ]
    }
   ],
   "source": [
    "myfunc()\n",
    "print(\"Python is \" + x)"
   ]
  },
  {
   "cell_type": "code",
   "execution_count": 78,
   "id": "5ab0e75b",
   "metadata": {},
   "outputs": [],
   "source": [
    "### Local Variable\n",
    "x = \"awesome\"\n",
    "def myfunc():\n",
    "  x = \"fantastic\"\n",
    "  print(\"Python is \" + x)"
   ]
  },
  {
   "cell_type": "code",
   "execution_count": 79,
   "id": "cd2d4e80",
   "metadata": {},
   "outputs": [
    {
     "name": "stdout",
     "output_type": "stream",
     "text": [
      "Python is fantastic\n",
      "Python is awesome\n"
     ]
    }
   ],
   "source": [
    "myfunc()\n",
    "print(\"Python is \" + x)"
   ]
  },
  {
   "cell_type": "code",
   "execution_count": 80,
   "id": "9c83a5d9",
   "metadata": {},
   "outputs": [],
   "source": [
    "def myfun(num):\n",
    "    print(num)"
   ]
  },
  {
   "cell_type": "code",
   "execution_count": 81,
   "id": "e33860cb",
   "metadata": {},
   "outputs": [
    {
     "ename": "TypeError",
     "evalue": "myfun() takes 1 positional argument but 2 were given",
     "output_type": "error",
     "traceback": [
      "\u001b[1;31m---------------------------------------------------------------------------\u001b[0m",
      "\u001b[1;31mTypeError\u001b[0m                                 Traceback (most recent call last)",
      "Cell \u001b[1;32mIn[81], line 1\u001b[0m\n\u001b[1;32m----> 1\u001b[0m myfun(\u001b[38;5;241m10\u001b[39m,\u001b[38;5;241m20\u001b[39m)\n",
      "\u001b[1;31mTypeError\u001b[0m: myfun() takes 1 positional argument but 2 were given"
     ]
    }
   ],
   "source": [
    "myfun(10,20)"
   ]
  },
  {
   "cell_type": "code",
   "execution_count": 82,
   "id": "c07c3c1e",
   "metadata": {},
   "outputs": [],
   "source": [
    "def myfun(*arg):\n",
    "    for i in arg:\n",
    "        print(i)"
   ]
  },
  {
   "cell_type": "code",
   "execution_count": 86,
   "id": "cb7d7c33",
   "metadata": {},
   "outputs": [
    {
     "name": "stdout",
     "output_type": "stream",
     "text": [
      "10\n",
      "20\n",
      "1000\n",
      "0\n",
      "0\n"
     ]
    }
   ],
   "source": [
    "myfun(10,20,1000,000,00000)"
   ]
  },
  {
   "cell_type": "code",
   "execution_count": 88,
   "id": "7ee67f49",
   "metadata": {},
   "outputs": [],
   "source": [
    "def myfun(**arg):\n",
    "    for x,y in arg.items():\n",
    "        print(x,':',y)"
   ]
  },
  {
   "cell_type": "code",
   "execution_count": 90,
   "id": "e5347a9a",
   "metadata": {},
   "outputs": [
    {
     "name": "stdout",
     "output_type": "stream",
     "text": [
      "name : babjee\n",
      "age : 40\n",
      "city : chennai\n",
      "email : babjee@gmail.com\n"
     ]
    }
   ],
   "source": [
    "myfun(name='babjee',age=40,city='chennai',email='babjee@gmail.com')"
   ]
  },
  {
   "cell_type": "code",
   "execution_count": null,
   "id": "740e09ee",
   "metadata": {},
   "outputs": [],
   "source": [
    "lambda x:expression"
   ]
  },
  {
   "cell_type": "code",
   "execution_count": 101,
   "id": "adb40311",
   "metadata": {},
   "outputs": [],
   "source": [
    "#lambda n Python, an anonymous function means that a function is without a name. As we already know that \n",
    "#def keyword is used to define the normal functions and the lambda keyword is used to create anonymous functions."
   ]
  },
  {
   "cell_type": "code",
   "execution_count": 91,
   "id": "d0d96718",
   "metadata": {},
   "outputs": [],
   "source": [
    "x =lambda x:x+2"
   ]
  },
  {
   "cell_type": "code",
   "execution_count": 92,
   "id": "e4bfe81a",
   "metadata": {},
   "outputs": [
    {
     "name": "stdout",
     "output_type": "stream",
     "text": [
      "4\n"
     ]
    }
   ],
   "source": [
    "print(x(2))"
   ]
  },
  {
   "cell_type": "code",
   "execution_count": 93,
   "id": "65247503",
   "metadata": {},
   "outputs": [],
   "source": [
    "x =lambda x,y : x+y"
   ]
  },
  {
   "cell_type": "code",
   "execution_count": 94,
   "id": "31ba9243",
   "metadata": {},
   "outputs": [
    {
     "name": "stdout",
     "output_type": "stream",
     "text": [
      "30\n"
     ]
    }
   ],
   "source": [
    "print(x(10,20))"
   ]
  },
  {
   "cell_type": "code",
   "execution_count": 96,
   "id": "3a9e0f0a",
   "metadata": {},
   "outputs": [
    {
     "name": "stdout",
     "output_type": "stream",
     "text": [
      "Odd number\n"
     ]
    }
   ],
   "source": [
    "calc = lambda num: \"Even number\" if num % 2 == 0 else \"Odd number\"\n",
    "print(calc(21))"
   ]
  },
  {
   "cell_type": "code",
   "execution_count": 107,
   "id": "0e4fd563",
   "metadata": {},
   "outputs": [],
   "source": [
    "lambda_cube = lambda num: num ** 3"
   ]
  },
  {
   "cell_type": "code",
   "execution_count": 109,
   "id": "49c62a6d",
   "metadata": {},
   "outputs": [
    {
     "data": {
      "text/plain": [
       "1000"
      ]
     },
     "execution_count": 109,
     "metadata": {},
     "output_type": "execute_result"
    }
   ],
   "source": [
    "lambda_cube(10)"
   ]
  },
  {
   "cell_type": "code",
   "execution_count": 97,
   "id": "bb1eb695",
   "metadata": {},
   "outputs": [
    {
     "name": "stdout",
     "output_type": "stream",
     "text": [
      "[10, 20, 30, 40, 10, 20, 30, 40]\n"
     ]
    }
   ],
   "source": [
    "lst=[10,20,30,40]\n",
    "lst1=[10,20,30,40]\n",
    "print(lst+lst1)"
   ]
  },
  {
   "cell_type": "code",
   "execution_count": 110,
   "id": "60d090d7",
   "metadata": {},
   "outputs": [],
   "source": [
    "# map function to execute a specified function for each item in an iterable."
   ]
  },
  {
   "cell_type": "code",
   "execution_count": 102,
   "id": "0a6ee06e",
   "metadata": {},
   "outputs": [],
   "source": [
    "lst1 =[10,20,30,40]\n",
    "lst2=[10,20,30,40]"
   ]
  },
  {
   "cell_type": "code",
   "execution_count": 105,
   "id": "f2378fae",
   "metadata": {},
   "outputs": [],
   "source": [
    "def myfun(num1):\n",
    "    return num1 * num1"
   ]
  },
  {
   "cell_type": "code",
   "execution_count": 106,
   "id": "6dd75c03",
   "metadata": {},
   "outputs": [
    {
     "data": {
      "text/plain": [
       "100"
      ]
     },
     "execution_count": 106,
     "metadata": {},
     "output_type": "execute_result"
    }
   ],
   "source": [
    "myfun(10)"
   ]
  },
  {
   "cell_type": "code",
   "execution_count": 107,
   "id": "a3372e5d",
   "metadata": {},
   "outputs": [],
   "source": [
    "lst =map(myfun,lst1)"
   ]
  },
  {
   "cell_type": "code",
   "execution_count": 108,
   "id": "b994f870",
   "metadata": {},
   "outputs": [
    {
     "name": "stdout",
     "output_type": "stream",
     "text": [
      "[100, 400, 900, 1600]\n"
     ]
    }
   ],
   "source": [
    "print(list(lst))"
   ]
  },
  {
   "cell_type": "code",
   "execution_count": 111,
   "id": "6184b958",
   "metadata": {},
   "outputs": [],
   "source": [
    "lst =map(lambda x : x*x, lst1)"
   ]
  },
  {
   "cell_type": "code",
   "execution_count": 112,
   "id": "61dd1436",
   "metadata": {},
   "outputs": [
    {
     "name": "stdout",
     "output_type": "stream",
     "text": [
      "[100, 400, 900, 1600]\n"
     ]
    }
   ],
   "source": [
    "print(list(lst))"
   ]
  },
  {
   "cell_type": "code",
   "execution_count": 120,
   "id": "8aa5a594",
   "metadata": {},
   "outputs": [],
   "source": [
    "#The filter() function returns an iterator where the items are filtered through \n",
    "a function to test if the item is accepted or not."
   ]
  },
  {
   "cell_type": "code",
   "execution_count": 119,
   "id": "90c4ea58",
   "metadata": {},
   "outputs": [],
   "source": [
    "age=[18,20,13,40]"
   ]
  },
  {
   "cell_type": "code",
   "execution_count": 118,
   "id": "e9ba1b9c",
   "metadata": {},
   "outputs": [],
   "source": [
    "def myfun(age):\n",
    "    if age >=18:\n",
    "        return True"
   ]
  },
  {
   "cell_type": "code",
   "execution_count": 120,
   "id": "a5df490f",
   "metadata": {},
   "outputs": [],
   "source": [
    "x =filter(myfun,age)"
   ]
  },
  {
   "cell_type": "code",
   "execution_count": 121,
   "id": "73df4ca7",
   "metadata": {},
   "outputs": [
    {
     "name": "stdout",
     "output_type": "stream",
     "text": [
      "[18, 20, 40]\n"
     ]
    }
   ],
   "source": [
    "print(list(x))"
   ]
  },
  {
   "cell_type": "code",
   "execution_count": 123,
   "id": "c4f5894b",
   "metadata": {},
   "outputs": [],
   "source": [
    "lst =filter(lambda x: x >=18,age)"
   ]
  },
  {
   "cell_type": "code",
   "execution_count": 125,
   "id": "34c35c22",
   "metadata": {},
   "outputs": [
    {
     "name": "stdout",
     "output_type": "stream",
     "text": [
      "[18, 20, 40]\n"
     ]
    }
   ],
   "source": [
    "print(list(lst))"
   ]
  },
  {
   "cell_type": "code",
   "execution_count": 131,
   "id": "2c13a50b",
   "metadata": {},
   "outputs": [],
   "source": [
    "lst =filter(myfun,age)"
   ]
  },
  {
   "cell_type": "code",
   "execution_count": 132,
   "id": "baf1ff33",
   "metadata": {},
   "outputs": [
    {
     "name": "stdout",
     "output_type": "stream",
     "text": [
      "[18, 20, 40]\n"
     ]
    }
   ],
   "source": [
    "print(list(lst))"
   ]
  },
  {
   "cell_type": "code",
   "execution_count": 126,
   "id": "b6d1a329",
   "metadata": {},
   "outputs": [],
   "source": [
    "lst =[*range(10)]"
   ]
  },
  {
   "cell_type": "code",
   "execution_count": 129,
   "id": "42339c26",
   "metadata": {},
   "outputs": [
    {
     "data": {
      "text/plain": [
       "[0, 1, 2, 3, 4, 5, 6, 7, 8, 9]"
      ]
     },
     "execution_count": 129,
     "metadata": {},
     "output_type": "execute_result"
    }
   ],
   "source": [
    "lst"
   ]
  },
  {
   "cell_type": "code",
   "execution_count": 130,
   "id": "6019c1e1",
   "metadata": {},
   "outputs": [],
   "source": [
    "def myfun(num):\n",
    "    if num%2==0:\n",
    "        return True"
   ]
  },
  {
   "cell_type": "code",
   "execution_count": 138,
   "id": "172100c2",
   "metadata": {},
   "outputs": [
    {
     "data": {
      "text/plain": [
       "True"
      ]
     },
     "execution_count": 138,
     "metadata": {},
     "output_type": "execute_result"
    }
   ],
   "source": [
    "myfun(2)"
   ]
  },
  {
   "cell_type": "code",
   "execution_count": 131,
   "id": "b9c59ec5",
   "metadata": {},
   "outputs": [],
   "source": [
    "even=filter(myfun,lst)"
   ]
  },
  {
   "cell_type": "code",
   "execution_count": 132,
   "id": "21a31710",
   "metadata": {},
   "outputs": [
    {
     "name": "stdout",
     "output_type": "stream",
     "text": [
      "[0, 2, 4, 6, 8]\n"
     ]
    }
   ],
   "source": [
    "print(list(even))"
   ]
  },
  {
   "cell_type": "code",
   "execution_count": 133,
   "id": "0dac31fa",
   "metadata": {},
   "outputs": [],
   "source": [
    "o =['a','e','i','o','u']"
   ]
  },
  {
   "cell_type": "code",
   "execution_count": 140,
   "id": "096bec3b",
   "metadata": {},
   "outputs": [],
   "source": [
    "n =['b','a','b','j','e','e']"
   ]
  },
  {
   "cell_type": "code",
   "execution_count": 137,
   "id": "1c81f9fc",
   "metadata": {},
   "outputs": [],
   "source": [
    "def myfun(c):\n",
    "    if c in o:\n",
    "        return True"
   ]
  },
  {
   "cell_type": "code",
   "execution_count": 138,
   "id": "e1aa8792",
   "metadata": {},
   "outputs": [
    {
     "data": {
      "text/plain": [
       "True"
      ]
     },
     "execution_count": 138,
     "metadata": {},
     "output_type": "execute_result"
    }
   ],
   "source": [
    "myfun('a')"
   ]
  },
  {
   "cell_type": "code",
   "execution_count": 141,
   "id": "2084f798",
   "metadata": {},
   "outputs": [
    {
     "name": "stdout",
     "output_type": "stream",
     "text": [
      "['a', 'e', 'e']\n"
     ]
    }
   ],
   "source": [
    "x = filter(myfun,n)\n",
    "print(list(x))"
   ]
  },
  {
   "cell_type": "code",
   "execution_count": 142,
   "id": "201fb3ae",
   "metadata": {},
   "outputs": [],
   "source": [
    "x = filter(lambda x : x in o , n)"
   ]
  },
  {
   "cell_type": "code",
   "execution_count": 143,
   "id": "60d898f2",
   "metadata": {},
   "outputs": [
    {
     "name": "stdout",
     "output_type": "stream",
     "text": [
      "['a', 'e', 'e']\n"
     ]
    }
   ],
   "source": [
    "print(list(x))"
   ]
  },
  {
   "cell_type": "code",
   "execution_count": 146,
   "id": "963c9adb",
   "metadata": {},
   "outputs": [],
   "source": [
    "#The try block contains a set of statements where an exception can occur.\n",
    "#catch in python\n",
    "#The except block is used to handle the uncertain condition of a try block. \n",
    "#A try block is always followed by a catch block, which handles the exception that occurs in the associated try block.\n",
    "#finally \n",
    "#It is executed after the catch block. We use it to put some common code \n",
    "#(to be executed irrespective of whether an exception has occurred or not ) when there are multiple catch blocks. "
   ]
  },
  {
   "cell_type": "code",
   "execution_count": 144,
   "id": "856f6399",
   "metadata": {},
   "outputs": [
    {
     "ename": "ZeroDivisionError",
     "evalue": "division by zero",
     "output_type": "error",
     "traceback": [
      "\u001b[1;31m---------------------------------------------------------------------------\u001b[0m",
      "\u001b[1;31mZeroDivisionError\u001b[0m                         Traceback (most recent call last)",
      "Cell \u001b[1;32mIn[144], line 2\u001b[0m\n\u001b[0;32m      1\u001b[0m marks \u001b[38;5;241m=\u001b[39m \u001b[38;5;241m10000\u001b[39m\n\u001b[1;32m----> 2\u001b[0m a \u001b[38;5;241m=\u001b[39m marks \u001b[38;5;241m/\u001b[39m \u001b[38;5;241m0\u001b[39m\n\u001b[0;32m      3\u001b[0m \u001b[38;5;28mprint\u001b[39m(a)\n",
      "\u001b[1;31mZeroDivisionError\u001b[0m: division by zero"
     ]
    }
   ],
   "source": [
    "marks = 10000\n",
    "a = marks / 0\n",
    "print(a)"
   ]
  },
  {
   "cell_type": "code",
   "execution_count": 145,
   "id": "a5d400e4",
   "metadata": {},
   "outputs": [
    {
     "name": "stdout",
     "output_type": "stream",
     "text": [
      "Some error occord\n"
     ]
    }
   ],
   "source": [
    "try:\n",
    "    marks = 10000\n",
    "    a = marks / 0\n",
    "    print(a)\n",
    "except:\n",
    "    print('Some error occord')"
   ]
  },
  {
   "cell_type": "code",
   "execution_count": 146,
   "id": "7805dcd1",
   "metadata": {},
   "outputs": [
    {
     "name": "stdout",
     "output_type": "stream",
     "text": [
      "division by zero\n"
     ]
    }
   ],
   "source": [
    "try:\n",
    "    marks = 10000\n",
    "    a = marks / 0\n",
    "    print(a)\n",
    "except Exception as e:\n",
    "    print(e)"
   ]
  },
  {
   "cell_type": "code",
   "execution_count": 147,
   "id": "72ee5dad",
   "metadata": {},
   "outputs": [
    {
     "name": "stdout",
     "output_type": "stream",
     "text": [
      "ZeroDivisionError:\n"
     ]
    }
   ],
   "source": [
    "try:\n",
    "    marks = 10000\n",
    "    a = marks / 0\n",
    "    print(a)\n",
    "except ZeroDivisionError:\n",
    "    print('ZeroDivisionError:')"
   ]
  },
  {
   "cell_type": "code",
   "execution_count": 154,
   "id": "ac01684f",
   "metadata": {},
   "outputs": [
    {
     "ename": "TypeError",
     "evalue": "can only concatenate str (not \"int\") to str",
     "output_type": "error",
     "traceback": [
      "\u001b[1;31m---------------------------------------------------------------------------\u001b[0m",
      "\u001b[1;31mTypeError\u001b[0m                                 Traceback (most recent call last)",
      "Cell \u001b[1;32mIn[154], line 3\u001b[0m\n\u001b[0;32m      1\u001b[0m a \u001b[38;5;241m=\u001b[39m\u001b[38;5;124m'\u001b[39m\u001b[38;5;124mhi how are you\u001b[39m\u001b[38;5;124m'\u001b[39m\n\u001b[0;32m      2\u001b[0m b \u001b[38;5;241m=\u001b[39m\u001b[38;5;241m10\u001b[39m\n\u001b[1;32m----> 3\u001b[0m c \u001b[38;5;241m=\u001b[39m a\u001b[38;5;241m+\u001b[39mb\n",
      "\u001b[1;31mTypeError\u001b[0m: can only concatenate str (not \"int\") to str"
     ]
    }
   ],
   "source": [
    "a ='hi how are you'\n",
    "b =10\n",
    "c = a+b"
   ]
  },
  {
   "cell_type": "code",
   "execution_count": 148,
   "id": "5c8845de",
   "metadata": {},
   "outputs": [
    {
     "name": "stdout",
     "output_type": "stream",
     "text": [
      "You can not add int with string\n"
     ]
    }
   ],
   "source": [
    "a ='hi how are you'\n",
    "b =10\n",
    "try:\n",
    "    c = a+b\n",
    "except TypeError:\n",
    "    print('You can not add int with string')"
   ]
  },
  {
   "cell_type": "code",
   "execution_count": 149,
   "id": "edc65ba6",
   "metadata": {},
   "outputs": [
    {
     "ename": "ValueError",
     "evalue": "invalid literal for int() with base 10: 'hello'",
     "output_type": "error",
     "traceback": [
      "\u001b[1;31m---------------------------------------------------------------------------\u001b[0m",
      "\u001b[1;31mValueError\u001b[0m                                Traceback (most recent call last)",
      "Cell \u001b[1;32mIn[149], line 2\u001b[0m\n\u001b[0;32m      1\u001b[0m strVal \u001b[38;5;241m=\u001b[39m\u001b[38;5;124m'\u001b[39m\u001b[38;5;124mhello\u001b[39m\u001b[38;5;124m'\u001b[39m\n\u001b[1;32m----> 2\u001b[0m intVal \u001b[38;5;241m=\u001b[39m\u001b[38;5;28mint\u001b[39m(strVal)\n",
      "\u001b[1;31mValueError\u001b[0m: invalid literal for int() with base 10: 'hello'"
     ]
    }
   ],
   "source": [
    "strVal ='hello'\n",
    "intVal =int(strVal)"
   ]
  },
  {
   "cell_type": "code",
   "execution_count": 150,
   "id": "c2ab42ca",
   "metadata": {},
   "outputs": [
    {
     "name": "stdout",
     "output_type": "stream",
     "text": [
      "ZeroDivisionError error\n"
     ]
    }
   ],
   "source": [
    "try:\n",
    "    c = 10/0\n",
    "    strVal ='hello'\n",
    "    intVal =int(strVal)\n",
    "except ValueError:\n",
    "    print('You can not convert str to int')\n",
    "except ZeroDivisionError:\n",
    "    print('ZeroDivisionError error')"
   ]
  },
  {
   "cell_type": "code",
   "execution_count": 152,
   "id": "ead720be",
   "metadata": {},
   "outputs": [
    {
     "name": "stdout",
     "output_type": "stream",
     "text": [
      "Second element = 2\n",
      "Fourth element = 3\n",
      "end of the program\n"
     ]
    }
   ],
   "source": [
    "a = [1, 2, 3]\n",
    "try: \n",
    "    print (\"Second element = %d\" %(a[1]))\n",
    " \n",
    "    print (\"Fourth element = %d\" %(a[2]))\n",
    " \n",
    "except Exception as e:\n",
    "    print (e)\n",
    "finally:\n",
    "    print('end of the program')"
   ]
  },
  {
   "cell_type": "code",
   "execution_count": 153,
   "id": "ab46b3b8",
   "metadata": {},
   "outputs": [
    {
     "name": "stdout",
     "output_type": "stream",
     "text": [
      "Hello\n",
      "Nothing went wrong\n"
     ]
    }
   ],
   "source": [
    "try:\n",
    "  print(\"Hello\")\n",
    "except:\n",
    "  print(\"Something went wrong\")\n",
    "else:\n",
    "  print(\"Nothing went wrong\")"
   ]
  },
  {
   "cell_type": "code",
   "execution_count": 2,
   "id": "2c868037",
   "metadata": {},
   "outputs": [
    {
     "name": "stdout",
     "output_type": "stream",
     "text": [
      "Error: Denominator cannot be 0.\n",
      "This is finally block.\n"
     ]
    }
   ],
   "source": [
    "try:\n",
    "    numerator = 10\n",
    "    denominator = 0\n",
    "\n",
    "    result = numerator/denominator\n",
    "\n",
    "    print(result)\n",
    "except:\n",
    "    print(\"Error: Denominator cannot be 0.\")\n",
    "    \n",
    "finally:\n",
    "    print(\"This is finally block.\")"
   ]
  },
  {
   "cell_type": "code",
   "execution_count": 155,
   "id": "d96c14ee",
   "metadata": {},
   "outputs": [
    {
     "name": "stdout",
     "output_type": "stream",
     "text": [
      "Sorry, no numbers below zero\n"
     ]
    }
   ],
   "source": [
    "try:\n",
    "    x = -1\n",
    "\n",
    "    if x < 0:\n",
    "      raise Exception(\"Sorry, no numbers below zero\")\n",
    "\n",
    "except  Exception as e:\n",
    "    print(e)\n"
   ]
  },
  {
   "cell_type": "code",
   "execution_count": 1,
   "id": "993bed89",
   "metadata": {},
   "outputs": [],
   "source": [
    "#A Class is like an object constructor, or a \"blueprint\" for creating objects.\n"
   ]
  },
  {
   "cell_type": "code",
   "execution_count": 2,
   "id": "2a10752f",
   "metadata": {},
   "outputs": [],
   "source": [
    "class MyClass:\n",
    "  x = 5"
   ]
  },
  {
   "cell_type": "code",
   "execution_count": 4,
   "id": "324261d6",
   "metadata": {},
   "outputs": [],
   "source": [
    "obj = MyClass()"
   ]
  },
  {
   "cell_type": "code",
   "execution_count": 5,
   "id": "389183b6",
   "metadata": {},
   "outputs": [
    {
     "data": {
      "text/plain": [
       "5"
      ]
     },
     "execution_count": 5,
     "metadata": {},
     "output_type": "execute_result"
    }
   ],
   "source": [
    "obj.x"
   ]
  },
  {
   "cell_type": "code",
   "execution_count": null,
   "id": "2dfb5503",
   "metadata": {},
   "outputs": [],
   "source": [
    "__init__() function to assign values to object properties, or other operations that are necessary to do when \n",
    "the object is being created:"
   ]
  },
  {
   "cell_type": "code",
   "execution_count": null,
   "id": "0e499cc1",
   "metadata": {},
   "outputs": [],
   "source": [
    "Self represents the instance of the class. By using the “self” \n",
    "we can access the attributes and methods of the class"
   ]
  },
  {
   "cell_type": "code",
   "execution_count": 6,
   "id": "58223cae",
   "metadata": {},
   "outputs": [],
   "source": [
    "class Person:\n",
    "  def __init__(self, name, age):\n",
    "    self.name = name\n",
    "    self.age = age\n"
   ]
  },
  {
   "cell_type": "code",
   "execution_count": 9,
   "id": "61d34754",
   "metadata": {},
   "outputs": [],
   "source": [
    "obj =Person('Babjee','40')\n",
    "obj1 =Person('Ram','20')"
   ]
  },
  {
   "cell_type": "code",
   "execution_count": 8,
   "id": "152eeedd",
   "metadata": {},
   "outputs": [
    {
     "name": "stdout",
     "output_type": "stream",
     "text": [
      "Babjee\n",
      "40\n"
     ]
    }
   ],
   "source": [
    "print(obj.name)\n",
    "print(obj.age)"
   ]
  },
  {
   "cell_type": "code",
   "execution_count": 10,
   "id": "0a64a02a",
   "metadata": {},
   "outputs": [
    {
     "name": "stdout",
     "output_type": "stream",
     "text": [
      "Ram\n",
      "20\n"
     ]
    }
   ],
   "source": [
    "print(obj1.name)\n",
    "print(obj1.age)"
   ]
  },
  {
   "cell_type": "code",
   "execution_count": 20,
   "id": "132efa75",
   "metadata": {},
   "outputs": [],
   "source": [
    "class Person:\n",
    "  def __init__(self, name, age):\n",
    "    self.name = name\n",
    "    self.age = age\n",
    "\n",
    "  def myfun(self):\n",
    "    print(\"Hello my name is \" + self.name)\n",
    "    print(\"My age is \" + str(self.age))"
   ]
  },
  {
   "cell_type": "code",
   "execution_count": 21,
   "id": "5ecd213f",
   "metadata": {},
   "outputs": [],
   "source": [
    "obj =Person('Ram',30)\n"
   ]
  },
  {
   "cell_type": "code",
   "execution_count": 22,
   "id": "f7ae98f1",
   "metadata": {},
   "outputs": [
    {
     "name": "stdout",
     "output_type": "stream",
     "text": [
      "Hello my name is Ram\n",
      "My age is 30\n"
     ]
    }
   ],
   "source": [
    "obj.myfun()"
   ]
  },
  {
   "cell_type": "code",
   "execution_count": null,
   "id": "a695eaeb",
   "metadata": {},
   "outputs": [],
   "source": [
    "It does not have to be named self , you can call it whatever you like, but \n",
    "parameter of any function in the class"
   ]
  },
  {
   "cell_type": "code",
   "execution_count": 23,
   "id": "945ac2fd",
   "metadata": {},
   "outputs": [
    {
     "name": "stdout",
     "output_type": "stream",
     "text": [
      "Hello my name is John\n"
     ]
    }
   ],
   "source": [
    "class Person:\n",
    "  def __init__(myself, name, age):\n",
    "    myself.name = name\n",
    "    myself.age = age\n",
    "\n",
    "  def myfunc(abc):\n",
    "    print(\"Hello my name is \" + abc.name)\n",
    "\n",
    "p1 = Person(\"John\", 36)\n",
    "p1.myfunc()"
   ]
  },
  {
   "cell_type": "code",
   "execution_count": null,
   "id": "d448520a",
   "metadata": {},
   "outputs": [],
   "source": [
    "You can modify properties on objects like this:"
   ]
  },
  {
   "cell_type": "code",
   "execution_count": 24,
   "id": "ec63a36e",
   "metadata": {},
   "outputs": [
    {
     "name": "stdout",
     "output_type": "stream",
     "text": [
      "ram\n"
     ]
    }
   ],
   "source": [
    "p1.name='ram'\n",
    "print(p1.name)"
   ]
  },
  {
   "cell_type": "code",
   "execution_count": 25,
   "id": "f3581cda",
   "metadata": {},
   "outputs": [],
   "source": [
    "class Person:\n",
    "  def __init__(self, fname, lname):\n",
    "    self.firstname = fname\n",
    "    self.lastname = lname\n",
    "\n",
    "  def printname(self):\n",
    "    print(self.firstname, self.lastname)\n"
   ]
  },
  {
   "cell_type": "code",
   "execution_count": 26,
   "id": "d85010e4",
   "metadata": {},
   "outputs": [],
   "source": [
    "class Student(Person):\n",
    "  pass"
   ]
  },
  {
   "cell_type": "code",
   "execution_count": 27,
   "id": "f6538d3e",
   "metadata": {},
   "outputs": [
    {
     "name": "stdout",
     "output_type": "stream",
     "text": [
      "Mike Olsen\n"
     ]
    }
   ],
   "source": [
    "x = Student(\"Mike\", \"Olsen\")\n",
    "x.printname()"
   ]
  },
  {
   "cell_type": "code",
   "execution_count": null,
   "id": "72454872",
   "metadata": {},
   "outputs": [],
   "source": [
    "Add a property called graduationyear to the Student class:"
   ]
  },
  {
   "cell_type": "code",
   "execution_count": 30,
   "id": "7b1582fd",
   "metadata": {},
   "outputs": [
    {
     "name": "stdout",
     "output_type": "stream",
     "text": [
      "2019\n"
     ]
    }
   ],
   "source": [
    "class Student(Person):\n",
    "  def __init__(self, fname, lname):\n",
    "    super().__init__(fname, lname)\n",
    "    self.graduationyear = 2019\n",
    "\n",
    "x = Student(\"Mike\", \"Olsen\")\n",
    "print(x.graduationyear)\n"
   ]
  },
  {
   "cell_type": "code",
   "execution_count": 34,
   "id": "7d36c7de",
   "metadata": {},
   "outputs": [],
   "source": [
    "class Student(Person):\n",
    "  def __init__(self, fname, lname, year):\n",
    "    super().__init__(fname, lname)\n",
    "    self.graduationyear = year\n"
   ]
  },
  {
   "cell_type": "code",
   "execution_count": 37,
   "id": "6e3c2254",
   "metadata": {},
   "outputs": [
    {
     "name": "stdout",
     "output_type": "stream",
     "text": [
      "Mike\n",
      "Olsen\n",
      "2019\n"
     ]
    }
   ],
   "source": [
    "x = Student(\"Mike\", \"Olsen\", 2019)\n",
    "print(x.firstname)\n",
    "print(x.lastname)\n",
    "print(x.graduationyear)\n"
   ]
  },
  {
   "cell_type": "code",
   "execution_count": 38,
   "id": "20e0d7b5",
   "metadata": {},
   "outputs": [],
   "source": [
    "class Person:\n",
    "  def __init__(self, fname, lname):\n",
    "    self.firstname = fname\n",
    "    self.lastname = lname\n",
    "\n",
    "  def printname(self):\n",
    "    print(self.firstname, self.lastname)\n",
    "\n",
    "class Student(Person):\n",
    "  def __init__(self, fname, lname, year):\n",
    "    super().__init__(fname, lname)\n",
    "    self.graduationyear = year\n",
    "\n",
    "  def welcome(self):\n",
    "    print(\"Welcome\", self.firstname, self.lastname, \"to the class of\", self.graduationyear)\n",
    "\n"
   ]
  },
  {
   "cell_type": "code",
   "execution_count": 41,
   "id": "69c0413f",
   "metadata": {},
   "outputs": [],
   "source": [
    "x = Student(\"Mike\", \"Olsen\", 2019)\n"
   ]
  },
  {
   "cell_type": "code",
   "execution_count": 40,
   "id": "6a543113",
   "metadata": {},
   "outputs": [
    {
     "name": "stdout",
     "output_type": "stream",
     "text": [
      "Mike Olsen\n"
     ]
    }
   ],
   "source": [
    "x.printname()"
   ]
  },
  {
   "cell_type": "code",
   "execution_count": 42,
   "id": "6849c0b2",
   "metadata": {},
   "outputs": [
    {
     "name": "stdout",
     "output_type": "stream",
     "text": [
      "Welcome Mike Olsen to the class of 2019\n"
     ]
    }
   ],
   "source": [
    "x.welcome()"
   ]
  },
  {
   "cell_type": "code",
   "execution_count": null,
   "id": "9b46704b",
   "metadata": {},
   "outputs": [],
   "source": [
    "What is polymorphism? Polymorphism refers to having multiple forms. \n",
    "Polymorphism is a programming term that refers to the use of the \n",
    "same function name, but with different signatures, for multiple types."
   ]
  },
  {
   "cell_type": "code",
   "execution_count": 43,
   "id": "e33312e4",
   "metadata": {},
   "outputs": [
    {
     "name": "stdout",
     "output_type": "stream",
     "text": [
      "10\n",
      "4\n"
     ]
    }
   ],
   "source": [
    "# len() function is used for a string  \n",
    "print (len(\"Javatpoint\"))  \n",
    "  \n",
    "# len() function is used for a list  \n",
    "print (len([110, 210, 130, 321]))  "
   ]
  },
  {
   "cell_type": "code",
   "execution_count": 44,
   "id": "878c67b4",
   "metadata": {},
   "outputs": [
    {
     "name": "stdout",
     "output_type": "stream",
     "text": [
      "29\n",
      "597\n"
     ]
    }
   ],
   "source": [
    "def add(num1,num2,  num3= 0):  \n",
    "    return num1+ num2 + num3  \n",
    "  \n",
    "# Driver code  \n",
    "print (add(6, 23))  \n",
    "print (add(22, 31, 544))  "
   ]
  },
  {
   "cell_type": "code",
   "execution_count": null,
   "id": "9b5e9e3f",
   "metadata": {},
   "outputs": [],
   "source": [
    "Polymorphism with class methods: \n",
    "\n",
    "The below code shows how Python can use two different class types, \n",
    "in the same way."
   ]
  },
  {
   "cell_type": "code",
   "execution_count": 47,
   "id": "d24f8f8e",
   "metadata": {},
   "outputs": [
    {
     "name": "stdout",
     "output_type": "stream",
     "text": [
      "New Delhi is the capital of India.\n",
      "Hindi is the most widely spoken language of India.\n",
      "India is a developing country.\n",
      "Washington, D.C. is the capital of USA.\n",
      "English is the primary language of USA.\n",
      "USA is a developed country.\n"
     ]
    }
   ],
   "source": [
    "class India():\n",
    "    def capital(self):\n",
    "        print(\"New Delhi is the capital of India.\")\n",
    "\n",
    "    def language(self):\n",
    "        print(\"Hindi is the most widely spoken language of India.\")\n",
    "\n",
    "    def type(self):\n",
    "        print(\"India is a developing country.\")\n",
    "\n",
    "class USA():\n",
    "    def capital(self):\n",
    "        print(\"Washington, D.C. is the capital of USA.\")\n",
    "\n",
    "    def language(self):\n",
    "        print(\"English is the primary language of USA.\")\n",
    "\n",
    "    def type(self):\n",
    "        print(\"USA is a developed country.\")\n",
    "\n",
    "obj_ind = India()\n",
    "obj_usa = USA()\n",
    "for country in (obj_ind, obj_usa):\n",
    "    country.capital()\n",
    "    country.language()\n",
    "    country.type()\n"
   ]
  },
  {
   "cell_type": "code",
   "execution_count": null,
   "id": "de3f2a00",
   "metadata": {},
   "outputs": [],
   "source": [
    "#The OS module in Python provides functions for interacting \n",
    "with the operating system."
   ]
  },
  {
   "cell_type": "code",
   "execution_count": 2,
   "id": "ed563633",
   "metadata": {},
   "outputs": [],
   "source": [
    "import os"
   ]
  },
  {
   "cell_type": "code",
   "execution_count": 3,
   "id": "e3bffb76",
   "metadata": {},
   "outputs": [
    {
     "data": {
      "text/plain": [
       "'C:\\\\Users\\\\babje'"
      ]
     },
     "execution_count": 3,
     "metadata": {},
     "output_type": "execute_result"
    }
   ],
   "source": [
    "os.getcwd()"
   ]
  },
  {
   "cell_type": "code",
   "execution_count": 4,
   "id": "1445cbfd",
   "metadata": {},
   "outputs": [],
   "source": [
    "os.chdir('c:\\\\training') "
   ]
  },
  {
   "cell_type": "code",
   "execution_count": 5,
   "id": "91135a8d",
   "metadata": {},
   "outputs": [
    {
     "data": {
      "text/plain": [
       "'c:\\\\training'"
      ]
     },
     "execution_count": 5,
     "metadata": {},
     "output_type": "execute_result"
    }
   ],
   "source": [
    "os.getcwd()"
   ]
  },
  {
   "cell_type": "code",
   "execution_count": 6,
   "id": "a194e59e",
   "metadata": {},
   "outputs": [],
   "source": [
    "os.mkdir('c:\\\\test')"
   ]
  },
  {
   "cell_type": "code",
   "execution_count": 10,
   "id": "2efd43bb",
   "metadata": {},
   "outputs": [],
   "source": [
    "os.makedirs('c:/test1/test2')"
   ]
  },
  {
   "cell_type": "code",
   "execution_count": 11,
   "id": "a29ae730",
   "metadata": {},
   "outputs": [
    {
     "data": {
      "text/plain": [
       "['abc.txt',\n",
       " 'All_Customers.csv',\n",
       " 'ALL_CUSTOMERS_220320241441.CSV.TXT',\n",
       " 'ALL_CUSTOMERS_220320241444.CSV',\n",
       " 'AUTHOR',\n",
       " 'AUTHOR.JSON',\n",
       " 'backup',\n",
       " 'BAKCUP',\n",
       " 'Boston_Customers.csv',\n",
       " 'catalog.xml',\n",
       " 'catalog_out.csv',\n",
       " 'copy.bat',\n",
       " 'Customer_Order.xsd',\n",
       " 'data.csv',\n",
       " 'emp.txt',\n",
       " 'employees_job_id1.CSV',\n",
       " 'employees_job_id2.TXT',\n",
       " 'employees_job_id3.DAT',\n",
       " 'employees_job_id4.csv',\n",
       " 'EMP_DNORM.txt',\n",
       " 'emp_east.txt',\n",
       " 'emp_sort.CSV',\n",
       " 'EMP_SOUTH.txt',\n",
       " 'emp_south_all1.out',\n",
       " 'EMP_WEST.txt',\n",
       " 'etf_data.csv',\n",
       " 'FILEPATH.txt',\n",
       " 'ITEMS.txt',\n",
       " 'items1.out',\n",
       " 'ITEMS_100.CSV',\n",
       " 'ITEMS_101.CSV',\n",
       " 'ITEMS_102.CSV',\n",
       " 'ITEMS_103.CSV',\n",
       " 'ITEMS_104.CSV',\n",
       " 'ITEMS_105.CSV',\n",
       " 'ITEMS_106.CSV',\n",
       " 'ITEMS_107.CSV',\n",
       " 'ITEMS_108.CSV',\n",
       " 'ITEMS_109.CSV',\n",
       " 'ITEMS_110.CSV',\n",
       " 'items_sp.CSV',\n",
       " 'items_tc1.out',\n",
       " 'items_uc.csv',\n",
       " 'LA_Customers.csv',\n",
       " 'MANUFACTURERS.CAV',\n",
       " 'MANUFACTURERS.CSV',\n",
       " 'MANUFACTURERS.txt',\n",
       " 'MKTABLES.SQL',\n",
       " 'NOKIA.txt',\n",
       " 'orders.csv',\n",
       " 'Output1_PLWtunQE.out',\n",
       " 'Output1_RhEfXKko.out',\n",
       " 'parafile.txt',\n",
       " 'stock_data.csv',\n",
       " 'stock_dtl.CSV',\n",
       " 'stock_dtl.txt',\n",
       " 'S_M_EMPLOYEES_PARA.log',\n",
       " 'S_M_EMPLOYEES_PARA.log.bin',\n",
       " 't_employees.csv',\n",
       " 't_items.csv',\n",
       " 't_items_agg.AGG',\n",
       " 't_student_norm.CSV']"
      ]
     },
     "execution_count": 11,
     "metadata": {},
     "output_type": "execute_result"
    }
   ],
   "source": [
    "os.listdir('c:\\\\training')"
   ]
  },
  {
   "cell_type": "code",
   "execution_count": 13,
   "id": "83d7667c",
   "metadata": {},
   "outputs": [
    {
     "name": "stdout",
     "output_type": "stream",
     "text": [
      "[WinError 2] The system cannot find the file specified: 'c:\\\\training\\\\emp_west.txt'\n"
     ]
    }
   ],
   "source": [
    "try:\n",
    "    os.remove('c:\\\\training\\emp_west.txt')\n",
    "except Exception as e:\n",
    "    print(e)"
   ]
  },
  {
   "cell_type": "code",
   "execution_count": 18,
   "id": "91ea04d3",
   "metadata": {},
   "outputs": [
    {
     "ename": "PermissionError",
     "evalue": "[WinError 5] Access is denied: 'c:/test1'",
     "output_type": "error",
     "traceback": [
      "\u001b[1;31m---------------------------------------------------------------------------\u001b[0m",
      "\u001b[1;31mPermissionError\u001b[0m                           Traceback (most recent call last)",
      "Cell \u001b[1;32mIn[18], line 1\u001b[0m\n\u001b[1;32m----> 1\u001b[0m os\u001b[38;5;241m.\u001b[39mremove(\u001b[38;5;124m'\u001b[39m\u001b[38;5;124mc:/test1\u001b[39m\u001b[38;5;124m'\u001b[39m)\n",
      "\u001b[1;31mPermissionError\u001b[0m: [WinError 5] Access is denied: 'c:/test1'"
     ]
    }
   ],
   "source": [
    "os.remove('c:/test1')"
   ]
  },
  {
   "cell_type": "code",
   "execution_count": 19,
   "id": "418f7f6b",
   "metadata": {},
   "outputs": [
    {
     "data": {
      "text/plain": [
       "'nt'"
      ]
     },
     "execution_count": 19,
     "metadata": {},
     "output_type": "execute_result"
    }
   ],
   "source": [
    "os.name"
   ]
  },
  {
   "cell_type": "code",
   "execution_count": 20,
   "id": "9bf7e9b0",
   "metadata": {},
   "outputs": [],
   "source": [
    "os.rename('c:/training/emp_east.txt','emp_new.txt')"
   ]
  },
  {
   "cell_type": "code",
   "execution_count": 22,
   "id": "6b1ac261",
   "metadata": {},
   "outputs": [
    {
     "data": {
      "text/plain": [
       "True"
      ]
     },
     "execution_count": 22,
     "metadata": {},
     "output_type": "execute_result"
    }
   ],
   "source": [
    "os.path.exists('c:/training/emp_new.txt')"
   ]
  },
  {
   "cell_type": "code",
   "execution_count": 23,
   "id": "ffc43ad7",
   "metadata": {},
   "outputs": [
    {
     "data": {
      "text/plain": [
       "50"
      ]
     },
     "execution_count": 23,
     "metadata": {},
     "output_type": "execute_result"
    }
   ],
   "source": [
    "os.path.getsize('c:/training/emp_new.txt')"
   ]
  },
  {
   "cell_type": "code",
   "execution_count": null,
   "id": "36f6873b",
   "metadata": {},
   "outputs": [],
   "source": [
    "Numpy is a general-purpose array-processing package.\n",
    "It provides a high-performance multidimensional array object, and tools \n",
    "for working with these arrays. "
   ]
  },
  {
   "cell_type": "code",
   "execution_count": 25,
   "id": "32aa1cc0",
   "metadata": {},
   "outputs": [],
   "source": [
    "import numpy as np"
   ]
  },
  {
   "cell_type": "code",
   "execution_count": 34,
   "id": "6a230bb2",
   "metadata": {},
   "outputs": [],
   "source": [
    "arr =np.array([10,20,30,40])"
   ]
  },
  {
   "cell_type": "code",
   "execution_count": 27,
   "id": "91db1181",
   "metadata": {},
   "outputs": [
    {
     "data": {
      "text/plain": [
       "numpy.ndarray"
      ]
     },
     "execution_count": 27,
     "metadata": {},
     "output_type": "execute_result"
    }
   ],
   "source": [
    "type(arr)"
   ]
  },
  {
   "cell_type": "code",
   "execution_count": 28,
   "id": "48409329",
   "metadata": {},
   "outputs": [
    {
     "data": {
      "text/plain": [
       "10"
      ]
     },
     "execution_count": 28,
     "metadata": {},
     "output_type": "execute_result"
    }
   ],
   "source": [
    "arr[0]"
   ]
  },
  {
   "cell_type": "code",
   "execution_count": 29,
   "id": "42b3cc68",
   "metadata": {},
   "outputs": [
    {
     "data": {
      "text/plain": [
       "array([10, 20])"
      ]
     },
     "execution_count": 29,
     "metadata": {},
     "output_type": "execute_result"
    }
   ],
   "source": [
    "arr[:2]"
   ]
  },
  {
   "cell_type": "code",
   "execution_count": 30,
   "id": "b4312730",
   "metadata": {},
   "outputs": [
    {
     "data": {
      "text/plain": [
       "array([20, 30, 40])"
      ]
     },
     "execution_count": 30,
     "metadata": {},
     "output_type": "execute_result"
    }
   ],
   "source": [
    "arr[1:]"
   ]
  },
  {
   "cell_type": "code",
   "execution_count": 36,
   "id": "6f29584e",
   "metadata": {},
   "outputs": [],
   "source": [
    "arr = np.array([[1, 2, 3],\n",
    "                [4, 5, 6]])"
   ]
  },
  {
   "cell_type": "code",
   "execution_count": 32,
   "id": "52dd5681",
   "metadata": {},
   "outputs": [
    {
     "data": {
      "text/plain": [
       "array([[1, 2, 3],\n",
       "       [4, 5, 6]])"
      ]
     },
     "execution_count": 32,
     "metadata": {},
     "output_type": "execute_result"
    }
   ],
   "source": [
    "arr"
   ]
  },
  {
   "cell_type": "code",
   "execution_count": 35,
   "id": "29f809d5",
   "metadata": {},
   "outputs": [
    {
     "data": {
      "text/plain": [
       "(4,)"
      ]
     },
     "execution_count": 35,
     "metadata": {},
     "output_type": "execute_result"
    }
   ],
   "source": [
    "arr.shape"
   ]
  },
  {
   "cell_type": "code",
   "execution_count": 83,
   "id": "377a9a7a",
   "metadata": {},
   "outputs": [
    {
     "data": {
      "text/plain": [
       "array([1, 2, 3])"
      ]
     },
     "execution_count": 83,
     "metadata": {},
     "output_type": "execute_result"
    }
   ],
   "source": [
    "arr[0]"
   ]
  },
  {
   "cell_type": "code",
   "execution_count": 84,
   "id": "16a68acd",
   "metadata": {},
   "outputs": [
    {
     "data": {
      "text/plain": [
       "2"
      ]
     },
     "execution_count": 84,
     "metadata": {},
     "output_type": "execute_result"
    }
   ],
   "source": [
    "arr[0][1]"
   ]
  },
  {
   "cell_type": "code",
   "execution_count": 91,
   "id": "c0d2d12d",
   "metadata": {},
   "outputs": [
    {
     "data": {
      "text/plain": [
       "array([[2, 3],\n",
       "       [5, 6]])"
      ]
     },
     "execution_count": 91,
     "metadata": {},
     "output_type": "execute_result"
    }
   ],
   "source": [
    "arr[0:,1:]"
   ]
  },
  {
   "cell_type": "code",
   "execution_count": 37,
   "id": "fd78b6b7",
   "metadata": {},
   "outputs": [],
   "source": [
    "arr = np.array([[-1, 2, 0, 4],\n",
    "                [4, -0.5, 6, 0],\n",
    "                [2.6, 0, 7, 8],\n",
    "                [3, -7, 4, 2.0]])"
   ]
  },
  {
   "cell_type": "code",
   "execution_count": 39,
   "id": "7cb9aee8",
   "metadata": {},
   "outputs": [
    {
     "data": {
      "text/plain": [
       "array([[-1. ,  2. ],\n",
       "       [ 4. , -0.5],\n",
       "       [ 2.6,  0. ],\n",
       "       [ 3. , -7. ]])"
      ]
     },
     "execution_count": 39,
     "metadata": {},
     "output_type": "execute_result"
    }
   ],
   "source": [
    "arr[0:,:2]"
   ]
  },
  {
   "cell_type": "code",
   "execution_count": 41,
   "id": "c801dea3",
   "metadata": {},
   "outputs": [
    {
     "data": {
      "text/plain": [
       "array([[2.6, 7. ],\n",
       "       [3. , 4. ]])"
      ]
     },
     "execution_count": 41,
     "metadata": {},
     "output_type": "execute_result"
    }
   ],
   "source": [
    "arr[2:,::2]"
   ]
  },
  {
   "cell_type": "code",
   "execution_count": 42,
   "id": "f6f31ba9",
   "metadata": {},
   "outputs": [
    {
     "data": {
      "text/plain": [
       "array([[-1. ,  2. ,  0. ,  4. ],\n",
       "       [ 4. , -0.5,  6. ,  0. ],\n",
       "       [ 2.6,  0. ,  7. ,  8. ],\n",
       "       [ 3. , -7. ,  4. ,  2. ]])"
      ]
     },
     "execution_count": 42,
     "metadata": {},
     "output_type": "execute_result"
    }
   ],
   "source": [
    "arr"
   ]
  },
  {
   "cell_type": "code",
   "execution_count": 43,
   "id": "c364f345",
   "metadata": {},
   "outputs": [],
   "source": [
    "Index_arr = arr[[1, 1, 0, 3], \n",
    "                [3, 2, 1, 0]]"
   ]
  },
  {
   "cell_type": "code",
   "execution_count": 99,
   "id": "a0d924f1",
   "metadata": {},
   "outputs": [
    {
     "data": {
      "text/plain": [
       "array([0., 6., 2., 3.])"
      ]
     },
     "execution_count": 99,
     "metadata": {},
     "output_type": "execute_result"
    }
   ],
   "source": [
    "Index_arr"
   ]
  },
  {
   "cell_type": "code",
   "execution_count": 44,
   "id": "cbfe0b79",
   "metadata": {},
   "outputs": [],
   "source": [
    "a = np.array([[1, 2],\n",
    "              [3, 4]])\n",
    " \n",
    "# Defining Array 2\n",
    "b = np.array([[4, 3],\n",
    "              [2, 1]])"
   ]
  },
  {
   "cell_type": "code",
   "execution_count": 45,
   "id": "f73fdc6d",
   "metadata": {},
   "outputs": [
    {
     "data": {
      "text/plain": [
       "array([[2, 3],\n",
       "       [4, 5]])"
      ]
     },
     "execution_count": 45,
     "metadata": {},
     "output_type": "execute_result"
    }
   ],
   "source": [
    "a+1"
   ]
  },
  {
   "cell_type": "code",
   "execution_count": 46,
   "id": "b332c997",
   "metadata": {},
   "outputs": [
    {
     "data": {
      "text/plain": [
       "array([[ 2,  1],\n",
       "       [ 0, -1]])"
      ]
     },
     "execution_count": 46,
     "metadata": {},
     "output_type": "execute_result"
    }
   ],
   "source": [
    "b-2"
   ]
  },
  {
   "cell_type": "code",
   "execution_count": 47,
   "id": "8f1135f4",
   "metadata": {},
   "outputs": [
    {
     "data": {
      "text/plain": [
       "array([[5, 5],\n",
       "       [5, 5]])"
      ]
     },
     "execution_count": 47,
     "metadata": {},
     "output_type": "execute_result"
    }
   ],
   "source": [
    "a+b"
   ]
  },
  {
   "cell_type": "code",
   "execution_count": 108,
   "id": "838fde36",
   "metadata": {},
   "outputs": [],
   "source": [
    "#datatype of array"
   ]
  },
  {
   "cell_type": "code",
   "execution_count": 48,
   "id": "7a999c87",
   "metadata": {},
   "outputs": [
    {
     "data": {
      "text/plain": [
       "dtype('int32')"
      ]
     },
     "execution_count": 48,
     "metadata": {},
     "output_type": "execute_result"
    }
   ],
   "source": [
    "a.dtype"
   ]
  },
  {
   "cell_type": "code",
   "execution_count": 49,
   "id": "539083b8",
   "metadata": {},
   "outputs": [],
   "source": [
    "arr =np.array([10,20,40])"
   ]
  },
  {
   "cell_type": "code",
   "execution_count": 110,
   "id": "ef2b17a7",
   "metadata": {},
   "outputs": [
    {
     "data": {
      "text/plain": [
       "70"
      ]
     },
     "execution_count": 110,
     "metadata": {},
     "output_type": "execute_result"
    }
   ],
   "source": [
    "arr.sum()"
   ]
  },
  {
   "cell_type": "code",
   "execution_count": 50,
   "id": "01502ce9",
   "metadata": {},
   "outputs": [
    {
     "data": {
      "text/plain": [
       "40"
      ]
     },
     "execution_count": 50,
     "metadata": {},
     "output_type": "execute_result"
    }
   ],
   "source": [
    "arr.max()"
   ]
  },
  {
   "cell_type": "code",
   "execution_count": 51,
   "id": "2bcf05df",
   "metadata": {},
   "outputs": [
    {
     "data": {
      "text/plain": [
       "10"
      ]
     },
     "execution_count": 51,
     "metadata": {},
     "output_type": "execute_result"
    }
   ],
   "source": [
    "arr.min()"
   ]
  },
  {
   "cell_type": "code",
   "execution_count": 113,
   "id": "a17f4514",
   "metadata": {},
   "outputs": [
    {
     "data": {
      "text/plain": [
       "10"
      ]
     },
     "execution_count": 113,
     "metadata": {},
     "output_type": "execute_result"
    }
   ],
   "source": [
    "min(arr)"
   ]
  },
  {
   "cell_type": "code",
   "execution_count": 53,
   "id": "6cda838b",
   "metadata": {},
   "outputs": [
    {
     "data": {
      "text/plain": [
       "12.472191289246473"
      ]
     },
     "execution_count": 53,
     "metadata": {},
     "output_type": "execute_result"
    }
   ],
   "source": [
    "arr.std()"
   ]
  },
  {
   "cell_type": "code",
   "execution_count": 55,
   "id": "7bc448c2",
   "metadata": {},
   "outputs": [],
   "source": [
    "arr=np.array([[1, 2, 3],\n",
    "                [4, 5, 6],\n",
    "                [7, 8, 9]])"
   ]
  },
  {
   "cell_type": "code",
   "execution_count": 57,
   "id": "5c6ee33c",
   "metadata": {},
   "outputs": [
    {
     "data": {
      "text/plain": [
       "array([[1, 4, 7],\n",
       "       [2, 5, 8],\n",
       "       [3, 6, 9]])"
      ]
     },
     "execution_count": 57,
     "metadata": {},
     "output_type": "execute_result"
    }
   ],
   "source": [
    "#Transpose\n",
    "arr.T\n"
   ]
  },
  {
   "cell_type": "code",
   "execution_count": 149,
   "id": "89600a6f",
   "metadata": {},
   "outputs": [],
   "source": [
    "arr=np.array([[1, 2],\n",
    "          [4, 5],\n",
    "         [7, 8]])\n",
    " "
   ]
  },
  {
   "cell_type": "code",
   "execution_count": 150,
   "id": "8019d2be",
   "metadata": {},
   "outputs": [
    {
     "data": {
      "text/plain": [
       "array([[1, 4, 7],\n",
       "       [2, 5, 8]])"
      ]
     },
     "execution_count": 150,
     "metadata": {},
     "output_type": "execute_result"
    }
   ],
   "source": [
    "arr.T"
   ]
  },
  {
   "cell_type": "code",
   "execution_count": 59,
   "id": "a0f64172",
   "metadata": {},
   "outputs": [
    {
     "data": {
      "text/plain": [
       "array([1, 3, 5, 7, 9])"
      ]
     },
     "execution_count": 59,
     "metadata": {},
     "output_type": "execute_result"
    }
   ],
   "source": [
    "np.arange(1,11,2)"
   ]
  },
  {
   "cell_type": "code",
   "execution_count": 152,
   "id": "cee110a2",
   "metadata": {},
   "outputs": [
    {
     "data": {
      "text/plain": [
       "array([ 0,  2,  4,  6,  8, 10])"
      ]
     },
     "execution_count": 152,
     "metadata": {},
     "output_type": "execute_result"
    }
   ],
   "source": [
    "np.arange(0,11,2)"
   ]
  },
  {
   "cell_type": "code",
   "execution_count": 64,
   "id": "b1d67415",
   "metadata": {},
   "outputs": [
    {
     "data": {
      "text/plain": [
       "array([[1., 0., 0., 0., 0., 0., 0., 0., 0., 0.],\n",
       "       [0., 1., 0., 0., 0., 0., 0., 0., 0., 0.],\n",
       "       [0., 0., 1., 0., 0., 0., 0., 0., 0., 0.],\n",
       "       [0., 0., 0., 1., 0., 0., 0., 0., 0., 0.],\n",
       "       [0., 0., 0., 0., 1., 0., 0., 0., 0., 0.],\n",
       "       [0., 0., 0., 0., 0., 1., 0., 0., 0., 0.],\n",
       "       [0., 0., 0., 0., 0., 0., 1., 0., 0., 0.],\n",
       "       [0., 0., 0., 0., 0., 0., 0., 1., 0., 0.],\n",
       "       [0., 0., 0., 0., 0., 0., 0., 0., 1., 0.],\n",
       "       [0., 0., 0., 0., 0., 0., 0., 0., 0., 1.]])"
      ]
     },
     "execution_count": 64,
     "metadata": {},
     "output_type": "execute_result"
    }
   ],
   "source": [
    "np.eye(10)"
   ]
  },
  {
   "cell_type": "code",
   "execution_count": 155,
   "id": "6cb6c7ba",
   "metadata": {},
   "outputs": [
    {
     "data": {
      "text/plain": [
       "array([[0., 0., 0., 0., 0.],\n",
       "       [0., 0., 0., 0., 0.],\n",
       "       [0., 0., 0., 0., 0.],\n",
       "       [0., 0., 0., 0., 0.],\n",
       "       [0., 0., 0., 0., 0.]])"
      ]
     },
     "execution_count": 155,
     "metadata": {},
     "output_type": "execute_result"
    }
   ],
   "source": [
    "np.zeros((5,5))"
   ]
  },
  {
   "cell_type": "code",
   "execution_count": 156,
   "id": "481ab5d2",
   "metadata": {},
   "outputs": [
    {
     "data": {
      "text/plain": [
       "array([1., 1., 1., 1., 1., 1., 1., 1., 1., 1.])"
      ]
     },
     "execution_count": 156,
     "metadata": {},
     "output_type": "execute_result"
    }
   ],
   "source": [
    "np.ones(10)"
   ]
  },
  {
   "cell_type": "code",
   "execution_count": 157,
   "id": "16b0520a",
   "metadata": {},
   "outputs": [
    {
     "data": {
      "text/plain": [
       "array([[1., 1., 1., 1.],\n",
       "       [1., 1., 1., 1.],\n",
       "       [1., 1., 1., 1.],\n",
       "       [1., 1., 1., 1.]])"
      ]
     },
     "execution_count": 157,
     "metadata": {},
     "output_type": "execute_result"
    }
   ],
   "source": [
    "np.ones((4,4))"
   ]
  },
  {
   "cell_type": "code",
   "execution_count": 159,
   "id": "1044839d",
   "metadata": {},
   "outputs": [
    {
     "data": {
      "text/plain": [
       "array([[1., 0., 0., 0., 0., 0., 0., 0., 0., 0.],\n",
       "       [0., 1., 0., 0., 0., 0., 0., 0., 0., 0.],\n",
       "       [0., 0., 1., 0., 0., 0., 0., 0., 0., 0.],\n",
       "       [0., 0., 0., 1., 0., 0., 0., 0., 0., 0.],\n",
       "       [0., 0., 0., 0., 1., 0., 0., 0., 0., 0.],\n",
       "       [0., 0., 0., 0., 0., 1., 0., 0., 0., 0.],\n",
       "       [0., 0., 0., 0., 0., 0., 1., 0., 0., 0.],\n",
       "       [0., 0., 0., 0., 0., 0., 0., 1., 0., 0.],\n",
       "       [0., 0., 0., 0., 0., 0., 0., 0., 1., 0.],\n",
       "       [0., 0., 0., 0., 0., 0., 0., 0., 0., 1.]])"
      ]
     },
     "execution_count": 159,
     "metadata": {},
     "output_type": "execute_result"
    }
   ],
   "source": [
    "np.eye(10)"
   ]
  },
  {
   "cell_type": "code",
   "execution_count": 67,
   "id": "7a91f471",
   "metadata": {},
   "outputs": [
    {
     "data": {
      "text/plain": [
       "array([ 1.        ,  1.00900901,  1.01801802,  1.02702703,  1.03603604,\n",
       "        1.04504505,  1.05405405,  1.06306306,  1.07207207,  1.08108108,\n",
       "        1.09009009,  1.0990991 ,  1.10810811,  1.11711712,  1.12612613,\n",
       "        1.13513514,  1.14414414,  1.15315315,  1.16216216,  1.17117117,\n",
       "        1.18018018,  1.18918919,  1.1981982 ,  1.20720721,  1.21621622,\n",
       "        1.22522523,  1.23423423,  1.24324324,  1.25225225,  1.26126126,\n",
       "        1.27027027,  1.27927928,  1.28828829,  1.2972973 ,  1.30630631,\n",
       "        1.31531532,  1.32432432,  1.33333333,  1.34234234,  1.35135135,\n",
       "        1.36036036,  1.36936937,  1.37837838,  1.38738739,  1.3963964 ,\n",
       "        1.40540541,  1.41441441,  1.42342342,  1.43243243,  1.44144144,\n",
       "        1.45045045,  1.45945946,  1.46846847,  1.47747748,  1.48648649,\n",
       "        1.4954955 ,  1.5045045 ,  1.51351351,  1.52252252,  1.53153153,\n",
       "        1.54054054,  1.54954955,  1.55855856,  1.56756757,  1.57657658,\n",
       "        1.58558559,  1.59459459,  1.6036036 ,  1.61261261,  1.62162162,\n",
       "        1.63063063,  1.63963964,  1.64864865,  1.65765766,  1.66666667,\n",
       "        1.67567568,  1.68468468,  1.69369369,  1.7027027 ,  1.71171171,\n",
       "        1.72072072,  1.72972973,  1.73873874,  1.74774775,  1.75675676,\n",
       "        1.76576577,  1.77477477,  1.78378378,  1.79279279,  1.8018018 ,\n",
       "        1.81081081,  1.81981982,  1.82882883,  1.83783784,  1.84684685,\n",
       "        1.85585586,  1.86486486,  1.87387387,  1.88288288,  1.89189189,\n",
       "        1.9009009 ,  1.90990991,  1.91891892,  1.92792793,  1.93693694,\n",
       "        1.94594595,  1.95495495,  1.96396396,  1.97297297,  1.98198198,\n",
       "        1.99099099,  2.        ,  2.00900901,  2.01801802,  2.02702703,\n",
       "        2.03603604,  2.04504505,  2.05405405,  2.06306306,  2.07207207,\n",
       "        2.08108108,  2.09009009,  2.0990991 ,  2.10810811,  2.11711712,\n",
       "        2.12612613,  2.13513514,  2.14414414,  2.15315315,  2.16216216,\n",
       "        2.17117117,  2.18018018,  2.18918919,  2.1981982 ,  2.20720721,\n",
       "        2.21621622,  2.22522523,  2.23423423,  2.24324324,  2.25225225,\n",
       "        2.26126126,  2.27027027,  2.27927928,  2.28828829,  2.2972973 ,\n",
       "        2.30630631,  2.31531532,  2.32432432,  2.33333333,  2.34234234,\n",
       "        2.35135135,  2.36036036,  2.36936937,  2.37837838,  2.38738739,\n",
       "        2.3963964 ,  2.40540541,  2.41441441,  2.42342342,  2.43243243,\n",
       "        2.44144144,  2.45045045,  2.45945946,  2.46846847,  2.47747748,\n",
       "        2.48648649,  2.4954955 ,  2.5045045 ,  2.51351351,  2.52252252,\n",
       "        2.53153153,  2.54054054,  2.54954955,  2.55855856,  2.56756757,\n",
       "        2.57657658,  2.58558559,  2.59459459,  2.6036036 ,  2.61261261,\n",
       "        2.62162162,  2.63063063,  2.63963964,  2.64864865,  2.65765766,\n",
       "        2.66666667,  2.67567568,  2.68468468,  2.69369369,  2.7027027 ,\n",
       "        2.71171171,  2.72072072,  2.72972973,  2.73873874,  2.74774775,\n",
       "        2.75675676,  2.76576577,  2.77477477,  2.78378378,  2.79279279,\n",
       "        2.8018018 ,  2.81081081,  2.81981982,  2.82882883,  2.83783784,\n",
       "        2.84684685,  2.85585586,  2.86486486,  2.87387387,  2.88288288,\n",
       "        2.89189189,  2.9009009 ,  2.90990991,  2.91891892,  2.92792793,\n",
       "        2.93693694,  2.94594595,  2.95495495,  2.96396396,  2.97297297,\n",
       "        2.98198198,  2.99099099,  3.        ,  3.00900901,  3.01801802,\n",
       "        3.02702703,  3.03603604,  3.04504505,  3.05405405,  3.06306306,\n",
       "        3.07207207,  3.08108108,  3.09009009,  3.0990991 ,  3.10810811,\n",
       "        3.11711712,  3.12612613,  3.13513514,  3.14414414,  3.15315315,\n",
       "        3.16216216,  3.17117117,  3.18018018,  3.18918919,  3.1981982 ,\n",
       "        3.20720721,  3.21621622,  3.22522523,  3.23423423,  3.24324324,\n",
       "        3.25225225,  3.26126126,  3.27027027,  3.27927928,  3.28828829,\n",
       "        3.2972973 ,  3.30630631,  3.31531532,  3.32432432,  3.33333333,\n",
       "        3.34234234,  3.35135135,  3.36036036,  3.36936937,  3.37837838,\n",
       "        3.38738739,  3.3963964 ,  3.40540541,  3.41441441,  3.42342342,\n",
       "        3.43243243,  3.44144144,  3.45045045,  3.45945946,  3.46846847,\n",
       "        3.47747748,  3.48648649,  3.4954955 ,  3.5045045 ,  3.51351351,\n",
       "        3.52252252,  3.53153153,  3.54054054,  3.54954955,  3.55855856,\n",
       "        3.56756757,  3.57657658,  3.58558559,  3.59459459,  3.6036036 ,\n",
       "        3.61261261,  3.62162162,  3.63063063,  3.63963964,  3.64864865,\n",
       "        3.65765766,  3.66666667,  3.67567568,  3.68468468,  3.69369369,\n",
       "        3.7027027 ,  3.71171171,  3.72072072,  3.72972973,  3.73873874,\n",
       "        3.74774775,  3.75675676,  3.76576577,  3.77477477,  3.78378378,\n",
       "        3.79279279,  3.8018018 ,  3.81081081,  3.81981982,  3.82882883,\n",
       "        3.83783784,  3.84684685,  3.85585586,  3.86486486,  3.87387387,\n",
       "        3.88288288,  3.89189189,  3.9009009 ,  3.90990991,  3.91891892,\n",
       "        3.92792793,  3.93693694,  3.94594595,  3.95495495,  3.96396396,\n",
       "        3.97297297,  3.98198198,  3.99099099,  4.        ,  4.00900901,\n",
       "        4.01801802,  4.02702703,  4.03603604,  4.04504505,  4.05405405,\n",
       "        4.06306306,  4.07207207,  4.08108108,  4.09009009,  4.0990991 ,\n",
       "        4.10810811,  4.11711712,  4.12612613,  4.13513514,  4.14414414,\n",
       "        4.15315315,  4.16216216,  4.17117117,  4.18018018,  4.18918919,\n",
       "        4.1981982 ,  4.20720721,  4.21621622,  4.22522523,  4.23423423,\n",
       "        4.24324324,  4.25225225,  4.26126126,  4.27027027,  4.27927928,\n",
       "        4.28828829,  4.2972973 ,  4.30630631,  4.31531532,  4.32432432,\n",
       "        4.33333333,  4.34234234,  4.35135135,  4.36036036,  4.36936937,\n",
       "        4.37837838,  4.38738739,  4.3963964 ,  4.40540541,  4.41441441,\n",
       "        4.42342342,  4.43243243,  4.44144144,  4.45045045,  4.45945946,\n",
       "        4.46846847,  4.47747748,  4.48648649,  4.4954955 ,  4.5045045 ,\n",
       "        4.51351351,  4.52252252,  4.53153153,  4.54054054,  4.54954955,\n",
       "        4.55855856,  4.56756757,  4.57657658,  4.58558559,  4.59459459,\n",
       "        4.6036036 ,  4.61261261,  4.62162162,  4.63063063,  4.63963964,\n",
       "        4.64864865,  4.65765766,  4.66666667,  4.67567568,  4.68468468,\n",
       "        4.69369369,  4.7027027 ,  4.71171171,  4.72072072,  4.72972973,\n",
       "        4.73873874,  4.74774775,  4.75675676,  4.76576577,  4.77477477,\n",
       "        4.78378378,  4.79279279,  4.8018018 ,  4.81081081,  4.81981982,\n",
       "        4.82882883,  4.83783784,  4.84684685,  4.85585586,  4.86486486,\n",
       "        4.87387387,  4.88288288,  4.89189189,  4.9009009 ,  4.90990991,\n",
       "        4.91891892,  4.92792793,  4.93693694,  4.94594595,  4.95495495,\n",
       "        4.96396396,  4.97297297,  4.98198198,  4.99099099,  5.        ,\n",
       "        5.00900901,  5.01801802,  5.02702703,  5.03603604,  5.04504505,\n",
       "        5.05405405,  5.06306306,  5.07207207,  5.08108108,  5.09009009,\n",
       "        5.0990991 ,  5.10810811,  5.11711712,  5.12612613,  5.13513514,\n",
       "        5.14414414,  5.15315315,  5.16216216,  5.17117117,  5.18018018,\n",
       "        5.18918919,  5.1981982 ,  5.20720721,  5.21621622,  5.22522523,\n",
       "        5.23423423,  5.24324324,  5.25225225,  5.26126126,  5.27027027,\n",
       "        5.27927928,  5.28828829,  5.2972973 ,  5.30630631,  5.31531532,\n",
       "        5.32432432,  5.33333333,  5.34234234,  5.35135135,  5.36036036,\n",
       "        5.36936937,  5.37837838,  5.38738739,  5.3963964 ,  5.40540541,\n",
       "        5.41441441,  5.42342342,  5.43243243,  5.44144144,  5.45045045,\n",
       "        5.45945946,  5.46846847,  5.47747748,  5.48648649,  5.4954955 ,\n",
       "        5.5045045 ,  5.51351351,  5.52252252,  5.53153153,  5.54054054,\n",
       "        5.54954955,  5.55855856,  5.56756757,  5.57657658,  5.58558559,\n",
       "        5.59459459,  5.6036036 ,  5.61261261,  5.62162162,  5.63063063,\n",
       "        5.63963964,  5.64864865,  5.65765766,  5.66666667,  5.67567568,\n",
       "        5.68468468,  5.69369369,  5.7027027 ,  5.71171171,  5.72072072,\n",
       "        5.72972973,  5.73873874,  5.74774775,  5.75675676,  5.76576577,\n",
       "        5.77477477,  5.78378378,  5.79279279,  5.8018018 ,  5.81081081,\n",
       "        5.81981982,  5.82882883,  5.83783784,  5.84684685,  5.85585586,\n",
       "        5.86486486,  5.87387387,  5.88288288,  5.89189189,  5.9009009 ,\n",
       "        5.90990991,  5.91891892,  5.92792793,  5.93693694,  5.94594595,\n",
       "        5.95495495,  5.96396396,  5.97297297,  5.98198198,  5.99099099,\n",
       "        6.        ,  6.00900901,  6.01801802,  6.02702703,  6.03603604,\n",
       "        6.04504505,  6.05405405,  6.06306306,  6.07207207,  6.08108108,\n",
       "        6.09009009,  6.0990991 ,  6.10810811,  6.11711712,  6.12612613,\n",
       "        6.13513514,  6.14414414,  6.15315315,  6.16216216,  6.17117117,\n",
       "        6.18018018,  6.18918919,  6.1981982 ,  6.20720721,  6.21621622,\n",
       "        6.22522523,  6.23423423,  6.24324324,  6.25225225,  6.26126126,\n",
       "        6.27027027,  6.27927928,  6.28828829,  6.2972973 ,  6.30630631,\n",
       "        6.31531532,  6.32432432,  6.33333333,  6.34234234,  6.35135135,\n",
       "        6.36036036,  6.36936937,  6.37837838,  6.38738739,  6.3963964 ,\n",
       "        6.40540541,  6.41441441,  6.42342342,  6.43243243,  6.44144144,\n",
       "        6.45045045,  6.45945946,  6.46846847,  6.47747748,  6.48648649,\n",
       "        6.4954955 ,  6.5045045 ,  6.51351351,  6.52252252,  6.53153153,\n",
       "        6.54054054,  6.54954955,  6.55855856,  6.56756757,  6.57657658,\n",
       "        6.58558559,  6.59459459,  6.6036036 ,  6.61261261,  6.62162162,\n",
       "        6.63063063,  6.63963964,  6.64864865,  6.65765766,  6.66666667,\n",
       "        6.67567568,  6.68468468,  6.69369369,  6.7027027 ,  6.71171171,\n",
       "        6.72072072,  6.72972973,  6.73873874,  6.74774775,  6.75675676,\n",
       "        6.76576577,  6.77477477,  6.78378378,  6.79279279,  6.8018018 ,\n",
       "        6.81081081,  6.81981982,  6.82882883,  6.83783784,  6.84684685,\n",
       "        6.85585586,  6.86486486,  6.87387387,  6.88288288,  6.89189189,\n",
       "        6.9009009 ,  6.90990991,  6.91891892,  6.92792793,  6.93693694,\n",
       "        6.94594595,  6.95495495,  6.96396396,  6.97297297,  6.98198198,\n",
       "        6.99099099,  7.        ,  7.00900901,  7.01801802,  7.02702703,\n",
       "        7.03603604,  7.04504505,  7.05405405,  7.06306306,  7.07207207,\n",
       "        7.08108108,  7.09009009,  7.0990991 ,  7.10810811,  7.11711712,\n",
       "        7.12612613,  7.13513514,  7.14414414,  7.15315315,  7.16216216,\n",
       "        7.17117117,  7.18018018,  7.18918919,  7.1981982 ,  7.20720721,\n",
       "        7.21621622,  7.22522523,  7.23423423,  7.24324324,  7.25225225,\n",
       "        7.26126126,  7.27027027,  7.27927928,  7.28828829,  7.2972973 ,\n",
       "        7.30630631,  7.31531532,  7.32432432,  7.33333333,  7.34234234,\n",
       "        7.35135135,  7.36036036,  7.36936937,  7.37837838,  7.38738739,\n",
       "        7.3963964 ,  7.40540541,  7.41441441,  7.42342342,  7.43243243,\n",
       "        7.44144144,  7.45045045,  7.45945946,  7.46846847,  7.47747748,\n",
       "        7.48648649,  7.4954955 ,  7.5045045 ,  7.51351351,  7.52252252,\n",
       "        7.53153153,  7.54054054,  7.54954955,  7.55855856,  7.56756757,\n",
       "        7.57657658,  7.58558559,  7.59459459,  7.6036036 ,  7.61261261,\n",
       "        7.62162162,  7.63063063,  7.63963964,  7.64864865,  7.65765766,\n",
       "        7.66666667,  7.67567568,  7.68468468,  7.69369369,  7.7027027 ,\n",
       "        7.71171171,  7.72072072,  7.72972973,  7.73873874,  7.74774775,\n",
       "        7.75675676,  7.76576577,  7.77477477,  7.78378378,  7.79279279,\n",
       "        7.8018018 ,  7.81081081,  7.81981982,  7.82882883,  7.83783784,\n",
       "        7.84684685,  7.85585586,  7.86486486,  7.87387387,  7.88288288,\n",
       "        7.89189189,  7.9009009 ,  7.90990991,  7.91891892,  7.92792793,\n",
       "        7.93693694,  7.94594595,  7.95495495,  7.96396396,  7.97297297,\n",
       "        7.98198198,  7.99099099,  8.        ,  8.00900901,  8.01801802,\n",
       "        8.02702703,  8.03603604,  8.04504505,  8.05405405,  8.06306306,\n",
       "        8.07207207,  8.08108108,  8.09009009,  8.0990991 ,  8.10810811,\n",
       "        8.11711712,  8.12612613,  8.13513514,  8.14414414,  8.15315315,\n",
       "        8.16216216,  8.17117117,  8.18018018,  8.18918919,  8.1981982 ,\n",
       "        8.20720721,  8.21621622,  8.22522523,  8.23423423,  8.24324324,\n",
       "        8.25225225,  8.26126126,  8.27027027,  8.27927928,  8.28828829,\n",
       "        8.2972973 ,  8.30630631,  8.31531532,  8.32432432,  8.33333333,\n",
       "        8.34234234,  8.35135135,  8.36036036,  8.36936937,  8.37837838,\n",
       "        8.38738739,  8.3963964 ,  8.40540541,  8.41441441,  8.42342342,\n",
       "        8.43243243,  8.44144144,  8.45045045,  8.45945946,  8.46846847,\n",
       "        8.47747748,  8.48648649,  8.4954955 ,  8.5045045 ,  8.51351351,\n",
       "        8.52252252,  8.53153153,  8.54054054,  8.54954955,  8.55855856,\n",
       "        8.56756757,  8.57657658,  8.58558559,  8.59459459,  8.6036036 ,\n",
       "        8.61261261,  8.62162162,  8.63063063,  8.63963964,  8.64864865,\n",
       "        8.65765766,  8.66666667,  8.67567568,  8.68468468,  8.69369369,\n",
       "        8.7027027 ,  8.71171171,  8.72072072,  8.72972973,  8.73873874,\n",
       "        8.74774775,  8.75675676,  8.76576577,  8.77477477,  8.78378378,\n",
       "        8.79279279,  8.8018018 ,  8.81081081,  8.81981982,  8.82882883,\n",
       "        8.83783784,  8.84684685,  8.85585586,  8.86486486,  8.87387387,\n",
       "        8.88288288,  8.89189189,  8.9009009 ,  8.90990991,  8.91891892,\n",
       "        8.92792793,  8.93693694,  8.94594595,  8.95495495,  8.96396396,\n",
       "        8.97297297,  8.98198198,  8.99099099,  9.        ,  9.00900901,\n",
       "        9.01801802,  9.02702703,  9.03603604,  9.04504505,  9.05405405,\n",
       "        9.06306306,  9.07207207,  9.08108108,  9.09009009,  9.0990991 ,\n",
       "        9.10810811,  9.11711712,  9.12612613,  9.13513514,  9.14414414,\n",
       "        9.15315315,  9.16216216,  9.17117117,  9.18018018,  9.18918919,\n",
       "        9.1981982 ,  9.20720721,  9.21621622,  9.22522523,  9.23423423,\n",
       "        9.24324324,  9.25225225,  9.26126126,  9.27027027,  9.27927928,\n",
       "        9.28828829,  9.2972973 ,  9.30630631,  9.31531532,  9.32432432,\n",
       "        9.33333333,  9.34234234,  9.35135135,  9.36036036,  9.36936937,\n",
       "        9.37837838,  9.38738739,  9.3963964 ,  9.40540541,  9.41441441,\n",
       "        9.42342342,  9.43243243,  9.44144144,  9.45045045,  9.45945946,\n",
       "        9.46846847,  9.47747748,  9.48648649,  9.4954955 ,  9.5045045 ,\n",
       "        9.51351351,  9.52252252,  9.53153153,  9.54054054,  9.54954955,\n",
       "        9.55855856,  9.56756757,  9.57657658,  9.58558559,  9.59459459,\n",
       "        9.6036036 ,  9.61261261,  9.62162162,  9.63063063,  9.63963964,\n",
       "        9.64864865,  9.65765766,  9.66666667,  9.67567568,  9.68468468,\n",
       "        9.69369369,  9.7027027 ,  9.71171171,  9.72072072,  9.72972973,\n",
       "        9.73873874,  9.74774775,  9.75675676,  9.76576577,  9.77477477,\n",
       "        9.78378378,  9.79279279,  9.8018018 ,  9.81081081,  9.81981982,\n",
       "        9.82882883,  9.83783784,  9.84684685,  9.85585586,  9.86486486,\n",
       "        9.87387387,  9.88288288,  9.89189189,  9.9009009 ,  9.90990991,\n",
       "        9.91891892,  9.92792793,  9.93693694,  9.94594595,  9.95495495,\n",
       "        9.96396396,  9.97297297,  9.98198198,  9.99099099, 10.        ])"
      ]
     },
     "execution_count": 67,
     "metadata": {},
     "output_type": "execute_result"
    }
   ],
   "source": [
    "#generates a array of evevenly spaced values between start and stop and how many values we want\n",
    "#np.linspace(start,stop,num_of_values)\n",
    "np.linspace(1,10,1000)"
   ]
  },
  {
   "cell_type": "code",
   "execution_count": 168,
   "id": "4fc00668",
   "metadata": {},
   "outputs": [
    {
     "data": {
      "text/plain": [
       "array([ 1.        ,  1.47368421,  1.94736842,  2.42105263,  2.89473684,\n",
       "        3.36842105,  3.84210526,  4.31578947,  4.78947368,  5.26315789,\n",
       "        5.73684211,  6.21052632,  6.68421053,  7.15789474,  7.63157895,\n",
       "        8.10526316,  8.57894737,  9.05263158,  9.52631579, 10.        ])"
      ]
     },
     "execution_count": 168,
     "metadata": {},
     "output_type": "execute_result"
    }
   ],
   "source": [
    "np.linspace(1,10,20)"
   ]
  },
  {
   "cell_type": "code",
   "execution_count": 72,
   "id": "d03cad21",
   "metadata": {},
   "outputs": [
    {
     "data": {
      "text/plain": [
       "array([[ 1.55184955,  1.25144362,  0.63822228,  2.63950329],\n",
       "       [-2.40674321, -1.37520998, -0.17573735, -0.6212126 ],\n",
       "       [ 0.68740406,  0.52006774,  0.27179165,  1.64134991]])"
      ]
     },
     "execution_count": 72,
     "metadata": {},
     "output_type": "execute_result"
    }
   ],
   "source": [
    "np.random.randn(3,4)"
   ]
  },
  {
   "cell_type": "code",
   "execution_count": 71,
   "id": "11a54732",
   "metadata": {},
   "outputs": [
    {
     "data": {
      "text/plain": [
       "array([4, 5, 6, 4, 9])"
      ]
     },
     "execution_count": 71,
     "metadata": {},
     "output_type": "execute_result"
    }
   ],
   "source": [
    "np.random.randint(1,10,5)"
   ]
  },
  {
   "cell_type": "code",
   "execution_count": 73,
   "id": "5be725e5",
   "metadata": {},
   "outputs": [],
   "source": [
    "arr =np.arange(25)"
   ]
  },
  {
   "cell_type": "code",
   "execution_count": 74,
   "id": "38d6a4a8",
   "metadata": {},
   "outputs": [
    {
     "data": {
      "text/plain": [
       "array([ 0,  1,  2,  3,  4,  5,  6,  7,  8,  9, 10, 11, 12, 13, 14, 15, 16,\n",
       "       17, 18, 19, 20, 21, 22, 23, 24])"
      ]
     },
     "execution_count": 74,
     "metadata": {},
     "output_type": "execute_result"
    }
   ],
   "source": [
    "arr"
   ]
  },
  {
   "cell_type": "code",
   "execution_count": 77,
   "id": "169e5148",
   "metadata": {},
   "outputs": [
    {
     "data": {
      "text/plain": [
       "array([[ 0,  1,  2,  3,  4],\n",
       "       [ 5,  6,  7,  8,  9],\n",
       "       [10, 11, 12, 13, 14],\n",
       "       [15, 16, 17, 18, 19],\n",
       "       [20, 21, 22, 23, 24]])"
      ]
     },
     "execution_count": 77,
     "metadata": {},
     "output_type": "execute_result"
    }
   ],
   "source": [
    "arr.reshape(5,5)"
   ]
  },
  {
   "cell_type": "code",
   "execution_count": 78,
   "id": "e51a4178",
   "metadata": {},
   "outputs": [
    {
     "data": {
      "text/plain": [
       "24"
      ]
     },
     "execution_count": 78,
     "metadata": {},
     "output_type": "execute_result"
    }
   ],
   "source": [
    "max(arr)"
   ]
  },
  {
   "cell_type": "code",
   "execution_count": 176,
   "id": "bd9ba136",
   "metadata": {},
   "outputs": [
    {
     "data": {
      "text/plain": [
       "0"
      ]
     },
     "execution_count": 176,
     "metadata": {},
     "output_type": "execute_result"
    }
   ],
   "source": [
    "arr.min()"
   ]
  },
  {
   "cell_type": "code",
   "execution_count": 177,
   "id": "483a85ff",
   "metadata": {},
   "outputs": [
    {
     "data": {
      "text/plain": [
       "300"
      ]
     },
     "execution_count": 177,
     "metadata": {},
     "output_type": "execute_result"
    }
   ],
   "source": [
    "arr.sum()"
   ]
  },
  {
   "cell_type": "code",
   "execution_count": 178,
   "id": "df3cd443",
   "metadata": {},
   "outputs": [
    {
     "data": {
      "text/plain": [
       "12.0"
      ]
     },
     "execution_count": 178,
     "metadata": {},
     "output_type": "execute_result"
    }
   ],
   "source": [
    "arr.mean()"
   ]
  },
  {
   "cell_type": "code",
   "execution_count": 179,
   "id": "7ed4d959",
   "metadata": {},
   "outputs": [
    {
     "data": {
      "text/plain": [
       "7.211102550927978"
      ]
     },
     "execution_count": 179,
     "metadata": {},
     "output_type": "execute_result"
    }
   ],
   "source": [
    "arr.std()\n"
   ]
  },
  {
   "cell_type": "code",
   "execution_count": 87,
   "id": "8eb0d0a7",
   "metadata": {},
   "outputs": [],
   "source": [
    "arr=np.arange(25)"
   ]
  },
  {
   "cell_type": "code",
   "execution_count": 83,
   "id": "9cc5d6a6",
   "metadata": {},
   "outputs": [],
   "source": [
    "arr =np.array([100,10,20])"
   ]
  },
  {
   "cell_type": "code",
   "execution_count": 88,
   "id": "dfb7c2d0",
   "metadata": {},
   "outputs": [
    {
     "data": {
      "text/plain": [
       "array([ 0,  1,  2,  3,  4,  5,  6,  7,  8,  9, 10, 11, 12, 13, 14, 15, 16,\n",
       "       17, 18, 19, 20, 21, 22, 23, 24])"
      ]
     },
     "execution_count": 88,
     "metadata": {},
     "output_type": "execute_result"
    }
   ],
   "source": [
    "arr"
   ]
  },
  {
   "cell_type": "code",
   "execution_count": 89,
   "id": "991c4e4c",
   "metadata": {},
   "outputs": [
    {
     "data": {
      "text/plain": [
       "(array([11, 12, 13, 14, 15, 16, 17, 18, 19, 20, 21, 22, 23, 24],\n",
       "       dtype=int64),)"
      ]
     },
     "execution_count": 89,
     "metadata": {},
     "output_type": "execute_result"
    }
   ],
   "source": [
    "np.where( arr >10)"
   ]
  },
  {
   "cell_type": "code",
   "execution_count": 90,
   "id": "00bbe1f8",
   "metadata": {},
   "outputs": [
    {
     "data": {
      "text/plain": [
       "(array([ 0,  2,  4,  6,  8, 10, 12, 14, 16, 18, 20, 22, 24], dtype=int64),)"
      ]
     },
     "execution_count": 90,
     "metadata": {},
     "output_type": "execute_result"
    }
   ],
   "source": [
    "np.where( arr%2==0)"
   ]
  },
  {
   "cell_type": "code",
   "execution_count": 184,
   "id": "6a95c4c2",
   "metadata": {},
   "outputs": [
    {
     "data": {
      "text/plain": [
       "array([ 0,  1,  2,  3,  4,  5,  6,  7,  8,  9, 10, 11, 12, 13, 14, 15, 16,\n",
       "       17, 18, 19, 20, 21, 22, 23, 24])"
      ]
     },
     "execution_count": 184,
     "metadata": {},
     "output_type": "execute_result"
    }
   ],
   "source": [
    "arr"
   ]
  },
  {
   "cell_type": "code",
   "execution_count": 186,
   "id": "407cef57",
   "metadata": {},
   "outputs": [
    {
     "data": {
      "text/plain": [
       "(25,)"
      ]
     },
     "execution_count": 186,
     "metadata": {},
     "output_type": "execute_result"
    }
   ],
   "source": [
    "arr.shape"
   ]
  },
  {
   "cell_type": "code",
   "execution_count": 188,
   "id": "f638318f",
   "metadata": {},
   "outputs": [],
   "source": [
    "arr1=arr.reshape(5,5)"
   ]
  },
  {
   "cell_type": "code",
   "execution_count": 190,
   "id": "d7790336",
   "metadata": {},
   "outputs": [
    {
     "data": {
      "text/plain": [
       "(5, 5)"
      ]
     },
     "execution_count": 190,
     "metadata": {},
     "output_type": "execute_result"
    }
   ],
   "source": [
    "arr1.shape"
   ]
  },
  {
   "cell_type": "code",
   "execution_count": 91,
   "id": "2f4b80ed",
   "metadata": {},
   "outputs": [],
   "source": [
    "arr1=np.array_split(arr,5)"
   ]
  },
  {
   "cell_type": "code",
   "execution_count": 194,
   "id": "936056f4",
   "metadata": {},
   "outputs": [
    {
     "data": {
      "text/plain": [
       "[array([0, 1, 2, 3, 4]),\n",
       " array([5, 6, 7, 8, 9]),\n",
       " array([10, 11, 12, 13, 14]),\n",
       " array([15, 16, 17, 18, 19]),\n",
       " array([20, 21, 22, 23, 24])]"
      ]
     },
     "execution_count": 194,
     "metadata": {},
     "output_type": "execute_result"
    }
   ],
   "source": [
    "arr1"
   ]
  },
  {
   "cell_type": "code",
   "execution_count": 92,
   "id": "8d1ab28c",
   "metadata": {},
   "outputs": [],
   "source": [
    "arr =np.arange(10)"
   ]
  },
  {
   "cell_type": "code",
   "execution_count": 93,
   "id": "487bb83c",
   "metadata": {},
   "outputs": [],
   "source": [
    "filter_arr =[]"
   ]
  },
  {
   "cell_type": "code",
   "execution_count": 94,
   "id": "dc12e41c",
   "metadata": {},
   "outputs": [],
   "source": [
    "for i in arr:\n",
    "    if i%2==0:\n",
    "        filter_arr.append(True)\n",
    "    else:\n",
    "        filter_arr.append(False)\n",
    "arr1=arr[filter_arr]"
   ]
  },
  {
   "cell_type": "code",
   "execution_count": 96,
   "id": "6f778c24",
   "metadata": {},
   "outputs": [
    {
     "data": {
      "text/plain": [
       "[True, False, True, False, True, False, True, False, True, False]"
      ]
     },
     "execution_count": 96,
     "metadata": {},
     "output_type": "execute_result"
    }
   ],
   "source": [
    "filter_arr"
   ]
  },
  {
   "cell_type": "code",
   "execution_count": 199,
   "id": "c051adf9",
   "metadata": {},
   "outputs": [],
   "source": [
    "#Pandas is high level data manipulation tool developed by wes McKinne\n",
    "# It is built in top of Numpy Package\n",
    "#pandas is an open source project that is most widly used for data scince\n",
    "#pandas key data structure are series and data frames\n",
    "#data frame allow you to store and manipulate data in rows and columns"
   ]
  },
  {
   "cell_type": "code",
   "execution_count": 200,
   "id": "8fbce73c",
   "metadata": {},
   "outputs": [],
   "source": [
    "#What we can do with data frames\n",
    "#data cleaning\n",
    "#data fill\n",
    "#merges and joins\n",
    "#data visualization\n",
    "#Data inspection\n",
    "#Loading and saving data\n"
   ]
  },
  {
   "cell_type": "code",
   "execution_count": 1,
   "id": "2467eee8",
   "metadata": {},
   "outputs": [],
   "source": [
    "import pandas as pd"
   ]
  },
  {
   "cell_type": "code",
   "execution_count": 100,
   "id": "8c4fd832",
   "metadata": {},
   "outputs": [],
   "source": [
    "lbl=['a','b','c']"
   ]
  },
  {
   "cell_type": "code",
   "execution_count": 101,
   "id": "d7e872cf",
   "metadata": {},
   "outputs": [],
   "source": [
    "lst=[10,20,30]"
   ]
  },
  {
   "cell_type": "code",
   "execution_count": 102,
   "id": "ea999031",
   "metadata": {},
   "outputs": [],
   "source": [
    "s1=pd.Series(lst,lbl)"
   ]
  },
  {
   "cell_type": "code",
   "execution_count": 105,
   "id": "d1280764",
   "metadata": {},
   "outputs": [
    {
     "data": {
      "text/plain": [
       "10"
      ]
     },
     "execution_count": 105,
     "metadata": {},
     "output_type": "execute_result"
    }
   ],
   "source": [
    "s1['a']"
   ]
  },
  {
   "cell_type": "code",
   "execution_count": 208,
   "id": "0eaf6db9",
   "metadata": {},
   "outputs": [
    {
     "data": {
      "text/plain": [
       "10"
      ]
     },
     "execution_count": 208,
     "metadata": {},
     "output_type": "execute_result"
    }
   ],
   "source": [
    "s1['a']"
   ]
  },
  {
   "cell_type": "code",
   "execution_count": 209,
   "id": "5c76b8e7",
   "metadata": {},
   "outputs": [
    {
     "data": {
      "text/plain": [
       "20"
      ]
     },
     "execution_count": 209,
     "metadata": {},
     "output_type": "execute_result"
    }
   ],
   "source": [
    "s1['b']"
   ]
  },
  {
   "cell_type": "code",
   "execution_count": 210,
   "id": "af59ff28",
   "metadata": {},
   "outputs": [],
   "source": [
    "arr =np.array([10,20,30])"
   ]
  },
  {
   "cell_type": "code",
   "execution_count": 211,
   "id": "9d716d34",
   "metadata": {},
   "outputs": [],
   "source": [
    "s1=pd.Series(arr,lbl)"
   ]
  },
  {
   "cell_type": "code",
   "execution_count": 212,
   "id": "bd749538",
   "metadata": {},
   "outputs": [
    {
     "data": {
      "text/plain": [
       "a    10\n",
       "b    20\n",
       "c    30\n",
       "dtype: int32"
      ]
     },
     "execution_count": 212,
     "metadata": {},
     "output_type": "execute_result"
    }
   ],
   "source": [
    "s1"
   ]
  },
  {
   "cell_type": "code",
   "execution_count": 108,
   "id": "0704b536",
   "metadata": {},
   "outputs": [],
   "source": [
    "dis ={'a':10,'b':20,'c':30,'d':40}"
   ]
  },
  {
   "cell_type": "code",
   "execution_count": 109,
   "id": "9447acb0",
   "metadata": {},
   "outputs": [],
   "source": [
    "s1 =pd.Series(dis)"
   ]
  },
  {
   "cell_type": "code",
   "execution_count": 110,
   "id": "eef8057b",
   "metadata": {},
   "outputs": [
    {
     "data": {
      "text/plain": [
       "a    10\n",
       "b    20\n",
       "c    30\n",
       "d    40\n",
       "dtype: int64"
      ]
     },
     "execution_count": 110,
     "metadata": {},
     "output_type": "execute_result"
    }
   ],
   "source": [
    "s1"
   ]
  },
  {
   "cell_type": "code",
   "execution_count": 112,
   "id": "8d0e11b3",
   "metadata": {},
   "outputs": [],
   "source": [
    "from numpy.random import randn"
   ]
  },
  {
   "cell_type": "code",
   "execution_count": null,
   "id": "33b266d7",
   "metadata": {},
   "outputs": [],
   "source": [
    "numpy.random.randn()"
   ]
  },
  {
   "cell_type": "code",
   "execution_count": 113,
   "id": "94bec9ce",
   "metadata": {},
   "outputs": [],
   "source": [
    "df =pd.DataFrame(randn(5,4),['A','B','C','D','E'],['W','X','Y','Z'])"
   ]
  },
  {
   "cell_type": "code",
   "execution_count": 115,
   "id": "b913eaf8",
   "metadata": {},
   "outputs": [
    {
     "data": {
      "text/html": [
       "<div>\n",
       "<style scoped>\n",
       "    .dataframe tbody tr th:only-of-type {\n",
       "        vertical-align: middle;\n",
       "    }\n",
       "\n",
       "    .dataframe tbody tr th {\n",
       "        vertical-align: top;\n",
       "    }\n",
       "\n",
       "    .dataframe thead th {\n",
       "        text-align: right;\n",
       "    }\n",
       "</style>\n",
       "<table border=\"1\" class=\"dataframe\">\n",
       "  <thead>\n",
       "    <tr style=\"text-align: right;\">\n",
       "      <th></th>\n",
       "      <th>W</th>\n",
       "      <th>X</th>\n",
       "      <th>Y</th>\n",
       "      <th>Z</th>\n",
       "    </tr>\n",
       "  </thead>\n",
       "  <tbody>\n",
       "    <tr>\n",
       "      <th>A</th>\n",
       "      <td>0.735870</td>\n",
       "      <td>-0.830178</td>\n",
       "      <td>0.540197</td>\n",
       "      <td>-0.842993</td>\n",
       "    </tr>\n",
       "    <tr>\n",
       "      <th>B</th>\n",
       "      <td>-1.676057</td>\n",
       "      <td>1.897047</td>\n",
       "      <td>0.508693</td>\n",
       "      <td>-0.328689</td>\n",
       "    </tr>\n",
       "    <tr>\n",
       "      <th>C</th>\n",
       "      <td>0.998020</td>\n",
       "      <td>0.465365</td>\n",
       "      <td>-0.155210</td>\n",
       "      <td>0.897168</td>\n",
       "    </tr>\n",
       "    <tr>\n",
       "      <th>D</th>\n",
       "      <td>1.520577</td>\n",
       "      <td>1.394052</td>\n",
       "      <td>-1.320307</td>\n",
       "      <td>-1.825957</td>\n",
       "    </tr>\n",
       "    <tr>\n",
       "      <th>E</th>\n",
       "      <td>-0.761532</td>\n",
       "      <td>1.687372</td>\n",
       "      <td>-1.568219</td>\n",
       "      <td>1.267506</td>\n",
       "    </tr>\n",
       "  </tbody>\n",
       "</table>\n",
       "</div>"
      ],
      "text/plain": [
       "          W         X         Y         Z\n",
       "A  0.735870 -0.830178  0.540197 -0.842993\n",
       "B -1.676057  1.897047  0.508693 -0.328689\n",
       "C  0.998020  0.465365 -0.155210  0.897168\n",
       "D  1.520577  1.394052 -1.320307 -1.825957\n",
       "E -0.761532  1.687372 -1.568219  1.267506"
      ]
     },
     "execution_count": 115,
     "metadata": {},
     "output_type": "execute_result"
    }
   ],
   "source": [
    "df"
   ]
  },
  {
   "cell_type": "code",
   "execution_count": 118,
   "id": "f3f366c5",
   "metadata": {},
   "outputs": [
    {
     "data": {
      "text/plain": [
       "pandas.core.series.Series"
      ]
     },
     "execution_count": 118,
     "metadata": {},
     "output_type": "execute_result"
    }
   ],
   "source": [
    "type(df[['W'])"
   ]
  },
  {
   "cell_type": "code",
   "execution_count": 129,
   "id": "f7d6ca8f",
   "metadata": {},
   "outputs": [],
   "source": [
    "df['new']=df['W']+df['Z']"
   ]
  },
  {
   "cell_type": "code",
   "execution_count": 130,
   "id": "909bf1f2",
   "metadata": {},
   "outputs": [
    {
     "data": {
      "text/html": [
       "<div>\n",
       "<style scoped>\n",
       "    .dataframe tbody tr th:only-of-type {\n",
       "        vertical-align: middle;\n",
       "    }\n",
       "\n",
       "    .dataframe tbody tr th {\n",
       "        vertical-align: top;\n",
       "    }\n",
       "\n",
       "    .dataframe thead th {\n",
       "        text-align: right;\n",
       "    }\n",
       "</style>\n",
       "<table border=\"1\" class=\"dataframe\">\n",
       "  <thead>\n",
       "    <tr style=\"text-align: right;\">\n",
       "      <th></th>\n",
       "      <th>W</th>\n",
       "      <th>X</th>\n",
       "      <th>Y</th>\n",
       "      <th>Z</th>\n",
       "      <th>new</th>\n",
       "    </tr>\n",
       "  </thead>\n",
       "  <tbody>\n",
       "    <tr>\n",
       "      <th>A</th>\n",
       "      <td>0.735870</td>\n",
       "      <td>-0.830178</td>\n",
       "      <td>0.540197</td>\n",
       "      <td>-0.842993</td>\n",
       "      <td>-0.107123</td>\n",
       "    </tr>\n",
       "    <tr>\n",
       "      <th>B</th>\n",
       "      <td>-1.676057</td>\n",
       "      <td>1.897047</td>\n",
       "      <td>0.508693</td>\n",
       "      <td>-0.328689</td>\n",
       "      <td>-2.004746</td>\n",
       "    </tr>\n",
       "    <tr>\n",
       "      <th>C</th>\n",
       "      <td>0.998020</td>\n",
       "      <td>0.465365</td>\n",
       "      <td>-0.155210</td>\n",
       "      <td>0.897168</td>\n",
       "      <td>1.895189</td>\n",
       "    </tr>\n",
       "    <tr>\n",
       "      <th>D</th>\n",
       "      <td>1.520577</td>\n",
       "      <td>1.394052</td>\n",
       "      <td>-1.320307</td>\n",
       "      <td>-1.825957</td>\n",
       "      <td>-0.305381</td>\n",
       "    </tr>\n",
       "    <tr>\n",
       "      <th>E</th>\n",
       "      <td>-0.761532</td>\n",
       "      <td>1.687372</td>\n",
       "      <td>-1.568219</td>\n",
       "      <td>1.267506</td>\n",
       "      <td>0.505974</td>\n",
       "    </tr>\n",
       "  </tbody>\n",
       "</table>\n",
       "</div>"
      ],
      "text/plain": [
       "          W         X         Y         Z       new\n",
       "A  0.735870 -0.830178  0.540197 -0.842993 -0.107123\n",
       "B -1.676057  1.897047  0.508693 -0.328689 -2.004746\n",
       "C  0.998020  0.465365 -0.155210  0.897168  1.895189\n",
       "D  1.520577  1.394052 -1.320307 -1.825957 -0.305381\n",
       "E -0.761532  1.687372 -1.568219  1.267506  0.505974"
      ]
     },
     "execution_count": 130,
     "metadata": {},
     "output_type": "execute_result"
    }
   ],
   "source": [
    "df"
   ]
  },
  {
   "cell_type": "code",
   "execution_count": 134,
   "id": "2a21a635",
   "metadata": {},
   "outputs": [],
   "source": [
    "df.drop('new',axis=1,inplace=True)"
   ]
  },
  {
   "cell_type": "code",
   "execution_count": 135,
   "id": "17b607d8",
   "metadata": {},
   "outputs": [
    {
     "data": {
      "text/html": [
       "<div>\n",
       "<style scoped>\n",
       "    .dataframe tbody tr th:only-of-type {\n",
       "        vertical-align: middle;\n",
       "    }\n",
       "\n",
       "    .dataframe tbody tr th {\n",
       "        vertical-align: top;\n",
       "    }\n",
       "\n",
       "    .dataframe thead th {\n",
       "        text-align: right;\n",
       "    }\n",
       "</style>\n",
       "<table border=\"1\" class=\"dataframe\">\n",
       "  <thead>\n",
       "    <tr style=\"text-align: right;\">\n",
       "      <th></th>\n",
       "      <th>W</th>\n",
       "      <th>X</th>\n",
       "      <th>Y</th>\n",
       "      <th>Z</th>\n",
       "    </tr>\n",
       "  </thead>\n",
       "  <tbody>\n",
       "    <tr>\n",
       "      <th>A</th>\n",
       "      <td>0.735870</td>\n",
       "      <td>-0.830178</td>\n",
       "      <td>0.540197</td>\n",
       "      <td>-0.842993</td>\n",
       "    </tr>\n",
       "    <tr>\n",
       "      <th>B</th>\n",
       "      <td>-1.676057</td>\n",
       "      <td>1.897047</td>\n",
       "      <td>0.508693</td>\n",
       "      <td>-0.328689</td>\n",
       "    </tr>\n",
       "    <tr>\n",
       "      <th>C</th>\n",
       "      <td>0.998020</td>\n",
       "      <td>0.465365</td>\n",
       "      <td>-0.155210</td>\n",
       "      <td>0.897168</td>\n",
       "    </tr>\n",
       "    <tr>\n",
       "      <th>D</th>\n",
       "      <td>1.520577</td>\n",
       "      <td>1.394052</td>\n",
       "      <td>-1.320307</td>\n",
       "      <td>-1.825957</td>\n",
       "    </tr>\n",
       "    <tr>\n",
       "      <th>E</th>\n",
       "      <td>-0.761532</td>\n",
       "      <td>1.687372</td>\n",
       "      <td>-1.568219</td>\n",
       "      <td>1.267506</td>\n",
       "    </tr>\n",
       "  </tbody>\n",
       "</table>\n",
       "</div>"
      ],
      "text/plain": [
       "          W         X         Y         Z\n",
       "A  0.735870 -0.830178  0.540197 -0.842993\n",
       "B -1.676057  1.897047  0.508693 -0.328689\n",
       "C  0.998020  0.465365 -0.155210  0.897168\n",
       "D  1.520577  1.394052 -1.320307 -1.825957\n",
       "E -0.761532  1.687372 -1.568219  1.267506"
      ]
     },
     "execution_count": 135,
     "metadata": {},
     "output_type": "execute_result"
    }
   ],
   "source": [
    "df"
   ]
  },
  {
   "cell_type": "code",
   "execution_count": 227,
   "id": "2bd90e09",
   "metadata": {},
   "outputs": [
    {
     "data": {
      "text/html": [
       "<div>\n",
       "<style scoped>\n",
       "    .dataframe tbody tr th:only-of-type {\n",
       "        vertical-align: middle;\n",
       "    }\n",
       "\n",
       "    .dataframe tbody tr th {\n",
       "        vertical-align: top;\n",
       "    }\n",
       "\n",
       "    .dataframe thead th {\n",
       "        text-align: right;\n",
       "    }\n",
       "</style>\n",
       "<table border=\"1\" class=\"dataframe\">\n",
       "  <thead>\n",
       "    <tr style=\"text-align: right;\">\n",
       "      <th></th>\n",
       "      <th>W</th>\n",
       "      <th>X</th>\n",
       "      <th>Y</th>\n",
       "      <th>Z</th>\n",
       "      <th>new</th>\n",
       "    </tr>\n",
       "  </thead>\n",
       "  <tbody>\n",
       "    <tr>\n",
       "      <th>A</th>\n",
       "      <td>0.409295</td>\n",
       "      <td>-1.734591</td>\n",
       "      <td>0.333757</td>\n",
       "      <td>0.277380</td>\n",
       "      <td>-1.400835</td>\n",
       "    </tr>\n",
       "    <tr>\n",
       "      <th>B</th>\n",
       "      <td>1.518768</td>\n",
       "      <td>0.373525</td>\n",
       "      <td>-1.027092</td>\n",
       "      <td>-0.684515</td>\n",
       "      <td>-0.653567</td>\n",
       "    </tr>\n",
       "    <tr>\n",
       "      <th>C</th>\n",
       "      <td>0.021573</td>\n",
       "      <td>0.601458</td>\n",
       "      <td>1.062967</td>\n",
       "      <td>-0.476849</td>\n",
       "      <td>1.664425</td>\n",
       "    </tr>\n",
       "    <tr>\n",
       "      <th>D</th>\n",
       "      <td>-0.759876</td>\n",
       "      <td>1.617826</td>\n",
       "      <td>-0.731715</td>\n",
       "      <td>-0.696554</td>\n",
       "      <td>0.886111</td>\n",
       "    </tr>\n",
       "    <tr>\n",
       "      <th>E</th>\n",
       "      <td>-0.701738</td>\n",
       "      <td>-0.672708</td>\n",
       "      <td>0.598553</td>\n",
       "      <td>-0.321618</td>\n",
       "      <td>-0.074155</td>\n",
       "    </tr>\n",
       "  </tbody>\n",
       "</table>\n",
       "</div>"
      ],
      "text/plain": [
       "          W         X         Y         Z       new\n",
       "A  0.409295 -1.734591  0.333757  0.277380 -1.400835\n",
       "B  1.518768  0.373525 -1.027092 -0.684515 -0.653567\n",
       "C  0.021573  0.601458  1.062967 -0.476849  1.664425\n",
       "D -0.759876  1.617826 -0.731715 -0.696554  0.886111\n",
       "E -0.701738 -0.672708  0.598553 -0.321618 -0.074155"
      ]
     },
     "execution_count": 227,
     "metadata": {},
     "output_type": "execute_result"
    }
   ],
   "source": [
    "df"
   ]
  },
  {
   "cell_type": "code",
   "execution_count": 228,
   "id": "bc142324",
   "metadata": {},
   "outputs": [],
   "source": [
    "df.drop('new',axis=1,inplace=True)"
   ]
  },
  {
   "cell_type": "code",
   "execution_count": 229,
   "id": "5bb2e021",
   "metadata": {},
   "outputs": [
    {
     "data": {
      "text/html": [
       "<div>\n",
       "<style scoped>\n",
       "    .dataframe tbody tr th:only-of-type {\n",
       "        vertical-align: middle;\n",
       "    }\n",
       "\n",
       "    .dataframe tbody tr th {\n",
       "        vertical-align: top;\n",
       "    }\n",
       "\n",
       "    .dataframe thead th {\n",
       "        text-align: right;\n",
       "    }\n",
       "</style>\n",
       "<table border=\"1\" class=\"dataframe\">\n",
       "  <thead>\n",
       "    <tr style=\"text-align: right;\">\n",
       "      <th></th>\n",
       "      <th>W</th>\n",
       "      <th>X</th>\n",
       "      <th>Y</th>\n",
       "      <th>Z</th>\n",
       "    </tr>\n",
       "  </thead>\n",
       "  <tbody>\n",
       "    <tr>\n",
       "      <th>A</th>\n",
       "      <td>0.409295</td>\n",
       "      <td>-1.734591</td>\n",
       "      <td>0.333757</td>\n",
       "      <td>0.277380</td>\n",
       "    </tr>\n",
       "    <tr>\n",
       "      <th>B</th>\n",
       "      <td>1.518768</td>\n",
       "      <td>0.373525</td>\n",
       "      <td>-1.027092</td>\n",
       "      <td>-0.684515</td>\n",
       "    </tr>\n",
       "    <tr>\n",
       "      <th>C</th>\n",
       "      <td>0.021573</td>\n",
       "      <td>0.601458</td>\n",
       "      <td>1.062967</td>\n",
       "      <td>-0.476849</td>\n",
       "    </tr>\n",
       "    <tr>\n",
       "      <th>D</th>\n",
       "      <td>-0.759876</td>\n",
       "      <td>1.617826</td>\n",
       "      <td>-0.731715</td>\n",
       "      <td>-0.696554</td>\n",
       "    </tr>\n",
       "    <tr>\n",
       "      <th>E</th>\n",
       "      <td>-0.701738</td>\n",
       "      <td>-0.672708</td>\n",
       "      <td>0.598553</td>\n",
       "      <td>-0.321618</td>\n",
       "    </tr>\n",
       "  </tbody>\n",
       "</table>\n",
       "</div>"
      ],
      "text/plain": [
       "          W         X         Y         Z\n",
       "A  0.409295 -1.734591  0.333757  0.277380\n",
       "B  1.518768  0.373525 -1.027092 -0.684515\n",
       "C  0.021573  0.601458  1.062967 -0.476849\n",
       "D -0.759876  1.617826 -0.731715 -0.696554\n",
       "E -0.701738 -0.672708  0.598553 -0.321618"
      ]
     },
     "execution_count": 229,
     "metadata": {},
     "output_type": "execute_result"
    }
   ],
   "source": [
    "df"
   ]
  },
  {
   "cell_type": "code",
   "execution_count": 231,
   "id": "883bb979",
   "metadata": {},
   "outputs": [
    {
     "data": {
      "text/plain": [
       "W    0.409295\n",
       "X   -1.734591\n",
       "Y    0.333757\n",
       "Z    0.277380\n",
       "Name: A, dtype: float64"
      ]
     },
     "execution_count": 231,
     "metadata": {},
     "output_type": "execute_result"
    }
   ],
   "source": [
    "df.loc['A']"
   ]
  },
  {
   "cell_type": "code",
   "execution_count": 233,
   "id": "605e4b8e",
   "metadata": {},
   "outputs": [
    {
     "data": {
      "text/plain": [
       "W    0.409295\n",
       "X   -1.734591\n",
       "Y    0.333757\n",
       "Z    0.277380\n",
       "Name: A, dtype: float64"
      ]
     },
     "execution_count": 233,
     "metadata": {},
     "output_type": "execute_result"
    }
   ],
   "source": [
    "df.iloc[0]"
   ]
  },
  {
   "cell_type": "code",
   "execution_count": 234,
   "id": "4ceee8ed",
   "metadata": {},
   "outputs": [
    {
     "data": {
      "text/html": [
       "<div>\n",
       "<style scoped>\n",
       "    .dataframe tbody tr th:only-of-type {\n",
       "        vertical-align: middle;\n",
       "    }\n",
       "\n",
       "    .dataframe tbody tr th {\n",
       "        vertical-align: top;\n",
       "    }\n",
       "\n",
       "    .dataframe thead th {\n",
       "        text-align: right;\n",
       "    }\n",
       "</style>\n",
       "<table border=\"1\" class=\"dataframe\">\n",
       "  <thead>\n",
       "    <tr style=\"text-align: right;\">\n",
       "      <th></th>\n",
       "      <th>W</th>\n",
       "      <th>X</th>\n",
       "      <th>Y</th>\n",
       "      <th>Z</th>\n",
       "    </tr>\n",
       "  </thead>\n",
       "  <tbody>\n",
       "    <tr>\n",
       "      <th>A</th>\n",
       "      <td>0.409295</td>\n",
       "      <td>-1.734591</td>\n",
       "      <td>0.333757</td>\n",
       "      <td>0.277380</td>\n",
       "    </tr>\n",
       "    <tr>\n",
       "      <th>B</th>\n",
       "      <td>1.518768</td>\n",
       "      <td>0.373525</td>\n",
       "      <td>-1.027092</td>\n",
       "      <td>-0.684515</td>\n",
       "    </tr>\n",
       "  </tbody>\n",
       "</table>\n",
       "</div>"
      ],
      "text/plain": [
       "          W         X         Y         Z\n",
       "A  0.409295 -1.734591  0.333757  0.277380\n",
       "B  1.518768  0.373525 -1.027092 -0.684515"
      ]
     },
     "execution_count": 234,
     "metadata": {},
     "output_type": "execute_result"
    }
   ],
   "source": [
    "df.loc[['A','B']]"
   ]
  },
  {
   "cell_type": "code",
   "execution_count": 235,
   "id": "a67fc12b",
   "metadata": {},
   "outputs": [
    {
     "data": {
      "text/html": [
       "<div>\n",
       "<style scoped>\n",
       "    .dataframe tbody tr th:only-of-type {\n",
       "        vertical-align: middle;\n",
       "    }\n",
       "\n",
       "    .dataframe tbody tr th {\n",
       "        vertical-align: top;\n",
       "    }\n",
       "\n",
       "    .dataframe thead th {\n",
       "        text-align: right;\n",
       "    }\n",
       "</style>\n",
       "<table border=\"1\" class=\"dataframe\">\n",
       "  <thead>\n",
       "    <tr style=\"text-align: right;\">\n",
       "      <th></th>\n",
       "      <th>W</th>\n",
       "      <th>X</th>\n",
       "      <th>Y</th>\n",
       "      <th>Z</th>\n",
       "    </tr>\n",
       "  </thead>\n",
       "  <tbody>\n",
       "    <tr>\n",
       "      <th>A</th>\n",
       "      <td>0.409295</td>\n",
       "      <td>-1.734591</td>\n",
       "      <td>0.333757</td>\n",
       "      <td>0.277380</td>\n",
       "    </tr>\n",
       "    <tr>\n",
       "      <th>B</th>\n",
       "      <td>1.518768</td>\n",
       "      <td>0.373525</td>\n",
       "      <td>-1.027092</td>\n",
       "      <td>-0.684515</td>\n",
       "    </tr>\n",
       "  </tbody>\n",
       "</table>\n",
       "</div>"
      ],
      "text/plain": [
       "          W         X         Y         Z\n",
       "A  0.409295 -1.734591  0.333757  0.277380\n",
       "B  1.518768  0.373525 -1.027092 -0.684515"
      ]
     },
     "execution_count": 235,
     "metadata": {},
     "output_type": "execute_result"
    }
   ],
   "source": [
    "df.iloc[:2]"
   ]
  },
  {
   "cell_type": "code",
   "execution_count": 241,
   "id": "c06b9b25",
   "metadata": {},
   "outputs": [
    {
     "data": {
      "text/html": [
       "<div>\n",
       "<style scoped>\n",
       "    .dataframe tbody tr th:only-of-type {\n",
       "        vertical-align: middle;\n",
       "    }\n",
       "\n",
       "    .dataframe tbody tr th {\n",
       "        vertical-align: top;\n",
       "    }\n",
       "\n",
       "    .dataframe thead th {\n",
       "        text-align: right;\n",
       "    }\n",
       "</style>\n",
       "<table border=\"1\" class=\"dataframe\">\n",
       "  <thead>\n",
       "    <tr style=\"text-align: right;\">\n",
       "      <th></th>\n",
       "      <th>W</th>\n",
       "      <th>X</th>\n",
       "    </tr>\n",
       "  </thead>\n",
       "  <tbody>\n",
       "    <tr>\n",
       "      <th>A</th>\n",
       "      <td>0.409295</td>\n",
       "      <td>-1.734591</td>\n",
       "    </tr>\n",
       "    <tr>\n",
       "      <th>B</th>\n",
       "      <td>1.518768</td>\n",
       "      <td>0.373525</td>\n",
       "    </tr>\n",
       "  </tbody>\n",
       "</table>\n",
       "</div>"
      ],
      "text/plain": [
       "          W         X\n",
       "A  0.409295 -1.734591\n",
       "B  1.518768  0.373525"
      ]
     },
     "execution_count": 241,
     "metadata": {},
     "output_type": "execute_result"
    }
   ],
   "source": [
    "df.loc[['A','B']][['W','X']]"
   ]
  },
  {
   "cell_type": "code",
   "execution_count": 242,
   "id": "fa202568",
   "metadata": {},
   "outputs": [
    {
     "data": {
      "text/html": [
       "<div>\n",
       "<style scoped>\n",
       "    .dataframe tbody tr th:only-of-type {\n",
       "        vertical-align: middle;\n",
       "    }\n",
       "\n",
       "    .dataframe tbody tr th {\n",
       "        vertical-align: top;\n",
       "    }\n",
       "\n",
       "    .dataframe thead th {\n",
       "        text-align: right;\n",
       "    }\n",
       "</style>\n",
       "<table border=\"1\" class=\"dataframe\">\n",
       "  <thead>\n",
       "    <tr style=\"text-align: right;\">\n",
       "      <th></th>\n",
       "      <th>W</th>\n",
       "      <th>X</th>\n",
       "      <th>Y</th>\n",
       "      <th>Z</th>\n",
       "    </tr>\n",
       "  </thead>\n",
       "  <tbody>\n",
       "    <tr>\n",
       "      <th>A</th>\n",
       "      <td>0.409295</td>\n",
       "      <td>-1.734591</td>\n",
       "      <td>0.333757</td>\n",
       "      <td>0.277380</td>\n",
       "    </tr>\n",
       "    <tr>\n",
       "      <th>B</th>\n",
       "      <td>1.518768</td>\n",
       "      <td>0.373525</td>\n",
       "      <td>-1.027092</td>\n",
       "      <td>-0.684515</td>\n",
       "    </tr>\n",
       "    <tr>\n",
       "      <th>C</th>\n",
       "      <td>0.021573</td>\n",
       "      <td>0.601458</td>\n",
       "      <td>1.062967</td>\n",
       "      <td>-0.476849</td>\n",
       "    </tr>\n",
       "    <tr>\n",
       "      <th>D</th>\n",
       "      <td>-0.759876</td>\n",
       "      <td>1.617826</td>\n",
       "      <td>-0.731715</td>\n",
       "      <td>-0.696554</td>\n",
       "    </tr>\n",
       "    <tr>\n",
       "      <th>E</th>\n",
       "      <td>-0.701738</td>\n",
       "      <td>-0.672708</td>\n",
       "      <td>0.598553</td>\n",
       "      <td>-0.321618</td>\n",
       "    </tr>\n",
       "  </tbody>\n",
       "</table>\n",
       "</div>"
      ],
      "text/plain": [
       "          W         X         Y         Z\n",
       "A  0.409295 -1.734591  0.333757  0.277380\n",
       "B  1.518768  0.373525 -1.027092 -0.684515\n",
       "C  0.021573  0.601458  1.062967 -0.476849\n",
       "D -0.759876  1.617826 -0.731715 -0.696554\n",
       "E -0.701738 -0.672708  0.598553 -0.321618"
      ]
     },
     "execution_count": 242,
     "metadata": {},
     "output_type": "execute_result"
    }
   ],
   "source": [
    "df"
   ]
  },
  {
   "cell_type": "code",
   "execution_count": 243,
   "id": "29d4792e",
   "metadata": {},
   "outputs": [
    {
     "data": {
      "text/html": [
       "<div>\n",
       "<style scoped>\n",
       "    .dataframe tbody tr th:only-of-type {\n",
       "        vertical-align: middle;\n",
       "    }\n",
       "\n",
       "    .dataframe tbody tr th {\n",
       "        vertical-align: top;\n",
       "    }\n",
       "\n",
       "    .dataframe thead th {\n",
       "        text-align: right;\n",
       "    }\n",
       "</style>\n",
       "<table border=\"1\" class=\"dataframe\">\n",
       "  <thead>\n",
       "    <tr style=\"text-align: right;\">\n",
       "      <th></th>\n",
       "      <th>W</th>\n",
       "      <th>X</th>\n",
       "    </tr>\n",
       "  </thead>\n",
       "  <tbody>\n",
       "    <tr>\n",
       "      <th>A</th>\n",
       "      <td>0.409295</td>\n",
       "      <td>-1.734591</td>\n",
       "    </tr>\n",
       "    <tr>\n",
       "      <th>B</th>\n",
       "      <td>1.518768</td>\n",
       "      <td>0.373525</td>\n",
       "    </tr>\n",
       "  </tbody>\n",
       "</table>\n",
       "</div>"
      ],
      "text/plain": [
       "          W         X\n",
       "A  0.409295 -1.734591\n",
       "B  1.518768  0.373525"
      ]
     },
     "execution_count": 243,
     "metadata": {},
     "output_type": "execute_result"
    }
   ],
   "source": [
    "df.iloc[:2,:2]"
   ]
  },
  {
   "cell_type": "code",
   "execution_count": 244,
   "id": "313c27df",
   "metadata": {},
   "outputs": [
    {
     "data": {
      "text/html": [
       "<div>\n",
       "<style scoped>\n",
       "    .dataframe tbody tr th:only-of-type {\n",
       "        vertical-align: middle;\n",
       "    }\n",
       "\n",
       "    .dataframe tbody tr th {\n",
       "        vertical-align: top;\n",
       "    }\n",
       "\n",
       "    .dataframe thead th {\n",
       "        text-align: right;\n",
       "    }\n",
       "</style>\n",
       "<table border=\"1\" class=\"dataframe\">\n",
       "  <thead>\n",
       "    <tr style=\"text-align: right;\">\n",
       "      <th></th>\n",
       "      <th>W</th>\n",
       "      <th>X</th>\n",
       "    </tr>\n",
       "  </thead>\n",
       "  <tbody>\n",
       "    <tr>\n",
       "      <th>C</th>\n",
       "      <td>0.021573</td>\n",
       "      <td>0.601458</td>\n",
       "    </tr>\n",
       "    <tr>\n",
       "      <th>D</th>\n",
       "      <td>-0.759876</td>\n",
       "      <td>1.617826</td>\n",
       "    </tr>\n",
       "    <tr>\n",
       "      <th>E</th>\n",
       "      <td>-0.701738</td>\n",
       "      <td>-0.672708</td>\n",
       "    </tr>\n",
       "  </tbody>\n",
       "</table>\n",
       "</div>"
      ],
      "text/plain": [
       "          W         X\n",
       "C  0.021573  0.601458\n",
       "D -0.759876  1.617826\n",
       "E -0.701738 -0.672708"
      ]
     },
     "execution_count": 244,
     "metadata": {},
     "output_type": "execute_result"
    }
   ],
   "source": [
    "df.iloc[2:,:-2]"
   ]
  },
  {
   "cell_type": "code",
   "execution_count": 252,
   "id": "c8b36019",
   "metadata": {},
   "outputs": [
    {
     "data": {
      "text/html": [
       "<div>\n",
       "<style scoped>\n",
       "    .dataframe tbody tr th:only-of-type {\n",
       "        vertical-align: middle;\n",
       "    }\n",
       "\n",
       "    .dataframe tbody tr th {\n",
       "        vertical-align: top;\n",
       "    }\n",
       "\n",
       "    .dataframe thead th {\n",
       "        text-align: right;\n",
       "    }\n",
       "</style>\n",
       "<table border=\"1\" class=\"dataframe\">\n",
       "  <thead>\n",
       "    <tr style=\"text-align: right;\">\n",
       "      <th></th>\n",
       "      <th>Y</th>\n",
       "      <th>Z</th>\n",
       "    </tr>\n",
       "  </thead>\n",
       "  <tbody>\n",
       "    <tr>\n",
       "      <th>D</th>\n",
       "      <td>-0.731715</td>\n",
       "      <td>-0.696554</td>\n",
       "    </tr>\n",
       "    <tr>\n",
       "      <th>E</th>\n",
       "      <td>0.598553</td>\n",
       "      <td>-0.321618</td>\n",
       "    </tr>\n",
       "  </tbody>\n",
       "</table>\n",
       "</div>"
      ],
      "text/plain": [
       "          Y         Z\n",
       "D -0.731715 -0.696554\n",
       "E  0.598553 -0.321618"
      ]
     },
     "execution_count": 252,
     "metadata": {},
     "output_type": "execute_result"
    }
   ],
   "source": [
    "df.iloc[-2:,-2:]"
   ]
  },
  {
   "cell_type": "code",
   "execution_count": 253,
   "id": "7d6ecdb2",
   "metadata": {},
   "outputs": [
    {
     "data": {
      "text/html": [
       "<div>\n",
       "<style scoped>\n",
       "    .dataframe tbody tr th:only-of-type {\n",
       "        vertical-align: middle;\n",
       "    }\n",
       "\n",
       "    .dataframe tbody tr th {\n",
       "        vertical-align: top;\n",
       "    }\n",
       "\n",
       "    .dataframe thead th {\n",
       "        text-align: right;\n",
       "    }\n",
       "</style>\n",
       "<table border=\"1\" class=\"dataframe\">\n",
       "  <thead>\n",
       "    <tr style=\"text-align: right;\">\n",
       "      <th></th>\n",
       "      <th>W</th>\n",
       "      <th>X</th>\n",
       "      <th>Y</th>\n",
       "      <th>Z</th>\n",
       "    </tr>\n",
       "  </thead>\n",
       "  <tbody>\n",
       "    <tr>\n",
       "      <th>A</th>\n",
       "      <td>True</td>\n",
       "      <td>False</td>\n",
       "      <td>True</td>\n",
       "      <td>True</td>\n",
       "    </tr>\n",
       "    <tr>\n",
       "      <th>B</th>\n",
       "      <td>True</td>\n",
       "      <td>True</td>\n",
       "      <td>False</td>\n",
       "      <td>False</td>\n",
       "    </tr>\n",
       "    <tr>\n",
       "      <th>C</th>\n",
       "      <td>True</td>\n",
       "      <td>True</td>\n",
       "      <td>True</td>\n",
       "      <td>False</td>\n",
       "    </tr>\n",
       "    <tr>\n",
       "      <th>D</th>\n",
       "      <td>False</td>\n",
       "      <td>True</td>\n",
       "      <td>False</td>\n",
       "      <td>False</td>\n",
       "    </tr>\n",
       "    <tr>\n",
       "      <th>E</th>\n",
       "      <td>False</td>\n",
       "      <td>False</td>\n",
       "      <td>True</td>\n",
       "      <td>False</td>\n",
       "    </tr>\n",
       "  </tbody>\n",
       "</table>\n",
       "</div>"
      ],
      "text/plain": [
       "       W      X      Y      Z\n",
       "A   True  False   True   True\n",
       "B   True   True  False  False\n",
       "C   True   True   True  False\n",
       "D  False   True  False  False\n",
       "E  False  False   True  False"
      ]
     },
     "execution_count": 253,
     "metadata": {},
     "output_type": "execute_result"
    }
   ],
   "source": [
    "df >0"
   ]
  },
  {
   "cell_type": "code",
   "execution_count": 254,
   "id": "1d950b8a",
   "metadata": {},
   "outputs": [
    {
     "data": {
      "text/html": [
       "<div>\n",
       "<style scoped>\n",
       "    .dataframe tbody tr th:only-of-type {\n",
       "        vertical-align: middle;\n",
       "    }\n",
       "\n",
       "    .dataframe tbody tr th {\n",
       "        vertical-align: top;\n",
       "    }\n",
       "\n",
       "    .dataframe thead th {\n",
       "        text-align: right;\n",
       "    }\n",
       "</style>\n",
       "<table border=\"1\" class=\"dataframe\">\n",
       "  <thead>\n",
       "    <tr style=\"text-align: right;\">\n",
       "      <th></th>\n",
       "      <th>W</th>\n",
       "      <th>X</th>\n",
       "      <th>Y</th>\n",
       "      <th>Z</th>\n",
       "    </tr>\n",
       "  </thead>\n",
       "  <tbody>\n",
       "    <tr>\n",
       "      <th>A</th>\n",
       "      <td>0.409295</td>\n",
       "      <td>NaN</td>\n",
       "      <td>0.333757</td>\n",
       "      <td>0.27738</td>\n",
       "    </tr>\n",
       "    <tr>\n",
       "      <th>B</th>\n",
       "      <td>1.518768</td>\n",
       "      <td>0.373525</td>\n",
       "      <td>NaN</td>\n",
       "      <td>NaN</td>\n",
       "    </tr>\n",
       "    <tr>\n",
       "      <th>C</th>\n",
       "      <td>0.021573</td>\n",
       "      <td>0.601458</td>\n",
       "      <td>1.062967</td>\n",
       "      <td>NaN</td>\n",
       "    </tr>\n",
       "    <tr>\n",
       "      <th>D</th>\n",
       "      <td>NaN</td>\n",
       "      <td>1.617826</td>\n",
       "      <td>NaN</td>\n",
       "      <td>NaN</td>\n",
       "    </tr>\n",
       "    <tr>\n",
       "      <th>E</th>\n",
       "      <td>NaN</td>\n",
       "      <td>NaN</td>\n",
       "      <td>0.598553</td>\n",
       "      <td>NaN</td>\n",
       "    </tr>\n",
       "  </tbody>\n",
       "</table>\n",
       "</div>"
      ],
      "text/plain": [
       "          W         X         Y        Z\n",
       "A  0.409295       NaN  0.333757  0.27738\n",
       "B  1.518768  0.373525       NaN      NaN\n",
       "C  0.021573  0.601458  1.062967      NaN\n",
       "D       NaN  1.617826       NaN      NaN\n",
       "E       NaN       NaN  0.598553      NaN"
      ]
     },
     "execution_count": 254,
     "metadata": {},
     "output_type": "execute_result"
    }
   ],
   "source": [
    "df[df>0]"
   ]
  },
  {
   "cell_type": "code",
   "execution_count": 255,
   "id": "0fc4e12e",
   "metadata": {},
   "outputs": [
    {
     "data": {
      "text/plain": [
       "A     True\n",
       "B     True\n",
       "C     True\n",
       "D    False\n",
       "E    False\n",
       "Name: W, dtype: bool"
      ]
     },
     "execution_count": 255,
     "metadata": {},
     "output_type": "execute_result"
    }
   ],
   "source": [
    "df['W']>0"
   ]
  },
  {
   "cell_type": "code",
   "execution_count": 256,
   "id": "2a9a262e",
   "metadata": {},
   "outputs": [
    {
     "data": {
      "text/html": [
       "<div>\n",
       "<style scoped>\n",
       "    .dataframe tbody tr th:only-of-type {\n",
       "        vertical-align: middle;\n",
       "    }\n",
       "\n",
       "    .dataframe tbody tr th {\n",
       "        vertical-align: top;\n",
       "    }\n",
       "\n",
       "    .dataframe thead th {\n",
       "        text-align: right;\n",
       "    }\n",
       "</style>\n",
       "<table border=\"1\" class=\"dataframe\">\n",
       "  <thead>\n",
       "    <tr style=\"text-align: right;\">\n",
       "      <th></th>\n",
       "      <th>W</th>\n",
       "      <th>X</th>\n",
       "      <th>Y</th>\n",
       "      <th>Z</th>\n",
       "    </tr>\n",
       "  </thead>\n",
       "  <tbody>\n",
       "    <tr>\n",
       "      <th>A</th>\n",
       "      <td>0.409295</td>\n",
       "      <td>-1.734591</td>\n",
       "      <td>0.333757</td>\n",
       "      <td>0.277380</td>\n",
       "    </tr>\n",
       "    <tr>\n",
       "      <th>B</th>\n",
       "      <td>1.518768</td>\n",
       "      <td>0.373525</td>\n",
       "      <td>-1.027092</td>\n",
       "      <td>-0.684515</td>\n",
       "    </tr>\n",
       "    <tr>\n",
       "      <th>C</th>\n",
       "      <td>0.021573</td>\n",
       "      <td>0.601458</td>\n",
       "      <td>1.062967</td>\n",
       "      <td>-0.476849</td>\n",
       "    </tr>\n",
       "  </tbody>\n",
       "</table>\n",
       "</div>"
      ],
      "text/plain": [
       "          W         X         Y         Z\n",
       "A  0.409295 -1.734591  0.333757  0.277380\n",
       "B  1.518768  0.373525 -1.027092 -0.684515\n",
       "C  0.021573  0.601458  1.062967 -0.476849"
      ]
     },
     "execution_count": 256,
     "metadata": {},
     "output_type": "execute_result"
    }
   ],
   "source": []
  },
  {
   "cell_type": "code",
   "execution_count": 258,
   "id": "24b3801d",
   "metadata": {},
   "outputs": [
    {
     "data": {
      "text/html": [
       "<div>\n",
       "<style scoped>\n",
       "    .dataframe tbody tr th:only-of-type {\n",
       "        vertical-align: middle;\n",
       "    }\n",
       "\n",
       "    .dataframe tbody tr th {\n",
       "        vertical-align: top;\n",
       "    }\n",
       "\n",
       "    .dataframe thead th {\n",
       "        text-align: right;\n",
       "    }\n",
       "</style>\n",
       "<table border=\"1\" class=\"dataframe\">\n",
       "  <thead>\n",
       "    <tr style=\"text-align: right;\">\n",
       "      <th></th>\n",
       "      <th>W</th>\n",
       "      <th>Z</th>\n",
       "    </tr>\n",
       "  </thead>\n",
       "  <tbody>\n",
       "    <tr>\n",
       "      <th>A</th>\n",
       "      <td>0.409295</td>\n",
       "      <td>0.277380</td>\n",
       "    </tr>\n",
       "    <tr>\n",
       "      <th>B</th>\n",
       "      <td>1.518768</td>\n",
       "      <td>-0.684515</td>\n",
       "    </tr>\n",
       "    <tr>\n",
       "      <th>C</th>\n",
       "      <td>0.021573</td>\n",
       "      <td>-0.476849</td>\n",
       "    </tr>\n",
       "  </tbody>\n",
       "</table>\n",
       "</div>"
      ],
      "text/plain": [
       "          W         Z\n",
       "A  0.409295  0.277380\n",
       "B  1.518768 -0.684515\n",
       "C  0.021573 -0.476849"
      ]
     },
     "execution_count": 258,
     "metadata": {},
     "output_type": "execute_result"
    }
   ],
   "source": [
    "df[df['W'] >0][['W','Z']]"
   ]
  },
  {
   "cell_type": "code",
   "execution_count": 262,
   "id": "6d6ed726",
   "metadata": {},
   "outputs": [
    {
     "data": {
      "text/html": [
       "<div>\n",
       "<style scoped>\n",
       "    .dataframe tbody tr th:only-of-type {\n",
       "        vertical-align: middle;\n",
       "    }\n",
       "\n",
       "    .dataframe tbody tr th {\n",
       "        vertical-align: top;\n",
       "    }\n",
       "\n",
       "    .dataframe thead th {\n",
       "        text-align: right;\n",
       "    }\n",
       "</style>\n",
       "<table border=\"1\" class=\"dataframe\">\n",
       "  <thead>\n",
       "    <tr style=\"text-align: right;\">\n",
       "      <th></th>\n",
       "      <th>W</th>\n",
       "      <th>X</th>\n",
       "      <th>Y</th>\n",
       "      <th>Z</th>\n",
       "    </tr>\n",
       "  </thead>\n",
       "  <tbody>\n",
       "    <tr>\n",
       "      <th>B</th>\n",
       "      <td>1.518768</td>\n",
       "      <td>0.373525</td>\n",
       "      <td>-1.027092</td>\n",
       "      <td>-0.684515</td>\n",
       "    </tr>\n",
       "    <tr>\n",
       "      <th>C</th>\n",
       "      <td>0.021573</td>\n",
       "      <td>0.601458</td>\n",
       "      <td>1.062967</td>\n",
       "      <td>-0.476849</td>\n",
       "    </tr>\n",
       "  </tbody>\n",
       "</table>\n",
       "</div>"
      ],
      "text/plain": [
       "          W         X         Y         Z\n",
       "B  1.518768  0.373525 -1.027092 -0.684515\n",
       "C  0.021573  0.601458  1.062967 -0.476849"
      ]
     },
     "execution_count": 262,
     "metadata": {},
     "output_type": "execute_result"
    }
   ],
   "source": [
    "df[(df['W']>0) & (df['Z']<0)]"
   ]
  },
  {
   "cell_type": "code",
   "execution_count": 263,
   "id": "37d5e11f",
   "metadata": {},
   "outputs": [],
   "source": [
    "d={'A':[1,2,np.nan],'B':[5,np.nan,np.nan],'C':[1,2,3]}"
   ]
  },
  {
   "cell_type": "code",
   "execution_count": 264,
   "id": "03ece358",
   "metadata": {},
   "outputs": [],
   "source": [
    "df =pd.DataFrame(d)"
   ]
  },
  {
   "cell_type": "code",
   "execution_count": 265,
   "id": "2f3a84b8",
   "metadata": {},
   "outputs": [
    {
     "data": {
      "text/html": [
       "<div>\n",
       "<style scoped>\n",
       "    .dataframe tbody tr th:only-of-type {\n",
       "        vertical-align: middle;\n",
       "    }\n",
       "\n",
       "    .dataframe tbody tr th {\n",
       "        vertical-align: top;\n",
       "    }\n",
       "\n",
       "    .dataframe thead th {\n",
       "        text-align: right;\n",
       "    }\n",
       "</style>\n",
       "<table border=\"1\" class=\"dataframe\">\n",
       "  <thead>\n",
       "    <tr style=\"text-align: right;\">\n",
       "      <th></th>\n",
       "      <th>A</th>\n",
       "      <th>B</th>\n",
       "      <th>C</th>\n",
       "    </tr>\n",
       "  </thead>\n",
       "  <tbody>\n",
       "    <tr>\n",
       "      <th>0</th>\n",
       "      <td>1.0</td>\n",
       "      <td>5.0</td>\n",
       "      <td>1</td>\n",
       "    </tr>\n",
       "    <tr>\n",
       "      <th>1</th>\n",
       "      <td>2.0</td>\n",
       "      <td>NaN</td>\n",
       "      <td>2</td>\n",
       "    </tr>\n",
       "    <tr>\n",
       "      <th>2</th>\n",
       "      <td>NaN</td>\n",
       "      <td>NaN</td>\n",
       "      <td>3</td>\n",
       "    </tr>\n",
       "  </tbody>\n",
       "</table>\n",
       "</div>"
      ],
      "text/plain": [
       "     A    B  C\n",
       "0  1.0  5.0  1\n",
       "1  2.0  NaN  2\n",
       "2  NaN  NaN  3"
      ]
     },
     "execution_count": 265,
     "metadata": {},
     "output_type": "execute_result"
    }
   ],
   "source": [
    "df"
   ]
  },
  {
   "cell_type": "code",
   "execution_count": 266,
   "id": "d23c07f3",
   "metadata": {},
   "outputs": [
    {
     "data": {
      "text/html": [
       "<div>\n",
       "<style scoped>\n",
       "    .dataframe tbody tr th:only-of-type {\n",
       "        vertical-align: middle;\n",
       "    }\n",
       "\n",
       "    .dataframe tbody tr th {\n",
       "        vertical-align: top;\n",
       "    }\n",
       "\n",
       "    .dataframe thead th {\n",
       "        text-align: right;\n",
       "    }\n",
       "</style>\n",
       "<table border=\"1\" class=\"dataframe\">\n",
       "  <thead>\n",
       "    <tr style=\"text-align: right;\">\n",
       "      <th></th>\n",
       "      <th>A</th>\n",
       "      <th>B</th>\n",
       "      <th>C</th>\n",
       "    </tr>\n",
       "  </thead>\n",
       "  <tbody>\n",
       "    <tr>\n",
       "      <th>0</th>\n",
       "      <td>1.0</td>\n",
       "      <td>5.0</td>\n",
       "      <td>1</td>\n",
       "    </tr>\n",
       "  </tbody>\n",
       "</table>\n",
       "</div>"
      ],
      "text/plain": [
       "     A    B  C\n",
       "0  1.0  5.0  1"
      ]
     },
     "execution_count": 266,
     "metadata": {},
     "output_type": "execute_result"
    }
   ],
   "source": [
    "df.dropna()"
   ]
  },
  {
   "cell_type": "code",
   "execution_count": 267,
   "id": "9c3f1b4d",
   "metadata": {},
   "outputs": [
    {
     "data": {
      "text/html": [
       "<div>\n",
       "<style scoped>\n",
       "    .dataframe tbody tr th:only-of-type {\n",
       "        vertical-align: middle;\n",
       "    }\n",
       "\n",
       "    .dataframe tbody tr th {\n",
       "        vertical-align: top;\n",
       "    }\n",
       "\n",
       "    .dataframe thead th {\n",
       "        text-align: right;\n",
       "    }\n",
       "</style>\n",
       "<table border=\"1\" class=\"dataframe\">\n",
       "  <thead>\n",
       "    <tr style=\"text-align: right;\">\n",
       "      <th></th>\n",
       "      <th>C</th>\n",
       "    </tr>\n",
       "  </thead>\n",
       "  <tbody>\n",
       "    <tr>\n",
       "      <th>0</th>\n",
       "      <td>1</td>\n",
       "    </tr>\n",
       "    <tr>\n",
       "      <th>1</th>\n",
       "      <td>2</td>\n",
       "    </tr>\n",
       "    <tr>\n",
       "      <th>2</th>\n",
       "      <td>3</td>\n",
       "    </tr>\n",
       "  </tbody>\n",
       "</table>\n",
       "</div>"
      ],
      "text/plain": [
       "   C\n",
       "0  1\n",
       "1  2\n",
       "2  3"
      ]
     },
     "execution_count": 267,
     "metadata": {},
     "output_type": "execute_result"
    }
   ],
   "source": [
    "df.dropna(axis=1)"
   ]
  },
  {
   "cell_type": "code",
   "execution_count": 268,
   "id": "cf65886f",
   "metadata": {},
   "outputs": [
    {
     "data": {
      "text/html": [
       "<div>\n",
       "<style scoped>\n",
       "    .dataframe tbody tr th:only-of-type {\n",
       "        vertical-align: middle;\n",
       "    }\n",
       "\n",
       "    .dataframe tbody tr th {\n",
       "        vertical-align: top;\n",
       "    }\n",
       "\n",
       "    .dataframe thead th {\n",
       "        text-align: right;\n",
       "    }\n",
       "</style>\n",
       "<table border=\"1\" class=\"dataframe\">\n",
       "  <thead>\n",
       "    <tr style=\"text-align: right;\">\n",
       "      <th></th>\n",
       "      <th>A</th>\n",
       "      <th>B</th>\n",
       "      <th>C</th>\n",
       "    </tr>\n",
       "  </thead>\n",
       "  <tbody>\n",
       "    <tr>\n",
       "      <th>0</th>\n",
       "      <td>1.0</td>\n",
       "      <td>5.0</td>\n",
       "      <td>1</td>\n",
       "    </tr>\n",
       "    <tr>\n",
       "      <th>1</th>\n",
       "      <td>2.0</td>\n",
       "      <td>NaN</td>\n",
       "      <td>2</td>\n",
       "    </tr>\n",
       "  </tbody>\n",
       "</table>\n",
       "</div>"
      ],
      "text/plain": [
       "     A    B  C\n",
       "0  1.0  5.0  1\n",
       "1  2.0  NaN  2"
      ]
     },
     "execution_count": 268,
     "metadata": {},
     "output_type": "execute_result"
    }
   ],
   "source": [
    "df.dropna(thresh=2)"
   ]
  },
  {
   "cell_type": "code",
   "execution_count": 269,
   "id": "1443b147",
   "metadata": {},
   "outputs": [
    {
     "data": {
      "text/html": [
       "<div>\n",
       "<style scoped>\n",
       "    .dataframe tbody tr th:only-of-type {\n",
       "        vertical-align: middle;\n",
       "    }\n",
       "\n",
       "    .dataframe tbody tr th {\n",
       "        vertical-align: top;\n",
       "    }\n",
       "\n",
       "    .dataframe thead th {\n",
       "        text-align: right;\n",
       "    }\n",
       "</style>\n",
       "<table border=\"1\" class=\"dataframe\">\n",
       "  <thead>\n",
       "    <tr style=\"text-align: right;\">\n",
       "      <th></th>\n",
       "      <th>A</th>\n",
       "      <th>B</th>\n",
       "      <th>C</th>\n",
       "    </tr>\n",
       "  </thead>\n",
       "  <tbody>\n",
       "    <tr>\n",
       "      <th>0</th>\n",
       "      <td>1.0</td>\n",
       "      <td>5.0</td>\n",
       "      <td>1</td>\n",
       "    </tr>\n",
       "    <tr>\n",
       "      <th>1</th>\n",
       "      <td>2.0</td>\n",
       "      <td>0.0</td>\n",
       "      <td>2</td>\n",
       "    </tr>\n",
       "    <tr>\n",
       "      <th>2</th>\n",
       "      <td>0.0</td>\n",
       "      <td>0.0</td>\n",
       "      <td>3</td>\n",
       "    </tr>\n",
       "  </tbody>\n",
       "</table>\n",
       "</div>"
      ],
      "text/plain": [
       "     A    B  C\n",
       "0  1.0  5.0  1\n",
       "1  2.0  0.0  2\n",
       "2  0.0  0.0  3"
      ]
     },
     "execution_count": 269,
     "metadata": {},
     "output_type": "execute_result"
    }
   ],
   "source": [
    "df.fillna(0)"
   ]
  },
  {
   "cell_type": "code",
   "execution_count": 271,
   "id": "74331b87",
   "metadata": {},
   "outputs": [
    {
     "data": {
      "text/plain": [
       "1.5"
      ]
     },
     "execution_count": 271,
     "metadata": {},
     "output_type": "execute_result"
    }
   ],
   "source": [
    "df['A'].mean()"
   ]
  },
  {
   "cell_type": "code",
   "execution_count": 274,
   "id": "33d8fca2",
   "metadata": {},
   "outputs": [
    {
     "data": {
      "text/plain": [
       "1.0"
      ]
     },
     "execution_count": 274,
     "metadata": {},
     "output_type": "execute_result"
    }
   ],
   "source": [
    "df['A'].fillna(0).mean()"
   ]
  },
  {
   "cell_type": "code",
   "execution_count": 275,
   "id": "90a72817",
   "metadata": {},
   "outputs": [],
   "source": [
    "df['A'].fillna(df['A'].mean(),inplace=True)"
   ]
  },
  {
   "cell_type": "code",
   "execution_count": 292,
   "id": "e9ceeb94",
   "metadata": {},
   "outputs": [],
   "source": [
    "d ={'Company':['GOOG','GOOG','MSFT','MSFT','FB','FB'],\n",
    "     'Person':['RAM','SHAM','SUNIL','SUDEEP','RAHEEM','SHEETAL'],\n",
    "    'Sales':[250,400,200,150,350,100]}\n"
   ]
  },
  {
   "cell_type": "code",
   "execution_count": 293,
   "id": "e8ad4485",
   "metadata": {},
   "outputs": [],
   "source": [
    "df =pd.DataFrame(d)"
   ]
  },
  {
   "cell_type": "code",
   "execution_count": 294,
   "id": "d98528ba",
   "metadata": {},
   "outputs": [
    {
     "data": {
      "text/html": [
       "<div>\n",
       "<style scoped>\n",
       "    .dataframe tbody tr th:only-of-type {\n",
       "        vertical-align: middle;\n",
       "    }\n",
       "\n",
       "    .dataframe tbody tr th {\n",
       "        vertical-align: top;\n",
       "    }\n",
       "\n",
       "    .dataframe thead th {\n",
       "        text-align: right;\n",
       "    }\n",
       "</style>\n",
       "<table border=\"1\" class=\"dataframe\">\n",
       "  <thead>\n",
       "    <tr style=\"text-align: right;\">\n",
       "      <th></th>\n",
       "      <th>Company</th>\n",
       "      <th>Person</th>\n",
       "      <th>Sales</th>\n",
       "    </tr>\n",
       "  </thead>\n",
       "  <tbody>\n",
       "    <tr>\n",
       "      <th>0</th>\n",
       "      <td>GOOG</td>\n",
       "      <td>RAM</td>\n",
       "      <td>250</td>\n",
       "    </tr>\n",
       "    <tr>\n",
       "      <th>1</th>\n",
       "      <td>GOOG</td>\n",
       "      <td>SHAM</td>\n",
       "      <td>400</td>\n",
       "    </tr>\n",
       "    <tr>\n",
       "      <th>2</th>\n",
       "      <td>MSFT</td>\n",
       "      <td>SUNIL</td>\n",
       "      <td>200</td>\n",
       "    </tr>\n",
       "    <tr>\n",
       "      <th>3</th>\n",
       "      <td>MSFT</td>\n",
       "      <td>SUDEEP</td>\n",
       "      <td>150</td>\n",
       "    </tr>\n",
       "    <tr>\n",
       "      <th>4</th>\n",
       "      <td>FB</td>\n",
       "      <td>RAHEEM</td>\n",
       "      <td>350</td>\n",
       "    </tr>\n",
       "    <tr>\n",
       "      <th>5</th>\n",
       "      <td>FB</td>\n",
       "      <td>SHEETAL</td>\n",
       "      <td>100</td>\n",
       "    </tr>\n",
       "  </tbody>\n",
       "</table>\n",
       "</div>"
      ],
      "text/plain": [
       "  Company   Person  Sales\n",
       "0    GOOG      RAM    250\n",
       "1    GOOG     SHAM    400\n",
       "2    MSFT    SUNIL    200\n",
       "3    MSFT   SUDEEP    150\n",
       "4      FB   RAHEEM    350\n",
       "5      FB  SHEETAL    100"
      ]
     },
     "execution_count": 294,
     "metadata": {},
     "output_type": "execute_result"
    }
   ],
   "source": [
    "df"
   ]
  },
  {
   "cell_type": "code",
   "execution_count": 295,
   "id": "2fd0bf93",
   "metadata": {},
   "outputs": [],
   "source": [
    "byCompany =df.groupby('Company')"
   ]
  },
  {
   "cell_type": "code",
   "execution_count": 297,
   "id": "abe7e8ac",
   "metadata": {},
   "outputs": [
    {
     "data": {
      "text/html": [
       "<div>\n",
       "<style scoped>\n",
       "    .dataframe tbody tr th:only-of-type {\n",
       "        vertical-align: middle;\n",
       "    }\n",
       "\n",
       "    .dataframe tbody tr th {\n",
       "        vertical-align: top;\n",
       "    }\n",
       "\n",
       "    .dataframe thead th {\n",
       "        text-align: right;\n",
       "    }\n",
       "</style>\n",
       "<table border=\"1\" class=\"dataframe\">\n",
       "  <thead>\n",
       "    <tr style=\"text-align: right;\">\n",
       "      <th></th>\n",
       "      <th>Sales</th>\n",
       "    </tr>\n",
       "    <tr>\n",
       "      <th>Company</th>\n",
       "      <th></th>\n",
       "    </tr>\n",
       "  </thead>\n",
       "  <tbody>\n",
       "    <tr>\n",
       "      <th>FB</th>\n",
       "      <td>225.0</td>\n",
       "    </tr>\n",
       "    <tr>\n",
       "      <th>GOOG</th>\n",
       "      <td>325.0</td>\n",
       "    </tr>\n",
       "    <tr>\n",
       "      <th>MSFT</th>\n",
       "      <td>175.0</td>\n",
       "    </tr>\n",
       "  </tbody>\n",
       "</table>\n",
       "</div>"
      ],
      "text/plain": [
       "         Sales\n",
       "Company       \n",
       "FB       225.0\n",
       "GOOG     325.0\n",
       "MSFT     175.0"
      ]
     },
     "execution_count": 297,
     "metadata": {},
     "output_type": "execute_result"
    }
   ],
   "source": [
    "byCompany.mean('Sales')"
   ]
  },
  {
   "cell_type": "code",
   "execution_count": 298,
   "id": "1441f3da",
   "metadata": {},
   "outputs": [
    {
     "data": {
      "text/html": [
       "<div>\n",
       "<style scoped>\n",
       "    .dataframe tbody tr th:only-of-type {\n",
       "        vertical-align: middle;\n",
       "    }\n",
       "\n",
       "    .dataframe tbody tr th {\n",
       "        vertical-align: top;\n",
       "    }\n",
       "\n",
       "    .dataframe thead th {\n",
       "        text-align: right;\n",
       "    }\n",
       "</style>\n",
       "<table border=\"1\" class=\"dataframe\">\n",
       "  <thead>\n",
       "    <tr style=\"text-align: right;\">\n",
       "      <th></th>\n",
       "      <th>Sales</th>\n",
       "    </tr>\n",
       "    <tr>\n",
       "      <th>Company</th>\n",
       "      <th></th>\n",
       "    </tr>\n",
       "  </thead>\n",
       "  <tbody>\n",
       "    <tr>\n",
       "      <th>FB</th>\n",
       "      <td>450</td>\n",
       "    </tr>\n",
       "    <tr>\n",
       "      <th>GOOG</th>\n",
       "      <td>650</td>\n",
       "    </tr>\n",
       "    <tr>\n",
       "      <th>MSFT</th>\n",
       "      <td>350</td>\n",
       "    </tr>\n",
       "  </tbody>\n",
       "</table>\n",
       "</div>"
      ],
      "text/plain": [
       "         Sales\n",
       "Company       \n",
       "FB         450\n",
       "GOOG       650\n",
       "MSFT       350"
      ]
     },
     "execution_count": 298,
     "metadata": {},
     "output_type": "execute_result"
    }
   ],
   "source": [
    "byCompany.sum('Sales')"
   ]
  },
  {
   "cell_type": "code",
   "execution_count": 299,
   "id": "0a1819ba",
   "metadata": {},
   "outputs": [
    {
     "data": {
      "text/html": [
       "<div>\n",
       "<style scoped>\n",
       "    .dataframe tbody tr th:only-of-type {\n",
       "        vertical-align: middle;\n",
       "    }\n",
       "\n",
       "    .dataframe tbody tr th {\n",
       "        vertical-align: top;\n",
       "    }\n",
       "\n",
       "    .dataframe thead th {\n",
       "        text-align: right;\n",
       "    }\n",
       "</style>\n",
       "<table border=\"1\" class=\"dataframe\">\n",
       "  <thead>\n",
       "    <tr style=\"text-align: right;\">\n",
       "      <th></th>\n",
       "      <th>Sales</th>\n",
       "    </tr>\n",
       "    <tr>\n",
       "      <th>Company</th>\n",
       "      <th></th>\n",
       "    </tr>\n",
       "  </thead>\n",
       "  <tbody>\n",
       "    <tr>\n",
       "      <th>FB</th>\n",
       "      <td>350</td>\n",
       "    </tr>\n",
       "    <tr>\n",
       "      <th>GOOG</th>\n",
       "      <td>400</td>\n",
       "    </tr>\n",
       "    <tr>\n",
       "      <th>MSFT</th>\n",
       "      <td>200</td>\n",
       "    </tr>\n",
       "  </tbody>\n",
       "</table>\n",
       "</div>"
      ],
      "text/plain": [
       "         Sales\n",
       "Company       \n",
       "FB         350\n",
       "GOOG       400\n",
       "MSFT       200"
      ]
     },
     "execution_count": 299,
     "metadata": {},
     "output_type": "execute_result"
    }
   ],
   "source": [
    "byCompany.max('Sales')"
   ]
  },
  {
   "cell_type": "code",
   "execution_count": 300,
   "id": "126cf6cf",
   "metadata": {},
   "outputs": [
    {
     "data": {
      "text/html": [
       "<div>\n",
       "<style scoped>\n",
       "    .dataframe tbody tr th:only-of-type {\n",
       "        vertical-align: middle;\n",
       "    }\n",
       "\n",
       "    .dataframe tbody tr th {\n",
       "        vertical-align: top;\n",
       "    }\n",
       "\n",
       "    .dataframe thead th {\n",
       "        text-align: right;\n",
       "    }\n",
       "</style>\n",
       "<table border=\"1\" class=\"dataframe\">\n",
       "  <thead>\n",
       "    <tr style=\"text-align: right;\">\n",
       "      <th></th>\n",
       "      <th>Sales</th>\n",
       "    </tr>\n",
       "    <tr>\n",
       "      <th>Company</th>\n",
       "      <th></th>\n",
       "    </tr>\n",
       "  </thead>\n",
       "  <tbody>\n",
       "    <tr>\n",
       "      <th>FB</th>\n",
       "      <td>100</td>\n",
       "    </tr>\n",
       "    <tr>\n",
       "      <th>GOOG</th>\n",
       "      <td>250</td>\n",
       "    </tr>\n",
       "    <tr>\n",
       "      <th>MSFT</th>\n",
       "      <td>150</td>\n",
       "    </tr>\n",
       "  </tbody>\n",
       "</table>\n",
       "</div>"
      ],
      "text/plain": [
       "         Sales\n",
       "Company       \n",
       "FB         100\n",
       "GOOG       250\n",
       "MSFT       150"
      ]
     },
     "execution_count": 300,
     "metadata": {},
     "output_type": "execute_result"
    }
   ],
   "source": [
    "byCompany.min('Sales')"
   ]
  },
  {
   "cell_type": "code",
   "execution_count": 302,
   "id": "3e07432f",
   "metadata": {},
   "outputs": [
    {
     "data": {
      "text/html": [
       "<div>\n",
       "<style scoped>\n",
       "    .dataframe tbody tr th:only-of-type {\n",
       "        vertical-align: middle;\n",
       "    }\n",
       "\n",
       "    .dataframe tbody tr th {\n",
       "        vertical-align: top;\n",
       "    }\n",
       "\n",
       "    .dataframe thead tr th {\n",
       "        text-align: left;\n",
       "    }\n",
       "\n",
       "    .dataframe thead tr:last-of-type th {\n",
       "        text-align: right;\n",
       "    }\n",
       "</style>\n",
       "<table border=\"1\" class=\"dataframe\">\n",
       "  <thead>\n",
       "    <tr>\n",
       "      <th></th>\n",
       "      <th colspan=\"8\" halign=\"left\">Sales</th>\n",
       "    </tr>\n",
       "    <tr>\n",
       "      <th></th>\n",
       "      <th>count</th>\n",
       "      <th>mean</th>\n",
       "      <th>std</th>\n",
       "      <th>min</th>\n",
       "      <th>25%</th>\n",
       "      <th>50%</th>\n",
       "      <th>75%</th>\n",
       "      <th>max</th>\n",
       "    </tr>\n",
       "    <tr>\n",
       "      <th>Company</th>\n",
       "      <th></th>\n",
       "      <th></th>\n",
       "      <th></th>\n",
       "      <th></th>\n",
       "      <th></th>\n",
       "      <th></th>\n",
       "      <th></th>\n",
       "      <th></th>\n",
       "    </tr>\n",
       "  </thead>\n",
       "  <tbody>\n",
       "    <tr>\n",
       "      <th>FB</th>\n",
       "      <td>2.0</td>\n",
       "      <td>225.0</td>\n",
       "      <td>176.776695</td>\n",
       "      <td>100.0</td>\n",
       "      <td>162.5</td>\n",
       "      <td>225.0</td>\n",
       "      <td>287.5</td>\n",
       "      <td>350.0</td>\n",
       "    </tr>\n",
       "    <tr>\n",
       "      <th>GOOG</th>\n",
       "      <td>2.0</td>\n",
       "      <td>325.0</td>\n",
       "      <td>106.066017</td>\n",
       "      <td>250.0</td>\n",
       "      <td>287.5</td>\n",
       "      <td>325.0</td>\n",
       "      <td>362.5</td>\n",
       "      <td>400.0</td>\n",
       "    </tr>\n",
       "    <tr>\n",
       "      <th>MSFT</th>\n",
       "      <td>2.0</td>\n",
       "      <td>175.0</td>\n",
       "      <td>35.355339</td>\n",
       "      <td>150.0</td>\n",
       "      <td>162.5</td>\n",
       "      <td>175.0</td>\n",
       "      <td>187.5</td>\n",
       "      <td>200.0</td>\n",
       "    </tr>\n",
       "  </tbody>\n",
       "</table>\n",
       "</div>"
      ],
      "text/plain": [
       "        Sales                                                      \n",
       "        count   mean         std    min    25%    50%    75%    max\n",
       "Company                                                            \n",
       "FB        2.0  225.0  176.776695  100.0  162.5  225.0  287.5  350.0\n",
       "GOOG      2.0  325.0  106.066017  250.0  287.5  325.0  362.5  400.0\n",
       "MSFT      2.0  175.0   35.355339  150.0  162.5  175.0  187.5  200.0"
      ]
     },
     "execution_count": 302,
     "metadata": {},
     "output_type": "execute_result"
    }
   ],
   "source": [
    "byCompany.describe()"
   ]
  },
  {
   "cell_type": "code",
   "execution_count": 303,
   "id": "d99b46e1",
   "metadata": {},
   "outputs": [
    {
     "data": {
      "text/html": [
       "<div>\n",
       "<style scoped>\n",
       "    .dataframe tbody tr th:only-of-type {\n",
       "        vertical-align: middle;\n",
       "    }\n",
       "\n",
       "    .dataframe tbody tr th {\n",
       "        vertical-align: top;\n",
       "    }\n",
       "\n",
       "    .dataframe thead th {\n",
       "        text-align: right;\n",
       "    }\n",
       "</style>\n",
       "<table border=\"1\" class=\"dataframe\">\n",
       "  <thead>\n",
       "    <tr style=\"text-align: right;\">\n",
       "      <th></th>\n",
       "      <th>Company</th>\n",
       "      <th>FB</th>\n",
       "      <th>GOOG</th>\n",
       "      <th>MSFT</th>\n",
       "    </tr>\n",
       "  </thead>\n",
       "  <tbody>\n",
       "    <tr>\n",
       "      <th rowspan=\"8\" valign=\"top\">Sales</th>\n",
       "      <th>count</th>\n",
       "      <td>2.000000</td>\n",
       "      <td>2.000000</td>\n",
       "      <td>2.000000</td>\n",
       "    </tr>\n",
       "    <tr>\n",
       "      <th>mean</th>\n",
       "      <td>225.000000</td>\n",
       "      <td>325.000000</td>\n",
       "      <td>175.000000</td>\n",
       "    </tr>\n",
       "    <tr>\n",
       "      <th>std</th>\n",
       "      <td>176.776695</td>\n",
       "      <td>106.066017</td>\n",
       "      <td>35.355339</td>\n",
       "    </tr>\n",
       "    <tr>\n",
       "      <th>min</th>\n",
       "      <td>100.000000</td>\n",
       "      <td>250.000000</td>\n",
       "      <td>150.000000</td>\n",
       "    </tr>\n",
       "    <tr>\n",
       "      <th>25%</th>\n",
       "      <td>162.500000</td>\n",
       "      <td>287.500000</td>\n",
       "      <td>162.500000</td>\n",
       "    </tr>\n",
       "    <tr>\n",
       "      <th>50%</th>\n",
       "      <td>225.000000</td>\n",
       "      <td>325.000000</td>\n",
       "      <td>175.000000</td>\n",
       "    </tr>\n",
       "    <tr>\n",
       "      <th>75%</th>\n",
       "      <td>287.500000</td>\n",
       "      <td>362.500000</td>\n",
       "      <td>187.500000</td>\n",
       "    </tr>\n",
       "    <tr>\n",
       "      <th>max</th>\n",
       "      <td>350.000000</td>\n",
       "      <td>400.000000</td>\n",
       "      <td>200.000000</td>\n",
       "    </tr>\n",
       "  </tbody>\n",
       "</table>\n",
       "</div>"
      ],
      "text/plain": [
       "Company              FB        GOOG        MSFT\n",
       "Sales count    2.000000    2.000000    2.000000\n",
       "      mean   225.000000  325.000000  175.000000\n",
       "      std    176.776695  106.066017   35.355339\n",
       "      min    100.000000  250.000000  150.000000\n",
       "      25%    162.500000  287.500000  162.500000\n",
       "      50%    225.000000  325.000000  175.000000\n",
       "      75%    287.500000  362.500000  187.500000\n",
       "      max    350.000000  400.000000  200.000000"
      ]
     },
     "execution_count": 303,
     "metadata": {},
     "output_type": "execute_result"
    }
   ],
   "source": [
    "byCompany.describe().T"
   ]
  },
  {
   "cell_type": "code",
   "execution_count": 304,
   "id": "6c6408f1",
   "metadata": {},
   "outputs": [],
   "source": [
    "df1 =pd.DataFrame({'A':['A0','A1','A2','A3'],\n",
    "                   'B':['B0','B1','B2','B3'],\n",
    "                    'C':['C0','C1','C2','C3']},\n",
    "                    index =[0,1,2,3])\n",
    "df2=pd.DataFrame({'A':['A4','A5','A6','A7'],\n",
    "                   'B':['B4','B5','B6','B7'],\n",
    "                    'C':['C4','C5','C6','C7']},\n",
    "                    index =[4,5,6,7])\n",
    "df3=pd.DataFrame({'A':['A8','A9','A10','A11'],\n",
    "                   'B':['B8','B9','B10','B11'],\n",
    "                    'C':['C8','C9','C10','C11']},\n",
    "                    index =[8,9,10,11])\n"
   ]
  },
  {
   "cell_type": "code",
   "execution_count": 305,
   "id": "d0c793b8",
   "metadata": {},
   "outputs": [
    {
     "data": {
      "text/html": [
       "<div>\n",
       "<style scoped>\n",
       "    .dataframe tbody tr th:only-of-type {\n",
       "        vertical-align: middle;\n",
       "    }\n",
       "\n",
       "    .dataframe tbody tr th {\n",
       "        vertical-align: top;\n",
       "    }\n",
       "\n",
       "    .dataframe thead th {\n",
       "        text-align: right;\n",
       "    }\n",
       "</style>\n",
       "<table border=\"1\" class=\"dataframe\">\n",
       "  <thead>\n",
       "    <tr style=\"text-align: right;\">\n",
       "      <th></th>\n",
       "      <th>A</th>\n",
       "      <th>B</th>\n",
       "      <th>C</th>\n",
       "    </tr>\n",
       "  </thead>\n",
       "  <tbody>\n",
       "    <tr>\n",
       "      <th>0</th>\n",
       "      <td>A0</td>\n",
       "      <td>B0</td>\n",
       "      <td>C0</td>\n",
       "    </tr>\n",
       "    <tr>\n",
       "      <th>1</th>\n",
       "      <td>A1</td>\n",
       "      <td>B1</td>\n",
       "      <td>C1</td>\n",
       "    </tr>\n",
       "    <tr>\n",
       "      <th>2</th>\n",
       "      <td>A2</td>\n",
       "      <td>B2</td>\n",
       "      <td>C2</td>\n",
       "    </tr>\n",
       "    <tr>\n",
       "      <th>3</th>\n",
       "      <td>A3</td>\n",
       "      <td>B3</td>\n",
       "      <td>C3</td>\n",
       "    </tr>\n",
       "    <tr>\n",
       "      <th>4</th>\n",
       "      <td>A4</td>\n",
       "      <td>B4</td>\n",
       "      <td>C4</td>\n",
       "    </tr>\n",
       "    <tr>\n",
       "      <th>5</th>\n",
       "      <td>A5</td>\n",
       "      <td>B5</td>\n",
       "      <td>C5</td>\n",
       "    </tr>\n",
       "    <tr>\n",
       "      <th>6</th>\n",
       "      <td>A6</td>\n",
       "      <td>B6</td>\n",
       "      <td>C6</td>\n",
       "    </tr>\n",
       "    <tr>\n",
       "      <th>7</th>\n",
       "      <td>A7</td>\n",
       "      <td>B7</td>\n",
       "      <td>C7</td>\n",
       "    </tr>\n",
       "    <tr>\n",
       "      <th>4</th>\n",
       "      <td>A4</td>\n",
       "      <td>B4</td>\n",
       "      <td>C4</td>\n",
       "    </tr>\n",
       "    <tr>\n",
       "      <th>5</th>\n",
       "      <td>A5</td>\n",
       "      <td>B5</td>\n",
       "      <td>C5</td>\n",
       "    </tr>\n",
       "    <tr>\n",
       "      <th>6</th>\n",
       "      <td>A6</td>\n",
       "      <td>B6</td>\n",
       "      <td>C6</td>\n",
       "    </tr>\n",
       "    <tr>\n",
       "      <th>7</th>\n",
       "      <td>A7</td>\n",
       "      <td>B7</td>\n",
       "      <td>C7</td>\n",
       "    </tr>\n",
       "  </tbody>\n",
       "</table>\n",
       "</div>"
      ],
      "text/plain": [
       "    A   B   C\n",
       "0  A0  B0  C0\n",
       "1  A1  B1  C1\n",
       "2  A2  B2  C2\n",
       "3  A3  B3  C3\n",
       "4  A4  B4  C4\n",
       "5  A5  B5  C5\n",
       "6  A6  B6  C6\n",
       "7  A7  B7  C7\n",
       "4  A4  B4  C4\n",
       "5  A5  B5  C5\n",
       "6  A6  B6  C6\n",
       "7  A7  B7  C7"
      ]
     },
     "execution_count": 305,
     "metadata": {},
     "output_type": "execute_result"
    }
   ],
   "source": [
    "pd.concat([df1,df2,df2])"
   ]
  },
  {
   "cell_type": "code",
   "execution_count": 306,
   "id": "8328977f",
   "metadata": {},
   "outputs": [],
   "source": [
    "emp=pd.DataFrame({'EMPNO':['E001','E0002','E003','E004'],\n",
    "                   'ENAME':['BABJEE','RAM','SUNIL','SHAM'],\n",
    "                  'DEPTNO':[10,10,20,30]})\n"
   ]
  },
  {
   "cell_type": "code",
   "execution_count": 307,
   "id": "a718a710",
   "metadata": {},
   "outputs": [],
   "source": [
    "dept=pd.DataFrame({'Dname':['Accounts','Admin','It'],'DEPTNO':[10,20,50]})"
   ]
  },
  {
   "cell_type": "code",
   "execution_count": 310,
   "id": "6fab882b",
   "metadata": {},
   "outputs": [],
   "source": [
    "emp=pd.DataFrame({'EMPNO':['E001','E0002','E003','E004'],\n",
    "                   'ENAME':['BABJEE','RAM','SUNIL','SHAM']},\n",
    "                  index =[10,10,20,30])\n",
    "dept=pd.DataFrame({'DNAME':['Accounts','Admin','It'],\n",
    "                   'LOCATION':['CHENNAI','MUMBAI','PUNE'] },\n",
    "                            index=[10,20,50])\n"
   ]
  },
  {
   "cell_type": "code",
   "execution_count": 311,
   "id": "d53a43c6",
   "metadata": {},
   "outputs": [
    {
     "data": {
      "text/html": [
       "<div>\n",
       "<style scoped>\n",
       "    .dataframe tbody tr th:only-of-type {\n",
       "        vertical-align: middle;\n",
       "    }\n",
       "\n",
       "    .dataframe tbody tr th {\n",
       "        vertical-align: top;\n",
       "    }\n",
       "\n",
       "    .dataframe thead th {\n",
       "        text-align: right;\n",
       "    }\n",
       "</style>\n",
       "<table border=\"1\" class=\"dataframe\">\n",
       "  <thead>\n",
       "    <tr style=\"text-align: right;\">\n",
       "      <th></th>\n",
       "      <th>EMPNO</th>\n",
       "      <th>ENAME</th>\n",
       "      <th>DNAME</th>\n",
       "      <th>LOCATION</th>\n",
       "    </tr>\n",
       "  </thead>\n",
       "  <tbody>\n",
       "    <tr>\n",
       "      <th>10</th>\n",
       "      <td>E001</td>\n",
       "      <td>BABJEE</td>\n",
       "      <td>Accounts</td>\n",
       "      <td>CHENNAI</td>\n",
       "    </tr>\n",
       "    <tr>\n",
       "      <th>10</th>\n",
       "      <td>E0002</td>\n",
       "      <td>RAM</td>\n",
       "      <td>Accounts</td>\n",
       "      <td>CHENNAI</td>\n",
       "    </tr>\n",
       "    <tr>\n",
       "      <th>20</th>\n",
       "      <td>E003</td>\n",
       "      <td>SUNIL</td>\n",
       "      <td>Admin</td>\n",
       "      <td>MUMBAI</td>\n",
       "    </tr>\n",
       "  </tbody>\n",
       "</table>\n",
       "</div>"
      ],
      "text/plain": [
       "    EMPNO   ENAME     DNAME LOCATION\n",
       "10   E001  BABJEE  Accounts  CHENNAI\n",
       "10  E0002     RAM  Accounts  CHENNAI\n",
       "20   E003   SUNIL     Admin   MUMBAI"
      ]
     },
     "execution_count": 311,
     "metadata": {},
     "output_type": "execute_result"
    }
   ],
   "source": [
    "emp.join(dept,how='inner')"
   ]
  },
  {
   "cell_type": "code",
   "execution_count": 312,
   "id": "6fe6372c",
   "metadata": {},
   "outputs": [],
   "source": [
    "df =pd.DataFrame({'Col1':[1,2,3,4],\n",
    "                  'Col2':[444,555,666,444],\n",
    "                   'Col3':['abc','def','ghi','xyz']})\n"
   ]
  },
  {
   "cell_type": "code",
   "execution_count": 313,
   "id": "2cf4855a",
   "metadata": {},
   "outputs": [
    {
     "data": {
      "text/html": [
       "<div>\n",
       "<style scoped>\n",
       "    .dataframe tbody tr th:only-of-type {\n",
       "        vertical-align: middle;\n",
       "    }\n",
       "\n",
       "    .dataframe tbody tr th {\n",
       "        vertical-align: top;\n",
       "    }\n",
       "\n",
       "    .dataframe thead th {\n",
       "        text-align: right;\n",
       "    }\n",
       "</style>\n",
       "<table border=\"1\" class=\"dataframe\">\n",
       "  <thead>\n",
       "    <tr style=\"text-align: right;\">\n",
       "      <th></th>\n",
       "      <th>Col1</th>\n",
       "      <th>Col2</th>\n",
       "      <th>Col3</th>\n",
       "    </tr>\n",
       "  </thead>\n",
       "  <tbody>\n",
       "    <tr>\n",
       "      <th>0</th>\n",
       "      <td>1</td>\n",
       "      <td>444</td>\n",
       "      <td>abc</td>\n",
       "    </tr>\n",
       "    <tr>\n",
       "      <th>1</th>\n",
       "      <td>2</td>\n",
       "      <td>555</td>\n",
       "      <td>def</td>\n",
       "    </tr>\n",
       "    <tr>\n",
       "      <th>2</th>\n",
       "      <td>3</td>\n",
       "      <td>666</td>\n",
       "      <td>ghi</td>\n",
       "    </tr>\n",
       "    <tr>\n",
       "      <th>3</th>\n",
       "      <td>4</td>\n",
       "      <td>444</td>\n",
       "      <td>xyz</td>\n",
       "    </tr>\n",
       "  </tbody>\n",
       "</table>\n",
       "</div>"
      ],
      "text/plain": [
       "   Col1  Col2 Col3\n",
       "0     1   444  abc\n",
       "1     2   555  def\n",
       "2     3   666  ghi\n",
       "3     4   444  xyz"
      ]
     },
     "execution_count": 313,
     "metadata": {},
     "output_type": "execute_result"
    }
   ],
   "source": [
    "df"
   ]
  },
  {
   "cell_type": "code",
   "execution_count": 314,
   "id": "29b17be3",
   "metadata": {},
   "outputs": [
    {
     "data": {
      "text/plain": [
       "array([444, 555, 666], dtype=int64)"
      ]
     },
     "execution_count": 314,
     "metadata": {},
     "output_type": "execute_result"
    }
   ],
   "source": [
    "df['Col2'].unique()"
   ]
  },
  {
   "cell_type": "code",
   "execution_count": 315,
   "id": "88c1badd",
   "metadata": {},
   "outputs": [
    {
     "data": {
      "text/plain": [
       "3"
      ]
     },
     "execution_count": 315,
     "metadata": {},
     "output_type": "execute_result"
    }
   ],
   "source": [
    "df['Col2'].nunique()"
   ]
  },
  {
   "cell_type": "code",
   "execution_count": 316,
   "id": "6f819ddb",
   "metadata": {},
   "outputs": [
    {
     "data": {
      "text/plain": [
       "4"
      ]
     },
     "execution_count": 316,
     "metadata": {},
     "output_type": "execute_result"
    }
   ],
   "source": [
    "df['Col2'].count()"
   ]
  },
  {
   "cell_type": "code",
   "execution_count": 317,
   "id": "2899c5f9",
   "metadata": {},
   "outputs": [
    {
     "data": {
      "text/plain": [
       "Col2\n",
       "444    2\n",
       "555    1\n",
       "666    1\n",
       "Name: count, dtype: int64"
      ]
     },
     "execution_count": 317,
     "metadata": {},
     "output_type": "execute_result"
    }
   ],
   "source": [
    "df['Col2'].value_counts()"
   ]
  },
  {
   "cell_type": "code",
   "execution_count": 321,
   "id": "773834fc",
   "metadata": {},
   "outputs": [],
   "source": [
    "def times2(x):\n",
    "    return x*x\n"
   ]
  },
  {
   "cell_type": "code",
   "execution_count": 322,
   "id": "1b04d24e",
   "metadata": {},
   "outputs": [
    {
     "data": {
      "text/plain": [
       "0     1\n",
       "1     4\n",
       "2     9\n",
       "3    16\n",
       "Name: Col1, dtype: int64"
      ]
     },
     "execution_count": 322,
     "metadata": {},
     "output_type": "execute_result"
    }
   ],
   "source": [
    "df['Col1'].apply(times2)"
   ]
  },
  {
   "cell_type": "code",
   "execution_count": 323,
   "id": "ce3e9af0",
   "metadata": {},
   "outputs": [
    {
     "data": {
      "text/plain": [
       "0    3\n",
       "1    3\n",
       "2    3\n",
       "3    3\n",
       "Name: Col3, dtype: int64"
      ]
     },
     "execution_count": 323,
     "metadata": {},
     "output_type": "execute_result"
    }
   ],
   "source": [
    "df['Col3'].apply(len)"
   ]
  },
  {
   "cell_type": "code",
   "execution_count": 324,
   "id": "111a2ce8",
   "metadata": {},
   "outputs": [
    {
     "data": {
      "text/plain": [
       "0    197136\n",
       "1    308025\n",
       "2    443556\n",
       "3    197136\n",
       "Name: Col2, dtype: int64"
      ]
     },
     "execution_count": 324,
     "metadata": {},
     "output_type": "execute_result"
    }
   ],
   "source": [
    "df['Col2'].apply(lambda x: x *x)"
   ]
  },
  {
   "cell_type": "code",
   "execution_count": 325,
   "id": "5efe5421",
   "metadata": {},
   "outputs": [
    {
     "data": {
      "text/html": [
       "<div>\n",
       "<style scoped>\n",
       "    .dataframe tbody tr th:only-of-type {\n",
       "        vertical-align: middle;\n",
       "    }\n",
       "\n",
       "    .dataframe tbody tr th {\n",
       "        vertical-align: top;\n",
       "    }\n",
       "\n",
       "    .dataframe thead th {\n",
       "        text-align: right;\n",
       "    }\n",
       "</style>\n",
       "<table border=\"1\" class=\"dataframe\">\n",
       "  <thead>\n",
       "    <tr style=\"text-align: right;\">\n",
       "      <th></th>\n",
       "      <th>Col1</th>\n",
       "      <th>Col2</th>\n",
       "      <th>Col3</th>\n",
       "    </tr>\n",
       "  </thead>\n",
       "  <tbody>\n",
       "    <tr>\n",
       "      <th>2</th>\n",
       "      <td>3</td>\n",
       "      <td>666</td>\n",
       "      <td>ghi</td>\n",
       "    </tr>\n",
       "    <tr>\n",
       "      <th>1</th>\n",
       "      <td>2</td>\n",
       "      <td>555</td>\n",
       "      <td>def</td>\n",
       "    </tr>\n",
       "    <tr>\n",
       "      <th>0</th>\n",
       "      <td>1</td>\n",
       "      <td>444</td>\n",
       "      <td>abc</td>\n",
       "    </tr>\n",
       "    <tr>\n",
       "      <th>3</th>\n",
       "      <td>4</td>\n",
       "      <td>444</td>\n",
       "      <td>xyz</td>\n",
       "    </tr>\n",
       "  </tbody>\n",
       "</table>\n",
       "</div>"
      ],
      "text/plain": [
       "   Col1  Col2 Col3\n",
       "2     3   666  ghi\n",
       "1     2   555  def\n",
       "0     1   444  abc\n",
       "3     4   444  xyz"
      ]
     },
     "execution_count": 325,
     "metadata": {},
     "output_type": "execute_result"
    }
   ],
   "source": [
    "df.sort_values(by='Col2',ascending=False)"
   ]
  },
  {
   "cell_type": "code",
   "execution_count": 328,
   "id": "d62f6ac2",
   "metadata": {},
   "outputs": [
    {
     "data": {
      "text/html": [
       "<div>\n",
       "<style scoped>\n",
       "    .dataframe tbody tr th:only-of-type {\n",
       "        vertical-align: middle;\n",
       "    }\n",
       "\n",
       "    .dataframe tbody tr th {\n",
       "        vertical-align: top;\n",
       "    }\n",
       "\n",
       "    .dataframe thead th {\n",
       "        text-align: right;\n",
       "    }\n",
       "</style>\n",
       "<table border=\"1\" class=\"dataframe\">\n",
       "  <thead>\n",
       "    <tr style=\"text-align: right;\">\n",
       "      <th></th>\n",
       "      <th>#EMPLOYEE_ID</th>\n",
       "      <th>FIRST_NAME</th>\n",
       "      <th>LAST_NAME</th>\n",
       "      <th>ADDRESS1</th>\n",
       "      <th>CITY</th>\n",
       "    </tr>\n",
       "  </thead>\n",
       "  <tbody>\n",
       "    <tr>\n",
       "      <th>0</th>\n",
       "      <td>1921</td>\n",
       "      <td>William</td>\n",
       "      <td>Nelson</td>\n",
       "      <td>4-976 Sugarloaf Hwy</td>\n",
       "      <td>NaN</td>\n",
       "    </tr>\n",
       "    <tr>\n",
       "      <th>1</th>\n",
       "      <td>1922</td>\n",
       "      <td>Ian</td>\n",
       "      <td>Page</td>\n",
       "      <td>PO Box Z-547</td>\n",
       "      <td>Freeport</td>\n",
       "    </tr>\n",
       "    <tr>\n",
       "      <th>2</th>\n",
       "      <td>1923</td>\n",
       "      <td>Lyle</td>\n",
       "      <td>Osborne</td>\n",
       "      <td>4-976 Sugarloaf Hwy</td>\n",
       "      <td>Kapaa Kauai</td>\n",
       "    </tr>\n",
       "    <tr>\n",
       "      <th>3</th>\n",
       "      <td>1928</td>\n",
       "      <td>Leo</td>\n",
       "      <td>De Souza</td>\n",
       "      <td>PO Box Z-547</td>\n",
       "      <td>Freeport</td>\n",
       "    </tr>\n",
       "    <tr>\n",
       "      <th>4</th>\n",
       "      <td>2001</td>\n",
       "      <td>Ira</td>\n",
       "      <td>S. MacDonald</td>\n",
       "      <td>1 Neptune Lane</td>\n",
       "      <td>Kato Paphos</td>\n",
       "    </tr>\n",
       "    <tr>\n",
       "      <th>5</th>\n",
       "      <td>2002</td>\n",
       "      <td>Andy</td>\n",
       "      <td>Hill</td>\n",
       "      <td>PO Box 541</td>\n",
       "      <td>Maui</td>\n",
       "    </tr>\n",
       "    <tr>\n",
       "      <th>6</th>\n",
       "      <td>2003</td>\n",
       "      <td>Monisha</td>\n",
       "      <td>Sawyer</td>\n",
       "      <td>632-1 Third Frydenho</td>\n",
       "      <td>Maui</td>\n",
       "    </tr>\n",
       "    <tr>\n",
       "      <th>7</th>\n",
       "      <td>2006</td>\n",
       "      <td>.St Jean</td>\n",
       "      <td>Bender</td>\n",
       "      <td>23-738 Paddington La</td>\n",
       "      <td>Waipahu</td>\n",
       "    </tr>\n",
       "    <tr>\n",
       "      <th>8</th>\n",
       "      <td>2100</td>\n",
       "      <td>Teddy</td>\n",
       "      <td>Johnson</td>\n",
       "      <td>32 Main St.</td>\n",
       "      <td>Kauai</td>\n",
       "    </tr>\n",
       "    <tr>\n",
       "      <th>9</th>\n",
       "      <td>2102</td>\n",
       "      <td>Ono</td>\n",
       "      <td>Steadman</td>\n",
       "      <td>1 Neptune Lane</td>\n",
       "      <td>Kato Paphos</td>\n",
       "    </tr>\n",
       "    <tr>\n",
       "      <th>10</th>\n",
       "      <td>2103</td>\n",
       "      <td>John</td>\n",
       "      <td>Markowitz</td>\n",
       "      <td>PO Box 541</td>\n",
       "      <td>Koana</td>\n",
       "    </tr>\n",
       "    <tr>\n",
       "      <th>11</th>\n",
       "      <td>2109</td>\n",
       "      <td>Tom</td>\n",
       "      <td>Centre</td>\n",
       "      <td>632-1 Third Frydenho</td>\n",
       "      <td>Christiansted</td>\n",
       "    </tr>\n",
       "  </tbody>\n",
       "</table>\n",
       "</div>"
      ],
      "text/plain": [
       "    #EMPLOYEE_ID FIRST_NAME     LAST_NAME              ADDRESS1           CITY\n",
       "0           1921    William        Nelson   4-976 Sugarloaf Hwy            NaN\n",
       "1           1922        Ian          Page          PO Box Z-547       Freeport\n",
       "2           1923       Lyle       Osborne   4-976 Sugarloaf Hwy    Kapaa Kauai\n",
       "3           1928        Leo      De Souza          PO Box Z-547       Freeport\n",
       "4           2001        Ira  S. MacDonald        1 Neptune Lane    Kato Paphos\n",
       "5           2002       Andy          Hill            PO Box 541           Maui\n",
       "6           2003    Monisha        Sawyer  632-1 Third Frydenho           Maui\n",
       "7           2006   .St Jean        Bender  23-738 Paddington La        Waipahu\n",
       "8           2100      Teddy       Johnson           32 Main St.          Kauai\n",
       "9           2102        Ono      Steadman        1 Neptune Lane    Kato Paphos\n",
       "10          2103       John     Markowitz            PO Box 541          Koana\n",
       "11          2109        Tom        Centre  632-1 Third Frydenho  Christiansted"
      ]
     },
     "execution_count": 328,
     "metadata": {},
     "output_type": "execute_result"
    }
   ],
   "source": [
    "pd.read_csv('C:/Training/t_employees.csv') "
   ]
  },
  {
   "cell_type": "code",
   "execution_count": 1,
   "id": "847f8de3",
   "metadata": {},
   "outputs": [
    {
     "data": {
      "image/png": "[encoded data removed]",
      "text/plain": [
       "<Figure size 640x480 with 1 Axes>"
      ]
     },
     "metadata": {},
     "output_type": "display_data"
    }
   ],
   "source": [
    "import pandas as pd\n",
    "import matplotlib.pyplot as plt\n",
    "\n",
    "df = pd.read_csv('c:/training/data.csv')\n",
    "\n",
    "df.plot()\n",
    "\n",
    "plt.show()"
   ]
  },
  {
   "cell_type": "code",
   "execution_count": null,
   "id": "8e4bb0de",
   "metadata": {},
   "outputs": [],
   "source": [
    "The scatter diagram graphs pairs of numerical data,\n",
    "with one variable on each axis, to look for a relationship between them"
   ]
  },
  {
   "cell_type": "code",
   "execution_count": 3,
   "id": "ac7b02f9",
   "metadata": {},
   "outputs": [
    {
     "data": {
      "image/png": "[encoded data removed]",
      "text/plain": [
       "<Figure size 640x480 with 1 Axes>"
      ]
     },
     "metadata": {},
     "output_type": "display_data"
    }
   ],
   "source": [
    "import pandas as pd\n",
    "import matplotlib.pyplot as plt\n",
    "\n",
    "df = pd.read_csv('c:/training/data.csv')\n",
    "\n",
    "df.plot(kind = 'scatter', x = 'Duration', y = 'Calories')\n",
    "\n",
    "plt.show()"
   ]
  },
  {
   "cell_type": "code",
   "execution_count": 4,
   "id": "d1c97223",
   "metadata": {},
   "outputs": [
    {
     "ename": "SyntaxError",
     "evalue": "invalid syntax (919160823.py, line 1)",
     "output_type": "error",
     "traceback": [
      "\u001b[1;36m  Cell \u001b[1;32mIn[4], line 1\u001b[1;36m\u001b[0m\n\u001b[1;33m    A histogram is a graph that shows the frequency of numerical data using rectangles.\u001b[0m\n\u001b[1;37m      ^\u001b[0m\n\u001b[1;31mSyntaxError\u001b[0m\u001b[1;31m:\u001b[0m invalid syntax\n"
     ]
    }
   ],
   "source": [
    "A histogram is a graph that shows the frequency of numerical data using rectangles."
   ]
  },
  {
   "cell_type": "code",
   "execution_count": 5,
   "id": "e38d130d",
   "metadata": {},
   "outputs": [
    {
     "data": {
      "text/html": [
       "<div>\n",
       "<style scoped>\n",
       "    .dataframe tbody tr th:only-of-type {\n",
       "        vertical-align: middle;\n",
       "    }\n",
       "\n",
       "    .dataframe tbody tr th {\n",
       "        vertical-align: top;\n",
       "    }\n",
       "\n",
       "    .dataframe thead th {\n",
       "        text-align: right;\n",
       "    }\n",
       "</style>\n",
       "<table border=\"1\" class=\"dataframe\">\n",
       "  <thead>\n",
       "    <tr style=\"text-align: right;\">\n",
       "      <th></th>\n",
       "      <th>Duration</th>\n",
       "      <th>Pulse</th>\n",
       "      <th>Maxpulse</th>\n",
       "      <th>Calories</th>\n",
       "    </tr>\n",
       "  </thead>\n",
       "  <tbody>\n",
       "    <tr>\n",
       "      <th>0</th>\n",
       "      <td>60</td>\n",
       "      <td>110</td>\n",
       "      <td>130</td>\n",
       "      <td>409.1</td>\n",
       "    </tr>\n",
       "    <tr>\n",
       "      <th>1</th>\n",
       "      <td>60</td>\n",
       "      <td>117</td>\n",
       "      <td>145</td>\n",
       "      <td>479.0</td>\n",
       "    </tr>\n",
       "    <tr>\n",
       "      <th>2</th>\n",
       "      <td>60</td>\n",
       "      <td>103</td>\n",
       "      <td>135</td>\n",
       "      <td>340.0</td>\n",
       "    </tr>\n",
       "    <tr>\n",
       "      <th>3</th>\n",
       "      <td>45</td>\n",
       "      <td>109</td>\n",
       "      <td>175</td>\n",
       "      <td>282.4</td>\n",
       "    </tr>\n",
       "    <tr>\n",
       "      <th>4</th>\n",
       "      <td>45</td>\n",
       "      <td>117</td>\n",
       "      <td>148</td>\n",
       "      <td>406.0</td>\n",
       "    </tr>\n",
       "    <tr>\n",
       "      <th>...</th>\n",
       "      <td>...</td>\n",
       "      <td>...</td>\n",
       "      <td>...</td>\n",
       "      <td>...</td>\n",
       "    </tr>\n",
       "    <tr>\n",
       "      <th>164</th>\n",
       "      <td>60</td>\n",
       "      <td>105</td>\n",
       "      <td>140</td>\n",
       "      <td>290.8</td>\n",
       "    </tr>\n",
       "    <tr>\n",
       "      <th>165</th>\n",
       "      <td>60</td>\n",
       "      <td>110</td>\n",
       "      <td>145</td>\n",
       "      <td>300.0</td>\n",
       "    </tr>\n",
       "    <tr>\n",
       "      <th>166</th>\n",
       "      <td>60</td>\n",
       "      <td>115</td>\n",
       "      <td>145</td>\n",
       "      <td>310.2</td>\n",
       "    </tr>\n",
       "    <tr>\n",
       "      <th>167</th>\n",
       "      <td>75</td>\n",
       "      <td>120</td>\n",
       "      <td>150</td>\n",
       "      <td>320.4</td>\n",
       "    </tr>\n",
       "    <tr>\n",
       "      <th>168</th>\n",
       "      <td>75</td>\n",
       "      <td>125</td>\n",
       "      <td>150</td>\n",
       "      <td>330.4</td>\n",
       "    </tr>\n",
       "  </tbody>\n",
       "</table>\n",
       "<p>169 rows × 4 columns</p>\n",
       "</div>"
      ],
      "text/plain": [
       "     Duration  Pulse  Maxpulse  Calories\n",
       "0          60    110       130     409.1\n",
       "1          60    117       145     479.0\n",
       "2          60    103       135     340.0\n",
       "3          45    109       175     282.4\n",
       "4          45    117       148     406.0\n",
       "..        ...    ...       ...       ...\n",
       "164        60    105       140     290.8\n",
       "165        60    110       145     300.0\n",
       "166        60    115       145     310.2\n",
       "167        75    120       150     320.4\n",
       "168        75    125       150     330.4\n",
       "\n",
       "[169 rows x 4 columns]"
      ]
     },
     "execution_count": 5,
     "metadata": {},
     "output_type": "execute_result"
    }
   ],
   "source": [
    "df"
   ]
  },
  {
   "cell_type": "code",
   "execution_count": 9,
   "id": "c3e0d123",
   "metadata": {},
   "outputs": [
    {
     "data": {
      "text/plain": [
       "array([[<Axes: title={'center': 'Pulse'}>]], dtype=object)"
      ]
     },
     "execution_count": 9,
     "metadata": {},
     "output_type": "execute_result"
    },
    {
     "data": {
      "image/png": "[encoded data removed]",
      "text/plain": [
       "<Figure size 640x480 with 1 Axes>"
      ]
     },
     "metadata": {},
     "output_type": "display_data"
    }
   ],
   "source": [
    "df.hist('Pulse')"
   ]
  },
  {
   "cell_type": "code",
   "execution_count": null,
   "id": "bd945cc4",
   "metadata": {},
   "outputs": [],
   "source": []
  }
 ],
 "metadata": {
  "kernelspec": {
   "display_name": "Python 3 (ipykernel)",
   "language": "python",
   "name": "python3"
  },
  "language_info": {
   "codemirror_mode": {
    "name": "ipython",
    "version": 3
   },
   "file_extension": ".py",
   "mimetype": "text/x-python",
   "name": "python",
   "nbconvert_exporter": "python",
   "pygments_lexer": "ipython3",
   "version": "3.12.2"
  }
 },
 "nbformat": 4,
 "nbformat_minor": 5
}
