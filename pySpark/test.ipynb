{
 "cells": [
  {
   "cell_type": "code",
   "execution_count": null,
   "id": "6cab0f45-99b1-4c50-86ee-5f896b07ee89",
   "metadata": {},
   "outputs": [],
   "source": [
    "st = \"my name is mikan\"\n",
    "print(st.slice[:-1])"
   ]
  },
  {
   "cell_type": "code",
   "execution_count": null,
   "id": "fc8a5799-872f-4e75-8fe1-87f31b83edce",
   "metadata": {},
   "outputs": [],
   "source": []
  }
 ],
 "metadata": {
  "kernelspec": {
   "display_name": "Python 3 (ipykernel)",
   "language": "python",
   "name": "python3"
  },
  "language_info": {
   "codemirror_mode": {
    "name": "ipython",
    "version": 3
   },
   "file_extension": ".py",
   "mimetype": "text/x-python",
   "name": "python",
   "nbconvert_exporter": "python",
   "pygments_lexer": "ipython3",
   "version": "3.12.2"
  }
 },
 "nbformat": 4,
 "nbformat_minor": 5
}
